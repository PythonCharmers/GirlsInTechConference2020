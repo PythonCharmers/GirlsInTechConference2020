{
 "cells": [
  {
   "cell_type": "markdown",
   "metadata": {
    "slideshow": {
     "slide_type": "slide"
    }
   },
   "source": [
    "# Joy of Tech - Python Coding\n",
    "\n",
    "<img src=\"python_logo.png\" style=\"margin-left: auto; margin-right: auto;\" width=\"200\">\n",
    "\n",
    "Ed Schofield"
   ]
  },
  {
   "cell_type": "code",
   "execution_count": 1,
   "metadata": {
    "slideshow": {
     "slide_type": "fragment"
    }
   },
   "outputs": [],
   "source": [
    "print('Hello, Girls in Tech! \\U0001f4e3')"
   ]
  },
  {
   "cell_type": "markdown",
   "metadata": {
    "slideshow": {
     "slide_type": "subslide"
    }
   },
   "source": [
    "## Who am I?\n",
    "\n",
    "- Dr Edward Schofield (or just \"Ed\")\n",
    "- Founder and CEO of Python Charmers: https://pythoncharmers.com\n",
    "- Based in Melbourne, Australia.\n",
    "\n",
    "\n",
    "We work with Girls in Tech delivering the CODE G bootcamps and Global Classroom program.\n",
    "\n",
    "We teach short courses worldwide in Python and Data Science.\n",
    "\n",
    "<img src=\"ed_telescope_cropped.png\" width=\"200\" style=\"margin-left: auto; margin-right: auto;\">"
   ]
  },
  {
   "cell_type": "markdown",
   "metadata": {
    "slideshow": {
     "slide_type": "subslide"
    }
   },
   "source": [
    "## Goal\n",
    "\n",
    "You can find plenty of other resources to show that coding skills are \"important\".\n",
    "\n",
    "Here we'll focus on what's possible -- and what's fun."
   ]
  },
  {
   "cell_type": "markdown",
   "metadata": {
    "slideshow": {
     "slide_type": "notes"
    }
   },
   "source": [
    "Add a megaphone emoji with \\U0001f4e3 (megaphone) / \\u265b (♛)"
   ]
  },
  {
   "cell_type": "code",
   "execution_count": 2,
   "metadata": {
    "slideshow": {
     "slide_type": "skip"
    }
   },
   "outputs": [],
   "source": [
    "# This makes plots bigger and sharper:\n",
    "%config InlineBackend.figure_format = 'svg'"
   ]
  },
  {
   "cell_type": "markdown",
   "metadata": {
    "slideshow": {
     "slide_type": "subslide"
    }
   },
   "source": [
    "## Structure\n",
    "\n",
    "- 10 live demos of ~3.5 mins each\n",
    "\n",
    "What could possible go wrong? 😀"
   ]
  },
  {
   "cell_type": "markdown",
   "metadata": {
    "slideshow": {
     "slide_type": "slide"
    }
   },
   "source": [
    "## Demo #1: emoji"
   ]
  },
  {
   "cell_type": "code",
   "execution_count": 3,
   "metadata": {
    "slideshow": {
     "slide_type": "subslide"
    }
   },
   "outputs": [],
   "source": [
    "from emoji import emojize, demojize"
   ]
  },
  {
   "cell_type": "code",
   "execution_count": 4,
   "metadata": {
    "slideshow": {
     "slide_type": "fragment"
    }
   },
   "outputs": [],
   "source": [
    "emojize(':megaphone:')"
   ]
  },
  {
   "cell_type": "code",
   "execution_count": 5,
   "metadata": {
    "slideshow": {
     "slide_type": "fragment"
    }
   },
   "outputs": [],
   "source": [
    "demojize('📣')"
   ]
  },
  {
   "cell_type": "code",
   "execution_count": 6,
   "metadata": {
    "slideshow": {
     "slide_type": "subslide"
    }
   },
   "outputs": [],
   "source": [
    "demojize('♻️')"
   ]
  },
  {
   "cell_type": "code",
   "execution_count": 7,
   "metadata": {
    "slideshow": {
     "slide_type": "-"
    }
   },
   "outputs": [],
   "source": [
    "emojize(':broccoli:')"
   ]
  },
  {
   "cell_type": "code",
   "execution_count": 8,
   "metadata": {
    "slideshow": {
     "slide_type": "-"
    }
   },
   "outputs": [],
   "source": [
    "emojize(':drum: :dragon: :sparkles:')"
   ]
  },
  {
   "cell_type": "code",
   "execution_count": 9,
   "metadata": {
    "slideshow": {
     "slide_type": "subslide"
    }
   },
   "outputs": [],
   "source": [
    "icecream = emojize(':soft_ice_cream:')\n",
    "filename = icecream + '.txt'"
   ]
  },
  {
   "cell_type": "code",
   "execution_count": 10,
   "metadata": {
    "slideshow": {
     "slide_type": "fragment"
    }
   },
   "outputs": [],
   "source": [
    "from pathlib import Path\n",
    "\n",
    "Path(filename).write_text(icecream * 100);"
   ]
  },
  {
   "cell_type": "code",
   "execution_count": 11,
   "metadata": {
    "slideshow": {
     "slide_type": "fragment"
    }
   },
   "outputs": [
    {
     "name": "stdout",
     "output_type": "stream",
     "text": [
      "requirements.txt 🍦.txt\r\n"
     ]
    }
   ],
   "source": [
    "!ls *.txt"
   ]
  },
  {
   "cell_type": "code",
   "execution_count": 12,
   "metadata": {
    "slideshow": {
     "slide_type": "skip"
    }
   },
   "outputs": [],
   "source": [
    "# This is for macOS only. For other operating systems, open the file manually:\n",
    "#!open 🍦.txt"
   ]
  },
  {
   "cell_type": "markdown",
   "metadata": {
    "slideshow": {
     "slide_type": "fragment"
    }
   },
   "source": [
    "<img src=\"icecream_text_editor_screenshot.png\" width=600>"
   ]
  },
  {
   "cell_type": "markdown",
   "metadata": {
    "slideshow": {
     "slide_type": "notes"
    }
   },
   "source": [
    "Ask the audience to type into the chat where they are from."
   ]
  },
  {
   "cell_type": "markdown",
   "metadata": {
    "slideshow": {
     "slide_type": "subslide"
    }
   },
   "source": [
    "### Where are you from?\n",
    "\n",
    "Type it in the chat!\n",
    "\n",
    "e.g. \"Reykjavik, Iceland\""
   ]
  },
  {
   "cell_type": "markdown",
   "metadata": {
    "slideshow": {
     "slide_type": "notes"
    }
   },
   "source": [
    "Photos: pre-seeded. \n",
    "\n",
    "US: biggest audience. Pick a few.\n",
    "\n",
    "New York\n",
    "San Francisco\n",
    "Seattle\n",
    "Chicago\n",
    "Rio de Janeiro\n",
    "Paris\n",
    "London\n",
    "Singapore\n",
    "Wellington\n",
    "Melbourne"
   ]
  },
  {
   "cell_type": "code",
   "execution_count": 13,
   "metadata": {
    "slideshow": {
     "slide_type": "subslide"
    }
   },
   "outputs": [],
   "source": [
    "cities = '''\n",
    "Melbourne, Australia\n",
    "San Francisco, United States\n",
    "Lagos, Nigeria\n",
    "Singapore, Singapore\n",
    "Reykjavik, Iceland\n",
    "Kyoto, Japan\n",
    "Lyon, France\n",
    "Hong Kong, China\n",
    "'''"
   ]
  },
  {
   "cell_type": "code",
   "execution_count": 14,
   "metadata": {
    "slideshow": {
     "slide_type": "subslide"
    }
   },
   "outputs": [],
   "source": [
    "# More ...\n",
    "cities += '''\n",
    "Wellington, New Zealand\n",
    "Cairo, Egypt\n",
    "Santiago, Chile\n",
    "Istanbul, Turkey\n",
    "London, United Kingdom\n",
    "New York, United States\n",
    "Seattle, United States\n",
    "'''"
   ]
  },
  {
   "cell_type": "code",
   "execution_count": 15,
   "metadata": {
    "scrolled": true,
    "slideshow": {
     "slide_type": "subslide"
    }
   },
   "outputs": [
    {
     "data": {
      "text/html": [
       "<div>\n",
       "<style scoped>\n",
       "    .dataframe tbody tr th:only-of-type {\n",
       "        vertical-align: middle;\n",
       "    }\n",
       "\n",
       "    .dataframe tbody tr th {\n",
       "        vertical-align: top;\n",
       "    }\n",
       "\n",
       "    .dataframe thead th {\n",
       "        text-align: right;\n",
       "    }\n",
       "</style>\n",
       "<table border=\"1\" class=\"dataframe\">\n",
       "  <thead>\n",
       "    <tr style=\"text-align: right;\">\n",
       "      <th></th>\n",
       "      <th>City</th>\n",
       "      <th>Country</th>\n",
       "    </tr>\n",
       "  </thead>\n",
       "  <tbody>\n",
       "    <tr>\n",
       "      <th>0</th>\n",
       "      <td>Melbourne</td>\n",
       "      <td>Australia</td>\n",
       "    </tr>\n",
       "    <tr>\n",
       "      <th>1</th>\n",
       "      <td>San Francisco</td>\n",
       "      <td>United States</td>\n",
       "    </tr>\n",
       "    <tr>\n",
       "      <th>2</th>\n",
       "      <td>Lagos</td>\n",
       "      <td>Nigeria</td>\n",
       "    </tr>\n",
       "    <tr>\n",
       "      <th>3</th>\n",
       "      <td>Singapore</td>\n",
       "      <td>Singapore</td>\n",
       "    </tr>\n",
       "    <tr>\n",
       "      <th>4</th>\n",
       "      <td>Reykjavik</td>\n",
       "      <td>Iceland</td>\n",
       "    </tr>\n",
       "    <tr>\n",
       "      <th>5</th>\n",
       "      <td>Kyoto</td>\n",
       "      <td>Japan</td>\n",
       "    </tr>\n",
       "    <tr>\n",
       "      <th>6</th>\n",
       "      <td>Lyon</td>\n",
       "      <td>France</td>\n",
       "    </tr>\n",
       "    <tr>\n",
       "      <th>7</th>\n",
       "      <td>Hong Kong</td>\n",
       "      <td>China</td>\n",
       "    </tr>\n",
       "    <tr>\n",
       "      <th>8</th>\n",
       "      <td>Wellington</td>\n",
       "      <td>New Zealand</td>\n",
       "    </tr>\n",
       "    <tr>\n",
       "      <th>9</th>\n",
       "      <td>Cairo</td>\n",
       "      <td>Egypt</td>\n",
       "    </tr>\n",
       "    <tr>\n",
       "      <th>10</th>\n",
       "      <td>Santiago</td>\n",
       "      <td>Chile</td>\n",
       "    </tr>\n",
       "    <tr>\n",
       "      <th>11</th>\n",
       "      <td>Istanbul</td>\n",
       "      <td>Turkey</td>\n",
       "    </tr>\n",
       "    <tr>\n",
       "      <th>12</th>\n",
       "      <td>London</td>\n",
       "      <td>United Kingdom</td>\n",
       "    </tr>\n",
       "    <tr>\n",
       "      <th>13</th>\n",
       "      <td>New York</td>\n",
       "      <td>United States</td>\n",
       "    </tr>\n",
       "    <tr>\n",
       "      <th>14</th>\n",
       "      <td>Seattle</td>\n",
       "      <td>United States</td>\n",
       "    </tr>\n",
       "  </tbody>\n",
       "</table>\n",
       "</div>"
      ],
      "text/plain": [
       "             City         Country\n",
       "0       Melbourne       Australia\n",
       "1   San Francisco   United States\n",
       "2           Lagos         Nigeria\n",
       "3       Singapore       Singapore\n",
       "4       Reykjavik         Iceland\n",
       "5           Kyoto           Japan\n",
       "6            Lyon          France\n",
       "7       Hong Kong           China\n",
       "8      Wellington     New Zealand\n",
       "9           Cairo           Egypt\n",
       "10       Santiago           Chile\n",
       "11       Istanbul          Turkey\n",
       "12         London  United Kingdom\n",
       "13       New York   United States\n",
       "14        Seattle   United States"
      ]
     },
     "execution_count": 15,
     "metadata": {},
     "output_type": "execute_result"
    }
   ],
   "source": [
    "import pandas as pd\n",
    "from io import StringIO\n",
    "\n",
    "places = pd.read_csv(StringIO(cities),\n",
    "                     names=['City', 'Country'],\n",
    "                     skipinitialspace=True)\n",
    "\n",
    "places"
   ]
  },
  {
   "cell_type": "markdown",
   "metadata": {
    "slideshow": {
     "slide_type": "subslide"
    }
   },
   "source": [
    "### Emoji flags"
   ]
  },
  {
   "cell_type": "code",
   "execution_count": 16,
   "metadata": {
    "slideshow": {
     "slide_type": "fragment"
    }
   },
   "outputs": [
    {
     "data": {
      "text/plain": [
       "'🇮🇸'"
      ]
     },
     "execution_count": 16,
     "metadata": {},
     "output_type": "execute_result"
    }
   ],
   "source": [
    "emojize(':Iceland:')"
   ]
  },
  {
   "cell_type": "code",
   "execution_count": 17,
   "metadata": {
    "slideshow": {
     "slide_type": "fragment"
    }
   },
   "outputs": [],
   "source": [
    "def get_flag(country):\n",
    "    return emojize(f':{country}:')"
   ]
  },
  {
   "cell_type": "code",
   "execution_count": 18,
   "metadata": {
    "slideshow": {
     "slide_type": "fragment"
    }
   },
   "outputs": [],
   "source": [
    "places['Flag'] = places['Country'].str.replace(' ', '_').apply(get_flag)"
   ]
  },
  {
   "cell_type": "code",
   "execution_count": 19,
   "metadata": {
    "slideshow": {
     "slide_type": "subslide"
    }
   },
   "outputs": [
    {
     "data": {
      "text/html": [
       "<div>\n",
       "<style scoped>\n",
       "    .dataframe tbody tr th:only-of-type {\n",
       "        vertical-align: middle;\n",
       "    }\n",
       "\n",
       "    .dataframe tbody tr th {\n",
       "        vertical-align: top;\n",
       "    }\n",
       "\n",
       "    .dataframe thead th {\n",
       "        text-align: right;\n",
       "    }\n",
       "</style>\n",
       "<table border=\"1\" class=\"dataframe\">\n",
       "  <thead>\n",
       "    <tr style=\"text-align: right;\">\n",
       "      <th></th>\n",
       "      <th>City</th>\n",
       "      <th>Country</th>\n",
       "      <th>Flag</th>\n",
       "    </tr>\n",
       "  </thead>\n",
       "  <tbody>\n",
       "    <tr>\n",
       "      <th>0</th>\n",
       "      <td>Melbourne</td>\n",
       "      <td>Australia</td>\n",
       "      <td>🇦🇺</td>\n",
       "    </tr>\n",
       "    <tr>\n",
       "      <th>1</th>\n",
       "      <td>San Francisco</td>\n",
       "      <td>United States</td>\n",
       "      <td>🇺🇸</td>\n",
       "    </tr>\n",
       "    <tr>\n",
       "      <th>2</th>\n",
       "      <td>Lagos</td>\n",
       "      <td>Nigeria</td>\n",
       "      <td>🇳🇬</td>\n",
       "    </tr>\n",
       "    <tr>\n",
       "      <th>3</th>\n",
       "      <td>Singapore</td>\n",
       "      <td>Singapore</td>\n",
       "      <td>🇸🇬</td>\n",
       "    </tr>\n",
       "    <tr>\n",
       "      <th>4</th>\n",
       "      <td>Reykjavik</td>\n",
       "      <td>Iceland</td>\n",
       "      <td>🇮🇸</td>\n",
       "    </tr>\n",
       "    <tr>\n",
       "      <th>5</th>\n",
       "      <td>Kyoto</td>\n",
       "      <td>Japan</td>\n",
       "      <td>🇯🇵</td>\n",
       "    </tr>\n",
       "    <tr>\n",
       "      <th>6</th>\n",
       "      <td>Lyon</td>\n",
       "      <td>France</td>\n",
       "      <td>🇫🇷</td>\n",
       "    </tr>\n",
       "    <tr>\n",
       "      <th>7</th>\n",
       "      <td>Hong Kong</td>\n",
       "      <td>China</td>\n",
       "      <td>🇨🇳</td>\n",
       "    </tr>\n",
       "    <tr>\n",
       "      <th>8</th>\n",
       "      <td>Wellington</td>\n",
       "      <td>New Zealand</td>\n",
       "      <td>🇳🇿</td>\n",
       "    </tr>\n",
       "    <tr>\n",
       "      <th>9</th>\n",
       "      <td>Cairo</td>\n",
       "      <td>Egypt</td>\n",
       "      <td>🇪🇬</td>\n",
       "    </tr>\n",
       "    <tr>\n",
       "      <th>10</th>\n",
       "      <td>Santiago</td>\n",
       "      <td>Chile</td>\n",
       "      <td>🇨🇱</td>\n",
       "    </tr>\n",
       "    <tr>\n",
       "      <th>11</th>\n",
       "      <td>Istanbul</td>\n",
       "      <td>Turkey</td>\n",
       "      <td>🇹🇷</td>\n",
       "    </tr>\n",
       "    <tr>\n",
       "      <th>12</th>\n",
       "      <td>London</td>\n",
       "      <td>United Kingdom</td>\n",
       "      <td>🇬🇧</td>\n",
       "    </tr>\n",
       "    <tr>\n",
       "      <th>13</th>\n",
       "      <td>New York</td>\n",
       "      <td>United States</td>\n",
       "      <td>🇺🇸</td>\n",
       "    </tr>\n",
       "    <tr>\n",
       "      <th>14</th>\n",
       "      <td>Seattle</td>\n",
       "      <td>United States</td>\n",
       "      <td>🇺🇸</td>\n",
       "    </tr>\n",
       "  </tbody>\n",
       "</table>\n",
       "</div>"
      ],
      "text/plain": [
       "             City         Country Flag\n",
       "0       Melbourne       Australia   🇦🇺\n",
       "1   San Francisco   United States   🇺🇸\n",
       "2           Lagos         Nigeria   🇳🇬\n",
       "3       Singapore       Singapore   🇸🇬\n",
       "4       Reykjavik         Iceland   🇮🇸\n",
       "5           Kyoto           Japan   🇯🇵\n",
       "6            Lyon          France   🇫🇷\n",
       "7       Hong Kong           China   🇨🇳\n",
       "8      Wellington     New Zealand   🇳🇿\n",
       "9           Cairo           Egypt   🇪🇬\n",
       "10       Santiago           Chile   🇨🇱\n",
       "11       Istanbul          Turkey   🇹🇷\n",
       "12         London  United Kingdom   🇬🇧\n",
       "13       New York   United States   🇺🇸\n",
       "14        Seattle   United States   🇺🇸"
      ]
     },
     "execution_count": 19,
     "metadata": {},
     "output_type": "execute_result"
    }
   ],
   "source": [
    "places"
   ]
  },
  {
   "cell_type": "code",
   "execution_count": 20,
   "metadata": {
    "slideshow": {
     "slide_type": "subslide"
    }
   },
   "outputs": [],
   "source": [
    "places.to_excel('places.xlsx', index=False)"
   ]
  },
  {
   "cell_type": "code",
   "execution_count": 21,
   "metadata": {
    "slideshow": {
     "slide_type": "skip"
    }
   },
   "outputs": [],
   "source": [
    "# This is for macOS only. For other operating systems, open the file manually:\n",
    "#!open places.xlsx"
   ]
  },
  {
   "cell_type": "markdown",
   "metadata": {
    "slideshow": {
     "slide_type": "slide"
    }
   },
   "source": [
    "## Demo #2: Sending a text message\n",
    "\n",
    "There are API services for messaging like Twilio."
   ]
  },
  {
   "cell_type": "code",
   "execution_count": 22,
   "metadata": {
    "slideshow": {
     "slide_type": "subslide"
    }
   },
   "outputs": [
    {
     "data": {
      "text/plain": [
       "'Hello ✨!'"
      ]
     },
     "execution_count": 22,
     "metadata": {},
     "output_type": "execute_result"
    }
   ],
   "source": [
    "message = emojize('Hello :sparkles:!')\n",
    "message"
   ]
  },
  {
   "cell_type": "markdown",
   "metadata": {
    "slideshow": {
     "slide_type": "notes"
    }
   },
   "source": [
    "This uses the Telstra Messaging API: https://dev.telstra.com. To use it, you'll need to sign up for an API key.\n"
   ]
  },
  {
   "cell_type": "code",
   "execution_count": 23,
   "metadata": {
    "slideshow": {
     "slide_type": "subslide"
    }
   },
   "outputs": [],
   "source": [
    "from messaging import sms\n",
    "\n",
    "sms('+61405676229', message)"
   ]
  },
  {
   "cell_type": "markdown",
   "metadata": {
    "slideshow": {
     "slide_type": "fragment"
    }
   },
   "source": [
    "<img src=\"SMS_screenshot.jpg\" width=200>"
   ]
  },
  {
   "cell_type": "markdown",
   "metadata": {
    "slideshow": {
     "slide_type": "fragment"
    }
   },
   "source": [
    "… or many messages.\n",
    "\n",
    "Use case: Customer notifications (Uber, Amazon, Apple, DHL, ...)"
   ]
  },
  {
   "cell_type": "markdown",
   "metadata": {
    "slideshow": {
     "slide_type": "subslide"
    }
   },
   "source": [
    "### Loops: computers 🧡 repetition"
   ]
  },
  {
   "cell_type": "code",
   "execution_count": 24,
   "metadata": {
    "slideshow": {
     "slide_type": "fragment"
    }
   },
   "outputs": [
    {
     "name": "stdout",
     "output_type": "stream",
     "text": [
      "Hello ✨!\n",
      "Hello ✨!\n",
      "Hello ✨!\n",
      "Hello ✨!\n",
      "Hello ✨!\n"
     ]
    }
   ],
   "source": [
    "from time import sleep\n",
    "\n",
    "for i in range(5):\n",
    "    print(message)\n",
    "    sleep(1)"
   ]
  },
  {
   "cell_type": "code",
   "execution_count": 25,
   "metadata": {
    "slideshow": {
     "slide_type": "subslide"
    }
   },
   "outputs": [
    {
     "name": "stdout",
     "output_type": "stream",
     "text": [
      "Sending 1 million notifications ...\n"
     ]
    },
    {
     "name": "stderr",
     "output_type": "stream",
     "text": [
      "100%|██████████| 1000000/1000000 [00:04<00:00, 223085.55it/s]\n"
     ]
    }
   ],
   "source": [
    "from tqdm import tqdm as progress\n",
    "\n",
    "print('Sending 1 million notifications ...', flush=True)\n",
    "for i in progress(range(10**6)):\n",
    "    sleep(10**-6)"
   ]
  },
  {
   "cell_type": "markdown",
   "metadata": {
    "slideshow": {
     "slide_type": "slide"
    }
   },
   "source": [
    "## Demo #3: Fetching images via an API\n",
    "\n",
    "<img src=\"https://dog.ceo/img/dog.jpg\" width=300>"
   ]
  },
  {
   "cell_type": "code",
   "execution_count": 26,
   "metadata": {
    "slideshow": {
     "slide_type": "subslide"
    }
   },
   "outputs": [
    {
     "data": {
      "text/plain": [
       "['affenpinscher',\n",
       " 'african',\n",
       " 'airedale',\n",
       " 'akita',\n",
       " 'appenzeller',\n",
       " 'australian',\n",
       " 'basenji',\n",
       " 'beagle',\n",
       " 'bluetick',\n",
       " 'borzoi']"
      ]
     },
     "execution_count": 26,
     "metadata": {},
     "output_type": "execute_result"
    }
   ],
   "source": [
    "import requests\n",
    "\n",
    "dog_breeds_url = 'https://dog.ceo/api/breeds/list/all'\n",
    "response = requests.get(dog_breeds_url)\n",
    "breeds = response.json()['message']\n",
    "\n",
    "list(breeds)[:10]"
   ]
  },
  {
   "cell_type": "markdown",
   "metadata": {
    "slideshow": {
     "slide_type": "subslide"
    }
   },
   "source": [
    "Wrapping code in a function lets you call it at will."
   ]
  },
  {
   "cell_type": "code",
   "execution_count": 27,
   "metadata": {
    "slideshow": {
     "slide_type": "fragment"
    }
   },
   "outputs": [],
   "source": [
    "import random\n",
    "from IPython.display import Image\n",
    "\n",
    "def get_dog(breed):\n",
    "    dog_url = f'https://dog.ceo/api/breed/{breed}/images'\n",
    "    response = requests.get(dog_url)\n",
    "    photo_urls = response.json()['message']\n",
    "    photo_url = random.choice(photo_urls)\n",
    "    response = requests.get(photo_url)\n",
    "    return Image(response.content)"
   ]
  },
  {
   "cell_type": "code",
   "execution_count": 28,
   "metadata": {
    "scrolled": false,
    "slideshow": {
     "slide_type": "fragment"
    }
   },
   "outputs": [
    {
     "data": {
      "image/jpeg": "[encoded data removed]",
      "text/plain": [
       "<IPython.core.display.Image object>"
      ]
     },
     "execution_count": 28,
     "metadata": {},
     "output_type": "execute_result"
    }
   ],
   "source": [
    "dog = get_dog('collie')\n",
    "dog"
   ]
  },
  {
   "cell_type": "markdown",
   "metadata": {
    "slideshow": {
     "slide_type": "slide"
    }
   },
   "source": [
    "## Demo #4: Gluing together different services"
   ]
  },
  {
   "cell_type": "markdown",
   "metadata": {
    "slideshow": {
     "slide_type": "fragment"
    }
   },
   "source": [
    "What's next? We can use Python to glue together many different web services. This shows sending a photo to a phone via MMS:"
   ]
  },
  {
   "cell_type": "code",
   "execution_count": 29,
   "metadata": {
    "slideshow": {
     "slide_type": "fragment"
    }
   },
   "outputs": [],
   "source": [
    "from messaging import mms\n",
    "\n",
    "mms('+61405676229', dog)"
   ]
  },
  {
   "cell_type": "markdown",
   "metadata": {
    "slideshow": {
     "slide_type": "-"
    }
   },
   "source": [
    "<img src=\"MMS_screenshot.jpg\" width=200>"
   ]
  },
  {
   "cell_type": "markdown",
   "metadata": {
    "slideshow": {
     "slide_type": "subslide"
    }
   },
   "source": [
    "Now we can add an interface allowing user selection:"
   ]
  },
  {
   "cell_type": "code",
   "execution_count": 30,
   "metadata": {
    "slideshow": {
     "slide_type": "fragment"
    }
   },
   "outputs": [
    {
     "data": {
      "application/vnd.jupyter.widget-view+json": {
       "model_id": "6331849222014ad3b2c024e243c99595",
       "version_major": 2,
       "version_minor": 0
      },
      "text/plain": [
       "interactive(children=(Dropdown(description='breed', options=('affenpinscher', 'african', 'airedale', 'akita', …"
      ]
     },
     "metadata": {},
     "output_type": "display_data"
    }
   ],
   "source": [
    "from ipywidgets import interact\n",
    "\n",
    "interact(get_dog, breed=list(breeds));"
   ]
  },
  {
   "cell_type": "markdown",
   "metadata": {},
   "source": [
    "<img src=\"interact_dog_screenshot.png\" width=400>"
   ]
  },
  {
   "cell_type": "markdown",
   "metadata": {
    "slideshow": {
     "slide_type": "fragment"
    }
   },
   "source": [
    "We'll come back to more kinds of interactivity later."
   ]
  },
  {
   "cell_type": "markdown",
   "metadata": {
    "slideshow": {
     "slide_type": "subslide"
    }
   },
   "source": [
    "### Wikipedia\n",
    "\n",
    "There's a Python package for almost everything ..."
   ]
  },
  {
   "cell_type": "code",
   "execution_count": 31,
   "metadata": {
    "slideshow": {
     "slide_type": "fragment"
    }
   },
   "outputs": [
    {
     "data": {
      "text/plain": [
       "'Girls in Tech is a global non-profit organization focused on the engagement, education, and empowerment of women in technology. Founded in 2007 by Adriana Gascoigne, the organization has grown from Sa'"
      ]
     },
     "execution_count": 31,
     "metadata": {},
     "output_type": "execute_result"
    }
   ],
   "source": [
    "import wikipedia\n",
    "\n",
    "page = wikipedia.page('Girls in Tech')\n",
    "page.content[:200]"
   ]
  },
  {
   "cell_type": "markdown",
   "metadata": {
    "slideshow": {
     "slide_type": "subslide"
    }
   },
   "source": [
    "### Word clouds"
   ]
  },
  {
   "cell_type": "code",
   "execution_count": 32,
   "metadata": {
    "scrolled": true,
    "slideshow": {
     "slide_type": "fragment"
    }
   },
   "outputs": [
    {
     "data": {
      "image/png": "[encoded data removed]",
      "text/plain": [
       "<PIL.Image.Image image mode=RGB size=400x200 at 0x7FAAD320CE20>"
      ]
     },
     "execution_count": 32,
     "metadata": {},
     "output_type": "execute_result"
    }
   ],
   "source": [
    "import wordcloud\n",
    "\n",
    "c = wordcloud.WordCloud(background_color='white')\n",
    "\n",
    "c.generate(page.content).to_image()"
   ]
  },
  {
   "cell_type": "markdown",
   "metadata": {
    "slideshow": {
     "slide_type": "subslide"
    }
   },
   "source": [
    "### Code re-use\n",
    "\n",
    "We can link these two with another custom function:"
   ]
  },
  {
   "cell_type": "code",
   "execution_count": 33,
   "metadata": {
    "slideshow": {
     "slide_type": "fragment"
    }
   },
   "outputs": [],
   "source": [
    "def wikicloud(search_term):\n",
    "    page = wikipedia.page(search_term, auto_suggest=False)\n",
    "    c = wordcloud.WordCloud(background_color='white')\n",
    "    return c.generate(page.content).to_image()"
   ]
  },
  {
   "cell_type": "markdown",
   "metadata": {
    "slideshow": {
     "slide_type": "fragment"
    }
   },
   "source": [
    "Now a custom \"Wikicloud\" is just a function call away ..."
   ]
  },
  {
   "cell_type": "markdown",
   "metadata": {
    "slideshow": {
     "slide_type": "slide"
    }
   },
   "source": [
    "## Demo #5: Interactivity"
   ]
  },
  {
   "cell_type": "code",
   "execution_count": 34,
   "metadata": {
    "slideshow": {
     "slide_type": "fragment"
    }
   },
   "outputs": [
    {
     "data": {
      "application/vnd.jupyter.widget-view+json": {
       "model_id": "0e55fc9494b64312a4b27743fb0e15f0",
       "version_major": 2,
       "version_minor": 0
      },
      "text/plain": [
       "interactive(children=(Text(value='Girls in Tech', description='search_term'), Button(description='Run Interact…"
      ]
     },
     "metadata": {},
     "output_type": "display_data"
    }
   ],
   "source": [
    "from ipywidgets import interact_manual\n",
    "\n",
    "interact_manual(wikicloud, search_term='Girls in Tech');"
   ]
  },
  {
   "cell_type": "markdown",
   "metadata": {},
   "source": [
    "<img src=\"interact_wikicloud_screenshot.png\" width=400>"
   ]
  },
  {
   "cell_type": "markdown",
   "metadata": {
    "slideshow": {
     "slide_type": "subslide"
    }
   },
   "source": [
    "### City photos"
   ]
  },
  {
   "cell_type": "code",
   "execution_count": 35,
   "metadata": {
    "slideshow": {
     "slide_type": "fragment"
    }
   },
   "outputs": [],
   "source": [
    "page = wikipedia.page(title='London')\n",
    "\n",
    "photos = [url for url in page.images if url.endswith('.jpg')]"
   ]
  },
  {
   "cell_type": "code",
   "execution_count": 36,
   "metadata": {
    "slideshow": {
     "slide_type": "fragment"
    }
   },
   "outputs": [
    {
     "data": {
      "application/vnd.jupyter.widget-view+json": {
       "model_id": "3bca763b49874f9885a4c2172224f3bd",
       "version_major": 2,
       "version_minor": 0
      },
      "text/plain": [
       "interactive(children=(Dropdown(description='url', options=('https://upload.wikimedia.org/wikipedia/commons/4/4…"
      ]
     },
     "metadata": {},
     "output_type": "display_data"
    }
   ],
   "source": [
    "show_image = lambda url: Image(url)\n",
    "\n",
    "interact(show_image, url=photos);"
   ]
  },
  {
   "cell_type": "markdown",
   "metadata": {},
   "source": [
    "<img src=\"interact_wikiimage_screenshot.png\" width=800>"
   ]
  },
  {
   "cell_type": "markdown",
   "metadata": {
    "slideshow": {
     "slide_type": "slide"
    }
   },
   "source": [
    "## Demo #6: Real-time services: weather right now"
   ]
  },
  {
   "cell_type": "markdown",
   "metadata": {
    "slideshow": {
     "slide_type": "fragment"
    }
   },
   "source": [
    "These days there are over a million APIs available.\n",
    "\n",
    "Here I'll use one called OpenWeatherMap for fetching weather data from anywhere on Earth."
   ]
  },
  {
   "cell_type": "code",
   "execution_count": 37,
   "metadata": {
    "slideshow": {
     "slide_type": "fragment"
    }
   },
   "outputs": [
    {
     "data": {
      "text/plain": [
       "'https://api.openweathermap.org/data/2.5/weather'"
      ]
     },
     "execution_count": 37,
     "metadata": {},
     "output_type": "execute_result"
    }
   ],
   "source": [
    "from tools import weather_url, weather_api_key\n",
    "\n",
    "weather_url"
   ]
  },
  {
   "cell_type": "code",
   "execution_count": 38,
   "metadata": {
    "slideshow": {
     "slide_type": "fragment"
    }
   },
   "outputs": [],
   "source": [
    "def get_weather(city):\n",
    "    params = {'q': city, 'appid': weather_api_key, 'units': 'metric'}\n",
    "    response = requests.get(weather_url, params)\n",
    "    if response.status_code != 200:\n",
    "        return None\n",
    "    weather = response.json()\n",
    "    return weather"
   ]
  },
  {
   "cell_type": "code",
   "execution_count": 39,
   "metadata": {
    "slideshow": {
     "slide_type": "subslide"
    }
   },
   "outputs": [
    {
     "name": "stdout",
     "output_type": "stream",
     "text": [
      "{'base': 'stations',\n",
      " 'clouds': {'all': 90},\n",
      " 'cod': 200,\n",
      " 'coord': {'lat': 64.14, 'lon': -21.9},\n",
      " 'dt': 1599699517,\n",
      " 'id': 3413829,\n",
      " 'main': {'feels_like': 3.72,\n",
      "          'humidity': 81,\n",
      "          'pressure': 1001,\n",
      "          'temp': 9,\n",
      "          'temp_max': 9,\n",
      "          'temp_min': 9},\n",
      " 'name': 'Reykjavik',\n",
      " 'sys': {'country': 'IS',\n",
      "         'id': 91,\n",
      "         'sunrise': 1599719846,\n",
      "         'sunset': 1599768708,\n",
      "         'type': 1},\n",
      " 'timezone': 0,\n",
      " 'visibility': 10000,\n",
      " 'weather': [{'description': 'overcast clouds',\n",
      "              'icon': '04n',\n",
      "              'id': 804,\n",
      "              'main': 'Clouds'}],\n",
      " 'wind': {'deg': 160, 'speed': 6.2}}\n"
     ]
    }
   ],
   "source": [
    "from pprint import pprint    # pretty print\n",
    "\n",
    "pprint(get_weather('Reykjavik,IS'))"
   ]
  },
  {
   "cell_type": "markdown",
   "metadata": {
    "slideshow": {
     "slide_type": "subslide"
    }
   },
   "source": [
    "### Temperatures"
   ]
  },
  {
   "cell_type": "code",
   "execution_count": 40,
   "metadata": {
    "slideshow": {
     "slide_type": "fragment"
    }
   },
   "outputs": [
    {
     "data": {
      "text/plain": [
       "9"
      ]
     },
     "execution_count": 40,
     "metadata": {},
     "output_type": "execute_result"
    }
   ],
   "source": [
    "from tools import get_temperature\n",
    "\n",
    "get_temperature('Reykjavik,IS')"
   ]
  },
  {
   "cell_type": "markdown",
   "metadata": {
    "slideshow": {
     "slide_type": "subslide"
    }
   },
   "source": [
    "### Weather icons\n",
    "\n",
    "The API provides URLs of little icons representing the weather.\n",
    "\n",
    "<img src=\"openweathermap_result_icon_highlight.png\" width=300>"
   ]
  },
  {
   "cell_type": "markdown",
   "metadata": {
    "slideshow": {
     "slide_type": "subslide"
    }
   },
   "source": [
    "Here's how we can display these."
   ]
  },
  {
   "cell_type": "code",
   "execution_count": 41,
   "metadata": {
    "slideshow": {
     "slide_type": "fragment"
    }
   },
   "outputs": [],
   "source": [
    "def get_icon_url(icon_code, size=2):\n",
    "    return f'http://openweathermap.org/img/wn/{icon_code}@{size}x.png'\n",
    "\n",
    "def get_icon(icon_code, size=2):\n",
    "    return Image(get_icon_url(icon_code, size))"
   ]
  },
  {
   "cell_type": "code",
   "execution_count": 42,
   "metadata": {
    "slideshow": {
     "slide_type": "skip"
    }
   },
   "outputs": [],
   "source": [
    "# For the live presentation, this makes use of the pre-downloaded icons for speed:\n",
    "from tools import get_icon"
   ]
  },
  {
   "cell_type": "code",
   "execution_count": 43,
   "metadata": {
    "slideshow": {
     "slide_type": "fragment"
    }
   },
   "outputs": [
    {
     "data": {
      "image/png": "[encoded data removed]",
      "text/plain": [
       "<IPython.core.display.Image object>"
      ]
     },
     "execution_count": 43,
     "metadata": {},
     "output_type": "execute_result"
    }
   ],
   "source": [
    "def weather_icon(city, size=2):\n",
    "    weather = get_weather(city)\n",
    "    icon_code = weather['weather'][0]['icon']\n",
    "    return get_icon(icon_code, size=size)\n",
    "\n",
    "weather_icon('Seattle,US')"
   ]
  },
  {
   "cell_type": "markdown",
   "metadata": {
    "slideshow": {
     "slide_type": "subslide"
    }
   },
   "source": [
    "Can we apply this function to every row? Not yet: the API requires ISO country codes to disambiguate city names from different countries.\n",
    "\n",
    "This loads a countries dataset from another file:"
   ]
  },
  {
   "cell_type": "code",
   "execution_count": 44,
   "metadata": {
    "slideshow": {
     "slide_type": "fragment"
    }
   },
   "outputs": [
    {
     "data": {
      "text/html": [
       "<div>\n",
       "<style scoped>\n",
       "    .dataframe tbody tr th:only-of-type {\n",
       "        vertical-align: middle;\n",
       "    }\n",
       "\n",
       "    .dataframe tbody tr th {\n",
       "        vertical-align: top;\n",
       "    }\n",
       "\n",
       "    .dataframe thead th {\n",
       "        text-align: right;\n",
       "    }\n",
       "</style>\n",
       "<table border=\"1\" class=\"dataframe\">\n",
       "  <thead>\n",
       "    <tr style=\"text-align: right;\">\n",
       "      <th></th>\n",
       "      <th>Country Code</th>\n",
       "      <th>Capital</th>\n",
       "    </tr>\n",
       "    <tr>\n",
       "      <th>Country</th>\n",
       "      <th></th>\n",
       "      <th></th>\n",
       "    </tr>\n",
       "  </thead>\n",
       "  <tbody>\n",
       "    <tr>\n",
       "      <th>Afghanistan</th>\n",
       "      <td>AF</td>\n",
       "      <td>Kabul</td>\n",
       "    </tr>\n",
       "    <tr>\n",
       "      <th>Albania</th>\n",
       "      <td>AL</td>\n",
       "      <td>Tirana</td>\n",
       "    </tr>\n",
       "    <tr>\n",
       "      <th>Algeria</th>\n",
       "      <td>DZ</td>\n",
       "      <td>Algiers</td>\n",
       "    </tr>\n",
       "    <tr>\n",
       "      <th>Andorra</th>\n",
       "      <td>AD</td>\n",
       "      <td>Andorra la Vella</td>\n",
       "    </tr>\n",
       "    <tr>\n",
       "      <th>Angola</th>\n",
       "      <td>AO</td>\n",
       "      <td>Luanda</td>\n",
       "    </tr>\n",
       "    <tr>\n",
       "      <th>Antigua and Barbuda</th>\n",
       "      <td>AG</td>\n",
       "      <td>St. John's</td>\n",
       "    </tr>\n",
       "    <tr>\n",
       "      <th>Azerbaijan</th>\n",
       "      <td>AZ</td>\n",
       "      <td>Baku</td>\n",
       "    </tr>\n",
       "    <tr>\n",
       "      <th>Argentina</th>\n",
       "      <td>AR</td>\n",
       "      <td>Buenos Aires</td>\n",
       "    </tr>\n",
       "  </tbody>\n",
       "</table>\n",
       "</div>"
      ],
      "text/plain": [
       "                    Country Code           Capital\n",
       "Country                                           \n",
       "Afghanistan                   AF             Kabul\n",
       "Albania                       AL            Tirana\n",
       "Algeria                       DZ           Algiers\n",
       "Andorra                       AD  Andorra la Vella\n",
       "Angola                        AO            Luanda\n",
       "Antigua and Barbuda           AG        St. John's\n",
       "Azerbaijan                    AZ              Baku\n",
       "Argentina                     AR      Buenos Aires"
      ]
     },
     "execution_count": 44,
     "metadata": {},
     "output_type": "execute_result"
    }
   ],
   "source": [
    "all_countries = pd.read_hdf('countries.h5')\n",
    "\n",
    "all_countries[:8]"
   ]
  },
  {
   "cell_type": "markdown",
   "metadata": {
    "slideshow": {
     "slide_type": "subslide"
    }
   },
   "source": [
    "### Joining datasets\n",
    "\n",
    "This code (using the *Pandas* package) performs a database-style \"join\" operation to fetch the country code for all the participants' locations."
   ]
  },
  {
   "cell_type": "code",
   "execution_count": 45,
   "metadata": {
    "slideshow": {
     "slide_type": "fragment"
    }
   },
   "outputs": [
    {
     "data": {
      "text/html": [
       "<div>\n",
       "<style scoped>\n",
       "    .dataframe tbody tr th:only-of-type {\n",
       "        vertical-align: middle;\n",
       "    }\n",
       "\n",
       "    .dataframe tbody tr th {\n",
       "        vertical-align: top;\n",
       "    }\n",
       "\n",
       "    .dataframe thead th {\n",
       "        text-align: right;\n",
       "    }\n",
       "</style>\n",
       "<table border=\"1\" class=\"dataframe\">\n",
       "  <thead>\n",
       "    <tr style=\"text-align: right;\">\n",
       "      <th></th>\n",
       "      <th>Country</th>\n",
       "      <th>City</th>\n",
       "      <th>Flag</th>\n",
       "      <th>Country Code</th>\n",
       "    </tr>\n",
       "  </thead>\n",
       "  <tbody>\n",
       "    <tr>\n",
       "      <th>0</th>\n",
       "      <td>Australia</td>\n",
       "      <td>Melbourne</td>\n",
       "      <td>🇦🇺</td>\n",
       "      <td>AU</td>\n",
       "    </tr>\n",
       "    <tr>\n",
       "      <th>1</th>\n",
       "      <td>Chile</td>\n",
       "      <td>Santiago</td>\n",
       "      <td>🇨🇱</td>\n",
       "      <td>CL</td>\n",
       "    </tr>\n",
       "    <tr>\n",
       "      <th>2</th>\n",
       "      <td>China</td>\n",
       "      <td>Hong Kong</td>\n",
       "      <td>🇨🇳</td>\n",
       "      <td>CN</td>\n",
       "    </tr>\n",
       "    <tr>\n",
       "      <th>3</th>\n",
       "      <td>Egypt</td>\n",
       "      <td>Cairo</td>\n",
       "      <td>🇪🇬</td>\n",
       "      <td>EG</td>\n",
       "    </tr>\n",
       "    <tr>\n",
       "      <th>4</th>\n",
       "      <td>France</td>\n",
       "      <td>Lyon</td>\n",
       "      <td>🇫🇷</td>\n",
       "      <td>FR</td>\n",
       "    </tr>\n",
       "    <tr>\n",
       "      <th>5</th>\n",
       "      <td>Iceland</td>\n",
       "      <td>Reykjavik</td>\n",
       "      <td>🇮🇸</td>\n",
       "      <td>IS</td>\n",
       "    </tr>\n",
       "    <tr>\n",
       "      <th>6</th>\n",
       "      <td>Japan</td>\n",
       "      <td>Kyoto</td>\n",
       "      <td>🇯🇵</td>\n",
       "      <td>JP</td>\n",
       "    </tr>\n",
       "    <tr>\n",
       "      <th>7</th>\n",
       "      <td>New Zealand</td>\n",
       "      <td>Wellington</td>\n",
       "      <td>🇳🇿</td>\n",
       "      <td>NZ</td>\n",
       "    </tr>\n",
       "  </tbody>\n",
       "</table>\n",
       "</div>"
      ],
      "text/plain": [
       "       Country        City Flag Country Code\n",
       "0    Australia   Melbourne   🇦🇺           AU\n",
       "1        Chile    Santiago   🇨🇱           CL\n",
       "2        China   Hong Kong   🇨🇳           CN\n",
       "3        Egypt       Cairo   🇪🇬           EG\n",
       "4       France        Lyon   🇫🇷           FR\n",
       "5      Iceland   Reykjavik   🇮🇸           IS\n",
       "6        Japan       Kyoto   🇯🇵           JP\n",
       "7  New Zealand  Wellington   🇳🇿           NZ"
      ]
     },
     "execution_count": 45,
     "metadata": {},
     "output_type": "execute_result"
    }
   ],
   "source": [
    "places = places.set_index(\n",
    "    'Country'\n",
    ").join(\n",
    "    all_countries['Country Code']\n",
    ").reset_index()\n",
    "\n",
    "places[:8]"
   ]
  },
  {
   "cell_type": "markdown",
   "metadata": {
    "slideshow": {
     "slide_type": "subslide"
    }
   },
   "source": [
    "### Applying the `get_temperature` function to every row"
   ]
  },
  {
   "cell_type": "code",
   "execution_count": 46,
   "metadata": {
    "slideshow": {
     "slide_type": "fragment"
    }
   },
   "outputs": [
    {
     "data": {
      "text/html": [
       "<div>\n",
       "<style scoped>\n",
       "    .dataframe tbody tr th:only-of-type {\n",
       "        vertical-align: middle;\n",
       "    }\n",
       "\n",
       "    .dataframe tbody tr th {\n",
       "        vertical-align: top;\n",
       "    }\n",
       "\n",
       "    .dataframe thead th {\n",
       "        text-align: right;\n",
       "    }\n",
       "</style>\n",
       "<table border=\"1\" class=\"dataframe\">\n",
       "  <thead>\n",
       "    <tr style=\"text-align: right;\">\n",
       "      <th></th>\n",
       "      <th>Country</th>\n",
       "      <th>City</th>\n",
       "      <th>Flag</th>\n",
       "      <th>Country Code</th>\n",
       "      <th>Location</th>\n",
       "      <th>Temperature</th>\n",
       "    </tr>\n",
       "  </thead>\n",
       "  <tbody>\n",
       "    <tr>\n",
       "      <th>0</th>\n",
       "      <td>Australia</td>\n",
       "      <td>Melbourne</td>\n",
       "      <td>🇦🇺</td>\n",
       "      <td>AU</td>\n",
       "      <td>Melbourne,AU</td>\n",
       "      <td>14.42</td>\n",
       "    </tr>\n",
       "    <tr>\n",
       "      <th>1</th>\n",
       "      <td>Chile</td>\n",
       "      <td>Santiago</td>\n",
       "      <td>🇨🇱</td>\n",
       "      <td>CL</td>\n",
       "      <td>Santiago,CL</td>\n",
       "      <td>15.76</td>\n",
       "    </tr>\n",
       "    <tr>\n",
       "      <th>2</th>\n",
       "      <td>China</td>\n",
       "      <td>Hong Kong</td>\n",
       "      <td>🇨🇳</td>\n",
       "      <td>CN</td>\n",
       "      <td>Hong Kong,CN</td>\n",
       "      <td>26.81</td>\n",
       "    </tr>\n",
       "    <tr>\n",
       "      <th>3</th>\n",
       "      <td>Egypt</td>\n",
       "      <td>Cairo</td>\n",
       "      <td>🇪🇬</td>\n",
       "      <td>EG</td>\n",
       "      <td>Cairo,EG</td>\n",
       "      <td>26.00</td>\n",
       "    </tr>\n",
       "    <tr>\n",
       "      <th>4</th>\n",
       "      <td>France</td>\n",
       "      <td>Lyon</td>\n",
       "      <td>🇫🇷</td>\n",
       "      <td>FR</td>\n",
       "      <td>Lyon,FR</td>\n",
       "      <td>16.82</td>\n",
       "    </tr>\n",
       "    <tr>\n",
       "      <th>5</th>\n",
       "      <td>Iceland</td>\n",
       "      <td>Reykjavik</td>\n",
       "      <td>🇮🇸</td>\n",
       "      <td>IS</td>\n",
       "      <td>Reykjavik,IS</td>\n",
       "      <td>9.00</td>\n",
       "    </tr>\n",
       "    <tr>\n",
       "      <th>6</th>\n",
       "      <td>Japan</td>\n",
       "      <td>Kyoto</td>\n",
       "      <td>🇯🇵</td>\n",
       "      <td>JP</td>\n",
       "      <td>Kyoto,JP</td>\n",
       "      <td>25.90</td>\n",
       "    </tr>\n",
       "    <tr>\n",
       "      <th>7</th>\n",
       "      <td>New Zealand</td>\n",
       "      <td>Wellington</td>\n",
       "      <td>🇳🇿</td>\n",
       "      <td>NZ</td>\n",
       "      <td>Wellington,NZ</td>\n",
       "      <td>13.44</td>\n",
       "    </tr>\n",
       "    <tr>\n",
       "      <th>8</th>\n",
       "      <td>Nigeria</td>\n",
       "      <td>Lagos</td>\n",
       "      <td>🇳🇬</td>\n",
       "      <td>NG</td>\n",
       "      <td>Lagos,NG</td>\n",
       "      <td>22.77</td>\n",
       "    </tr>\n",
       "    <tr>\n",
       "      <th>9</th>\n",
       "      <td>Singapore</td>\n",
       "      <td>Singapore</td>\n",
       "      <td>🇸🇬</td>\n",
       "      <td>SG</td>\n",
       "      <td>Singapore,SG</td>\n",
       "      <td>27.21</td>\n",
       "    </tr>\n",
       "    <tr>\n",
       "      <th>10</th>\n",
       "      <td>Turkey</td>\n",
       "      <td>Istanbul</td>\n",
       "      <td>🇹🇷</td>\n",
       "      <td>TR</td>\n",
       "      <td>Istanbul,TR</td>\n",
       "      <td>21.05</td>\n",
       "    </tr>\n",
       "    <tr>\n",
       "      <th>11</th>\n",
       "      <td>United Kingdom</td>\n",
       "      <td>London</td>\n",
       "      <td>🇬🇧</td>\n",
       "      <td>GB</td>\n",
       "      <td>London,GB</td>\n",
       "      <td>13.82</td>\n",
       "    </tr>\n",
       "    <tr>\n",
       "      <th>12</th>\n",
       "      <td>United States</td>\n",
       "      <td>San Francisco</td>\n",
       "      <td>🇺🇸</td>\n",
       "      <td>US</td>\n",
       "      <td>San Francisco,US</td>\n",
       "      <td>15.35</td>\n",
       "    </tr>\n",
       "    <tr>\n",
       "      <th>13</th>\n",
       "      <td>United States</td>\n",
       "      <td>New York</td>\n",
       "      <td>🇺🇸</td>\n",
       "      <td>US</td>\n",
       "      <td>New York,US</td>\n",
       "      <td>24.20</td>\n",
       "    </tr>\n",
       "    <tr>\n",
       "      <th>14</th>\n",
       "      <td>United States</td>\n",
       "      <td>Seattle</td>\n",
       "      <td>🇺🇸</td>\n",
       "      <td>US</td>\n",
       "      <td>Seattle,US</td>\n",
       "      <td>29.19</td>\n",
       "    </tr>\n",
       "  </tbody>\n",
       "</table>\n",
       "</div>"
      ],
      "text/plain": [
       "           Country           City Flag Country Code          Location  \\\n",
       "0        Australia      Melbourne   🇦🇺           AU      Melbourne,AU   \n",
       "1            Chile       Santiago   🇨🇱           CL       Santiago,CL   \n",
       "2            China      Hong Kong   🇨🇳           CN      Hong Kong,CN   \n",
       "3            Egypt          Cairo   🇪🇬           EG          Cairo,EG   \n",
       "4           France           Lyon   🇫🇷           FR           Lyon,FR   \n",
       "5          Iceland      Reykjavik   🇮🇸           IS      Reykjavik,IS   \n",
       "6            Japan          Kyoto   🇯🇵           JP          Kyoto,JP   \n",
       "7      New Zealand     Wellington   🇳🇿           NZ     Wellington,NZ   \n",
       "8          Nigeria          Lagos   🇳🇬           NG          Lagos,NG   \n",
       "9        Singapore      Singapore   🇸🇬           SG      Singapore,SG   \n",
       "10          Turkey       Istanbul   🇹🇷           TR       Istanbul,TR   \n",
       "11  United Kingdom         London   🇬🇧           GB         London,GB   \n",
       "12   United States  San Francisco   🇺🇸           US  San Francisco,US   \n",
       "13   United States       New York   🇺🇸           US       New York,US   \n",
       "14   United States        Seattle   🇺🇸           US        Seattle,US   \n",
       "\n",
       "    Temperature  \n",
       "0         14.42  \n",
       "1         15.76  \n",
       "2         26.81  \n",
       "3         26.00  \n",
       "4         16.82  \n",
       "5          9.00  \n",
       "6         25.90  \n",
       "7         13.44  \n",
       "8         22.77  \n",
       "9         27.21  \n",
       "10        21.05  \n",
       "11        13.82  \n",
       "12        15.35  \n",
       "13        24.20  \n",
       "14        29.19  "
      ]
     },
     "execution_count": 46,
     "metadata": {},
     "output_type": "execute_result"
    }
   ],
   "source": [
    "places['Location'] = places['City'] + ',' + places['Country Code']\n",
    "\n",
    "places['Temperature'] = places['Location'].apply(get_temperature)\n",
    "\n",
    "places"
   ]
  },
  {
   "cell_type": "markdown",
   "metadata": {
    "slideshow": {
     "slide_type": "subslide"
    }
   },
   "source": [
    "### Spreadsheet output"
   ]
  },
  {
   "cell_type": "markdown",
   "metadata": {
    "slideshow": {
     "slide_type": "notes"
    }
   },
   "source": [
    "Some people like Excel spreadsheets ..."
   ]
  },
  {
   "cell_type": "code",
   "execution_count": 47,
   "metadata": {
    "slideshow": {
     "slide_type": "fragment"
    }
   },
   "outputs": [],
   "source": [
    "places.to_excel('temperatures.xlsx', index=False)"
   ]
  },
  {
   "cell_type": "code",
   "execution_count": 48,
   "metadata": {
    "slideshow": {
     "slide_type": "skip"
    }
   },
   "outputs": [],
   "source": [
    "# This is for macOS only. For other operating systems, open the file manually:\n",
    "#!open temperatures.xlsx"
   ]
  },
  {
   "cell_type": "markdown",
   "metadata": {
    "slideshow": {
     "slide_type": "slide"
    }
   },
   "source": [
    "## Demo #7: biofuel-powered cars\n",
    "\n",
    "![](biofuels.jpg)\n",
    "\n",
    "If we powered all the cars on a road using biofuels grown on the verge of the road, how wide would the verge have to be?"
   ]
  },
  {
   "cell_type": "markdown",
   "metadata": {
    "slideshow": {
     "slide_type": "subslide"
    }
   },
   "source": [
    "This is Sir David Mackay's biofuels example from here:\n",
    "\n",
    "   http://www.inference.eng.cam.ac.uk/sustainable/blog/PoweringTransport.html\n",
    "\n",
    "<img src=\"https://www.free-ebooks.net/2d_covers/large/1389687436.jpg\" style=\"float: left;\">\n",
    "\n",
    "<img src=\"https://upload.wikimedia.org/wikipedia/en/0/02/David-john-cameron-mackay-by-david-stern.jpg\"  style=\"float: right;\">"
   ]
  },
  {
   "cell_type": "markdown",
   "metadata": {
    "slideshow": {
     "slide_type": "subslide"
    }
   },
   "source": [
    "#### Assumptions\n",
    "- one lane of cars travelling 60 miles per hour\n",
    "- average car fuel consumption: 30 miles per imperial gallon\n",
    "- 80 metres spacing between cars\n",
    "- 1200 litres of biofuel grown per hectare per year"
   ]
  },
  {
   "cell_type": "code",
   "execution_count": 49,
   "metadata": {
    "slideshow": {
     "slide_type": "fragment"
    }
   },
   "outputs": [],
   "source": [
    "from pint import UnitRegistry\n",
    "\n",
    "u = UnitRegistry()"
   ]
  },
  {
   "cell_type": "code",
   "execution_count": 50,
   "metadata": {
    "slideshow": {
     "slide_type": "fragment"
    }
   },
   "outputs": [],
   "source": [
    "speed = 60 * u.mile / u.hour\n",
    "fuel_consumption = 30 * u.mile / u.imperial_gallon\n",
    "car_spacing = 80 * u.meter\n",
    "biofuel_productivity = 1200 * u.liter / u.hectare / u.year"
   ]
  },
  {
   "cell_type": "markdown",
   "metadata": {
    "slideshow": {
     "slide_type": "subslide"
    }
   },
   "source": [
    "#### Quick answer: speed divided by the other three terms"
   ]
  },
  {
   "cell_type": "code",
   "execution_count": 51,
   "metadata": {
    "slideshow": {
     "slide_type": "fragment"
    }
   },
   "outputs": [
    {
     "data": {
      "text/html": [
       "5.2 mile"
      ],
      "text/latex": [
       "$5.2\\ \\mathrm{mile}$"
      ],
      "text/plain": [
       "5.2 <Unit('mile')>"
      ]
     },
     "execution_count": 51,
     "metadata": {},
     "output_type": "execute_result"
    }
   ],
   "source": [
    "verge_width = speed / (fuel_consumption * biofuel_productivity * car_spacing)\n",
    "round(verge_width.to('miles'), 1)"
   ]
  },
  {
   "cell_type": "code",
   "execution_count": 52,
   "metadata": {
    "slideshow": {
     "slide_type": "fragment"
    }
   },
   "outputs": [
    {
     "data": {
      "text/html": [
       "8.3 kilometer"
      ],
      "text/latex": [
       "$8.3\\ \\mathrm{kilometer}$"
      ],
      "text/plain": [
       "8.3 <Unit('kilometer')>"
      ]
     },
     "execution_count": 52,
     "metadata": {},
     "output_type": "execute_result"
    }
   ],
   "source": [
    "round(verge_width.to('km'), 1)"
   ]
  },
  {
   "cell_type": "markdown",
   "metadata": {
    "slideshow": {
     "slide_type": "fragment"
    }
   },
   "source": [
    "Hmmm ...\n",
    "\n",
    "See David Mackay's TED talk for more on the implications of this for renewable energy!"
   ]
  },
  {
   "cell_type": "markdown",
   "metadata": {
    "slideshow": {
     "slide_type": "slide"
    }
   },
   "source": [
    "## Demo #8: Math solver\n",
    "\n",
    "<img src=\"find_x.png\" width=300>"
   ]
  },
  {
   "cell_type": "markdown",
   "metadata": {
    "slideshow": {
     "slide_type": "subslide"
    }
   },
   "source": [
    "### Series expansion, factoring, integration, simplification, ..."
   ]
  },
  {
   "cell_type": "markdown",
   "metadata": {
    "slideshow": {
     "slide_type": "fragment"
    }
   },
   "source": [
    "Solve $\\sin(x) - 1 = x$ for $x \\in \\mathcal{R}$"
   ]
  },
  {
   "cell_type": "code",
   "execution_count": 53,
   "metadata": {
    "slideshow": {
     "slide_type": "fragment"
    }
   },
   "outputs": [],
   "source": [
    "from sympy import *\n",
    "x, y, z = symbols('x y z')"
   ]
  },
  {
   "cell_type": "code",
   "execution_count": 54,
   "metadata": {
    "slideshow": {
     "slide_type": "fragment"
    }
   },
   "outputs": [
    {
     "data": {
      "text/latex": [
       "$\\displaystyle \\left\\{2 n \\pi + \\frac{\\pi}{2}\\; |\\; n \\in \\mathbb{Z}\\right\\}$"
      ],
      "text/plain": [
       "ImageSet(Lambda(_n, 2*_n*pi + pi/2), Integers)"
      ]
     },
     "execution_count": 54,
     "metadata": {},
     "output_type": "execute_result"
    }
   ],
   "source": [
    "solveset(sin(x) - 1, x, domain=S.Reals)"
   ]
  },
  {
   "cell_type": "markdown",
   "metadata": {
    "slideshow": {
     "slide_type": "subslide"
    }
   },
   "source": [
    "Compute $ \\int_{-\\infty}^\\infty \\int_{-\\infty}^\\infty e^{-(x^2 + y^2)} dx dy $"
   ]
  },
  {
   "cell_type": "code",
   "execution_count": 55,
   "metadata": {
    "slideshow": {
     "slide_type": "fragment"
    }
   },
   "outputs": [
    {
     "data": {
      "text/latex": [
       "$\\displaystyle \\pi$"
      ],
      "text/plain": [
       "pi"
      ]
     },
     "execution_count": 55,
     "metadata": {},
     "output_type": "execute_result"
    }
   ],
   "source": [
    "integrate(exp(-(x**2 + y**2)), (x, -oo, oo), (y, -oo, oo))"
   ]
  },
  {
   "cell_type": "markdown",
   "metadata": {
    "slideshow": {
     "slide_type": "subslide"
    }
   },
   "source": [
    "Expand $\\exp(\\sin(x))$ as a Taylor series."
   ]
  },
  {
   "cell_type": "code",
   "execution_count": 56,
   "metadata": {
    "slideshow": {
     "slide_type": "fragment"
    }
   },
   "outputs": [
    {
     "data": {
      "text/latex": [
       "$\\displaystyle 1 + x + \\frac{x^{2}}{2} - \\frac{x^{4}}{8} - \\frac{x^{5}}{15} - \\frac{x^{6}}{240} + O\\left(x^{7}\\right)$"
      ],
      "text/plain": [
       "1 + x + x**2/2 - x**4/8 - x**5/15 - x**6/240 + O(x**7)"
      ]
     },
     "execution_count": 56,
     "metadata": {},
     "output_type": "execute_result"
    }
   ],
   "source": [
    "expr = exp(sin(x))\n",
    "\n",
    "expr.series(x, 0, 7)"
   ]
  },
  {
   "cell_type": "markdown",
   "metadata": {
    "slideshow": {
     "slide_type": "subslide"
    }
   },
   "source": [
    "Simplify $\\frac{x^3 + x^2 - x - 1}{x^2 + 2x + 1}$."
   ]
  },
  {
   "cell_type": "code",
   "execution_count": 57,
   "metadata": {
    "slideshow": {
     "slide_type": "fragment"
    }
   },
   "outputs": [
    {
     "data": {
      "text/latex": [
       "$\\displaystyle x - 1$"
      ],
      "text/plain": [
       "x - 1"
      ]
     },
     "execution_count": 57,
     "metadata": {},
     "output_type": "execute_result"
    }
   ],
   "source": [
    "simplify((x**3 + x**2 - x - 1)/(x**2 + 2*x + 1))"
   ]
  },
  {
   "cell_type": "markdown",
   "metadata": {},
   "source": [
    "Easy!"
   ]
  },
  {
   "cell_type": "markdown",
   "metadata": {
    "slideshow": {
     "slide_type": "subslide"
    }
   },
   "source": [
    "### Investment modelling with Monte Carlo simulation\n",
    "\n",
    "Ed and Lisa want to save money to buy a house for their 1 year-old daughter, Clara. They want to have $850k saved by the time Clara is finishing university 21 years from now.\n",
    "\n",
    "What is the probability that they will hit their savings goal?"
   ]
  },
  {
   "cell_type": "markdown",
   "metadata": {
    "slideshow": {
     "slide_type": "subslide"
    }
   },
   "source": [
    "### Assumptions\n",
    "\n",
    "- They are planning to save $25k each year (ignore taxes).\n",
    "- Assume that the return each year is normally distributed (mean 6%, stdev 10%).\n",
    "- Run a simulation with 100,000 trials"
   ]
  },
  {
   "cell_type": "code",
   "execution_count": 58,
   "metadata": {
    "slideshow": {
     "slide_type": "fragment"
    }
   },
   "outputs": [],
   "source": [
    "mean_return = 0.06\n",
    "std_return = 0.1\n",
    "num_trials = 10**5\n",
    "years = 21\n",
    "savings_goal = 850_000"
   ]
  },
  {
   "cell_type": "code",
   "execution_count": 59,
   "metadata": {
    "slideshow": {
     "slide_type": "skip"
    }
   },
   "outputs": [
    {
     "data": {
      "text/plain": [
       "DataTransformerRegistry.enable('default')"
      ]
     },
     "execution_count": 59,
     "metadata": {},
     "output_type": "execute_result"
    }
   ],
   "source": [
    "import altair\n",
    "\n",
    "altair.data_transformers.disable_max_rows()"
   ]
  },
  {
   "cell_type": "code",
   "execution_count": 60,
   "metadata": {
    "slideshow": {
     "slide_type": "subslide"
    }
   },
   "outputs": [
    {
     "data": {
      "application/vnd.jupyter.widget-view+json": {
       "model_id": "1ea45fd8de714449854440096c687300",
       "version_major": 2,
       "version_minor": 0
      },
      "text/plain": [
       "interactive(children=(FloatSlider(value=0.06, description='mean_return', max=0.3, min=-0.1, step=0.02), FloatS…"
      ]
     },
     "metadata": {},
     "output_type": "display_data"
    }
   ],
   "source": [
    "from tools import savings_hist\n",
    "\n",
    "interact(savings_hist,\n",
    "         mean_return=(-0.1, 0.3, 0.02),\n",
    "         std_return=(0.05, 0.5, 0.02),\n",
    "         num_trials=10**5,\n",
    "         years=21,\n",
    "         annual_deposit=(0, 100_000, 5_000));"
   ]
  },
  {
   "cell_type": "markdown",
   "metadata": {},
   "source": [
    "<img src=\"altair_monte_carlo_screenshot.png\" width=400>"
   ]
  },
  {
   "cell_type": "markdown",
   "metadata": {
    "slideshow": {
     "slide_type": "slide"
    }
   },
   "source": [
    "## Demo #9: charts and maps"
   ]
  },
  {
   "cell_type": "code",
   "execution_count": 61,
   "metadata": {
    "slideshow": {
     "slide_type": "fragment"
    }
   },
   "outputs": [
    {
     "data": {
      "text/html": [
       "\n",
       "<div id=\"altair-viz-084b02b872ca48f5950b19915625acc4\"></div>\n",
       "<script type=\"text/javascript\">\n",
       "  (function(spec, embedOpt){\n",
       "    let outputDiv = document.currentScript.previousElementSibling;\n",
       "    if (outputDiv.id !== \"altair-viz-084b02b872ca48f5950b19915625acc4\") {\n",
       "      outputDiv = document.getElementById(\"altair-viz-084b02b872ca48f5950b19915625acc4\");\n",
       "    }\n",
       "    const paths = {\n",
       "      \"vega\": \"https://cdn.jsdelivr.net/npm//vega@5?noext\",\n",
       "      \"vega-lib\": \"https://cdn.jsdelivr.net/npm//vega-lib?noext\",\n",
       "      \"vega-lite\": \"https://cdn.jsdelivr.net/npm//vega-lite@4.8.1?noext\",\n",
       "      \"vega-embed\": \"https://cdn.jsdelivr.net/npm//vega-embed@6?noext\",\n",
       "    };\n",
       "\n",
       "    function loadScript(lib) {\n",
       "      return new Promise(function(resolve, reject) {\n",
       "        var s = document.createElement('script');\n",
       "        s.src = paths[lib];\n",
       "        s.async = true;\n",
       "        s.onload = () => resolve(paths[lib]);\n",
       "        s.onerror = () => reject(`Error loading script: ${paths[lib]}`);\n",
       "        document.getElementsByTagName(\"head\")[0].appendChild(s);\n",
       "      });\n",
       "    }\n",
       "\n",
       "    function showError(err) {\n",
       "      outputDiv.innerHTML = `<div class=\"error\" style=\"color:red;\">${err}</div>`;\n",
       "      throw err;\n",
       "    }\n",
       "\n",
       "    function displayChart(vegaEmbed) {\n",
       "      vegaEmbed(outputDiv, spec, embedOpt)\n",
       "        .catch(err => showError(`Javascript Error: ${err.message}<br>This usually means there's a typo in your chart specification. See the javascript console for the full traceback.`));\n",
       "    }\n",
       "\n",
       "    if(typeof define === \"function\" && define.amd) {\n",
       "      requirejs.config({paths});\n",
       "      require([\"vega-embed\"], displayChart, err => showError(`Error loading script: ${err.message}`));\n",
       "    } else if (typeof vegaEmbed === \"function\") {\n",
       "      displayChart(vegaEmbed);\n",
       "    } else {\n",
       "      loadScript(\"vega\")\n",
       "        .then(() => loadScript(\"vega-lite\"))\n",
       "        .then(() => loadScript(\"vega-embed\"))\n",
       "        .catch(showError)\n",
       "        .then(() => displayChart(vegaEmbed));\n",
       "    }\n",
       "  })({\"config\": {\"view\": {\"continuousWidth\": 400, \"continuousHeight\": 300}}, \"data\": {\"name\": \"data-65c5e4615eed3244b42e54c585aeaf0c\"}, \"mark\": \"square\", \"encoding\": {\"color\": {\"type\": \"nominal\", \"field\": \"City\"}, \"x\": {\"type\": \"quantitative\", \"field\": \"Temperature\"}}, \"selection\": {\"selector002\": {\"type\": \"interval\", \"bind\": \"scales\", \"encodings\": [\"x\", \"y\"]}}, \"$schema\": \"https://vega.github.io/schema/vega-lite/v4.8.1.json\", \"datasets\": {\"data-65c5e4615eed3244b42e54c585aeaf0c\": [{\"Country\": \"Australia\", \"City\": \"Melbourne\", \"Flag\": \"\\ud83c\\udde6\\ud83c\\uddfa\", \"Country Code\": \"AU\", \"Location\": \"Melbourne,AU\", \"Temperature\": 14.42}, {\"Country\": \"Chile\", \"City\": \"Santiago\", \"Flag\": \"\\ud83c\\udde8\\ud83c\\uddf1\", \"Country Code\": \"CL\", \"Location\": \"Santiago,CL\", \"Temperature\": 15.76}, {\"Country\": \"China\", \"City\": \"Hong Kong\", \"Flag\": \"\\ud83c\\udde8\\ud83c\\uddf3\", \"Country Code\": \"CN\", \"Location\": \"Hong Kong,CN\", \"Temperature\": 26.81}, {\"Country\": \"Egypt\", \"City\": \"Cairo\", \"Flag\": \"\\ud83c\\uddea\\ud83c\\uddec\", \"Country Code\": \"EG\", \"Location\": \"Cairo,EG\", \"Temperature\": 26.0}, {\"Country\": \"France\", \"City\": \"Lyon\", \"Flag\": \"\\ud83c\\uddeb\\ud83c\\uddf7\", \"Country Code\": \"FR\", \"Location\": \"Lyon,FR\", \"Temperature\": 16.82}, {\"Country\": \"Iceland\", \"City\": \"Reykjavik\", \"Flag\": \"\\ud83c\\uddee\\ud83c\\uddf8\", \"Country Code\": \"IS\", \"Location\": \"Reykjavik,IS\", \"Temperature\": 9.0}, {\"Country\": \"Japan\", \"City\": \"Kyoto\", \"Flag\": \"\\ud83c\\uddef\\ud83c\\uddf5\", \"Country Code\": \"JP\", \"Location\": \"Kyoto,JP\", \"Temperature\": 25.9}, {\"Country\": \"New Zealand\", \"City\": \"Wellington\", \"Flag\": \"\\ud83c\\uddf3\\ud83c\\uddff\", \"Country Code\": \"NZ\", \"Location\": \"Wellington,NZ\", \"Temperature\": 13.44}, {\"Country\": \"Nigeria\", \"City\": \"Lagos\", \"Flag\": \"\\ud83c\\uddf3\\ud83c\\uddec\", \"Country Code\": \"NG\", \"Location\": \"Lagos,NG\", \"Temperature\": 22.77}, {\"Country\": \"Singapore\", \"City\": \"Singapore\", \"Flag\": \"\\ud83c\\uddf8\\ud83c\\uddec\", \"Country Code\": \"SG\", \"Location\": \"Singapore,SG\", \"Temperature\": 27.21}, {\"Country\": \"Turkey\", \"City\": \"Istanbul\", \"Flag\": \"\\ud83c\\uddf9\\ud83c\\uddf7\", \"Country Code\": \"TR\", \"Location\": \"Istanbul,TR\", \"Temperature\": 21.05}, {\"Country\": \"United Kingdom\", \"City\": \"London\", \"Flag\": \"\\ud83c\\uddec\\ud83c\\udde7\", \"Country Code\": \"GB\", \"Location\": \"London,GB\", \"Temperature\": 13.82}, {\"Country\": \"United States\", \"City\": \"San Francisco\", \"Flag\": \"\\ud83c\\uddfa\\ud83c\\uddf8\", \"Country Code\": \"US\", \"Location\": \"San Francisco,US\", \"Temperature\": 15.35}, {\"Country\": \"United States\", \"City\": \"New York\", \"Flag\": \"\\ud83c\\uddfa\\ud83c\\uddf8\", \"Country Code\": \"US\", \"Location\": \"New York,US\", \"Temperature\": 24.2}, {\"Country\": \"United States\", \"City\": \"Seattle\", \"Flag\": \"\\ud83c\\uddfa\\ud83c\\uddf8\", \"Country Code\": \"US\", \"Location\": \"Seattle,US\", \"Temperature\": 29.19}]}}, {\"mode\": \"vega-lite\"});\n",
       "</script>"
      ],
      "text/plain": [
       "alt.Chart(...)"
      ]
     },
     "execution_count": 61,
     "metadata": {},
     "output_type": "execute_result"
    }
   ],
   "source": [
    "import altair\n",
    "\n",
    "chart = altair.Chart(places).mark_square().encode(\n",
    "    color='City',\n",
    "    x='Temperature',\n",
    ").interactive()\n",
    "\n",
    "chart"
   ]
  },
  {
   "cell_type": "markdown",
   "metadata": {
    "slideshow": {
     "slide_type": "subslide"
    }
   },
   "source": [
    "### Plotting the data on a map\n",
    "\n",
    "For this, we need coordinates of each location (latitude and longitude)."
   ]
  },
  {
   "cell_type": "markdown",
   "metadata": {
    "slideshow": {
     "slide_type": "notes"
    }
   },
   "source": [
    "Again, there's a Python package for almost everything ..."
   ]
  },
  {
   "cell_type": "code",
   "execution_count": 62,
   "metadata": {
    "slideshow": {
     "slide_type": "subslide"
    }
   },
   "outputs": [
    {
     "data": {
      "text/plain": [
       "{'id': 'ABW',\n",
       " 'iso2Code': 'AW',\n",
       " 'name': 'Aruba',\n",
       " 'region': {'id': 'LCN',\n",
       "  'iso2code': 'ZJ',\n",
       "  'value': 'Latin America & Caribbean '},\n",
       " 'adminregion': {'id': '', 'iso2code': '', 'value': ''},\n",
       " 'incomeLevel': {'id': 'HIC', 'iso2code': 'XD', 'value': 'High income'},\n",
       " 'lendingType': {'id': 'LNX', 'iso2code': 'XX', 'value': 'Not classified'},\n",
       " 'capitalCity': 'Oranjestad',\n",
       " 'longitude': '-70.0167',\n",
       " 'latitude': '12.5167'}"
      ]
     },
     "execution_count": 62,
     "metadata": {},
     "output_type": "execute_result"
    }
   ],
   "source": [
    "import wbdata     # World Bank Data\n",
    "\n",
    "all_countries = wbdata.get_country()\n",
    "\n",
    "list(all_countries)[0]"
   ]
  },
  {
   "cell_type": "code",
   "execution_count": 63,
   "metadata": {
    "scrolled": false,
    "slideshow": {
     "slide_type": "skip"
    }
   },
   "outputs": [
    {
     "data": {
      "text/html": [
       "<div>\n",
       "<style scoped>\n",
       "    .dataframe tbody tr th:only-of-type {\n",
       "        vertical-align: middle;\n",
       "    }\n",
       "\n",
       "    .dataframe tbody tr th {\n",
       "        vertical-align: top;\n",
       "    }\n",
       "\n",
       "    .dataframe thead th {\n",
       "        text-align: right;\n",
       "    }\n",
       "</style>\n",
       "<table border=\"1\" class=\"dataframe\">\n",
       "  <thead>\n",
       "    <tr style=\"text-align: right;\">\n",
       "      <th></th>\n",
       "      <th>id</th>\n",
       "      <th>iso2Code</th>\n",
       "      <th>name</th>\n",
       "      <th>capital</th>\n",
       "      <th>longitude</th>\n",
       "      <th>latitude</th>\n",
       "      <th>incomelevel</th>\n",
       "      <th>color</th>\n",
       "    </tr>\n",
       "  </thead>\n",
       "  <tbody>\n",
       "    <tr>\n",
       "      <th>0</th>\n",
       "      <td>ABW</td>\n",
       "      <td>AW</td>\n",
       "      <td>Aruba</td>\n",
       "      <td>Oranjestad</td>\n",
       "      <td>-70.0167</td>\n",
       "      <td>12.51670</td>\n",
       "      <td>High income</td>\n",
       "      <td>green</td>\n",
       "    </tr>\n",
       "    <tr>\n",
       "      <th>1</th>\n",
       "      <td>AFG</td>\n",
       "      <td>AF</td>\n",
       "      <td>Afghanistan</td>\n",
       "      <td>Kabul</td>\n",
       "      <td>69.1761</td>\n",
       "      <td>34.52280</td>\n",
       "      <td>Low income</td>\n",
       "      <td>darkred</td>\n",
       "    </tr>\n",
       "    <tr>\n",
       "      <th>3</th>\n",
       "      <td>AGO</td>\n",
       "      <td>AO</td>\n",
       "      <td>Angola</td>\n",
       "      <td>Luanda</td>\n",
       "      <td>13.2420</td>\n",
       "      <td>-8.81155</td>\n",
       "      <td>Lower middle income</td>\n",
       "      <td>red</td>\n",
       "    </tr>\n",
       "  </tbody>\n",
       "</table>\n",
       "</div>"
      ],
      "text/plain": [
       "    id iso2Code         name     capital  longitude  latitude  \\\n",
       "0  ABW       AW        Aruba  Oranjestad   -70.0167  12.51670   \n",
       "1  AFG       AF  Afghanistan       Kabul    69.1761  34.52280   \n",
       "3  AGO       AO       Angola      Luanda    13.2420  -8.81155   \n",
       "\n",
       "           incomelevel    color  \n",
       "0          High income    green  \n",
       "1           Low income  darkred  \n",
       "3  Lower middle income      red  "
      ]
     },
     "execution_count": 63,
     "metadata": {},
     "output_type": "execute_result"
    }
   ],
   "source": [
    "import tools\n",
    "\n",
    "wbdata = tools.cleanup_countries(all_countries)\n",
    "wbdata[:3]"
   ]
  },
  {
   "cell_type": "code",
   "execution_count": 64,
   "metadata": {
    "slideshow": {
     "slide_type": "skip"
    }
   },
   "outputs": [],
   "source": [
    "# from importlib import reload\n",
    "# reload(tools)"
   ]
  },
  {
   "cell_type": "code",
   "execution_count": 65,
   "metadata": {
    "slideshow": {
     "slide_type": "subslide"
    }
   },
   "outputs": [
    {
     "data": {
      "text/html": [
       "\n",
       "<div id=\"altair-viz-ebf052ab109b432a992bde3ee2e41958\"></div>\n",
       "<script type=\"text/javascript\">\n",
       "  (function(spec, embedOpt){\n",
       "    let outputDiv = document.currentScript.previousElementSibling;\n",
       "    if (outputDiv.id !== \"altair-viz-ebf052ab109b432a992bde3ee2e41958\") {\n",
       "      outputDiv = document.getElementById(\"altair-viz-ebf052ab109b432a992bde3ee2e41958\");\n",
       "    }\n",
       "    const paths = {\n",
       "      \"vega\": \"https://cdn.jsdelivr.net/npm//vega@5?noext\",\n",
       "      \"vega-lib\": \"https://cdn.jsdelivr.net/npm//vega-lib?noext\",\n",
       "      \"vega-lite\": \"https://cdn.jsdelivr.net/npm//vega-lite@4.8.1?noext\",\n",
       "      \"vega-embed\": \"https://cdn.jsdelivr.net/npm//vega-embed@6?noext\",\n",
       "    };\n",
       "\n",
       "    function loadScript(lib) {\n",
       "      return new Promise(function(resolve, reject) {\n",
       "        var s = document.createElement('script');\n",
       "        s.src = paths[lib];\n",
       "        s.async = true;\n",
       "        s.onload = () => resolve(paths[lib]);\n",
       "        s.onerror = () => reject(`Error loading script: ${paths[lib]}`);\n",
       "        document.getElementsByTagName(\"head\")[0].appendChild(s);\n",
       "      });\n",
       "    }\n",
       "\n",
       "    function showError(err) {\n",
       "      outputDiv.innerHTML = `<div class=\"error\" style=\"color:red;\">${err}</div>`;\n",
       "      throw err;\n",
       "    }\n",
       "\n",
       "    function displayChart(vegaEmbed) {\n",
       "      vegaEmbed(outputDiv, spec, embedOpt)\n",
       "        .catch(err => showError(`Javascript Error: ${err.message}<br>This usually means there's a typo in your chart specification. See the javascript console for the full traceback.`));\n",
       "    }\n",
       "\n",
       "    if(typeof define === \"function\" && define.amd) {\n",
       "      requirejs.config({paths});\n",
       "      require([\"vega-embed\"], displayChart, err => showError(`Error loading script: ${err.message}`));\n",
       "    } else if (typeof vegaEmbed === \"function\") {\n",
       "      displayChart(vegaEmbed);\n",
       "    } else {\n",
       "      loadScript(\"vega\")\n",
       "        .then(() => loadScript(\"vega-lite\"))\n",
       "        .then(() => loadScript(\"vega-embed\"))\n",
       "        .catch(showError)\n",
       "        .then(() => displayChart(vegaEmbed));\n",
       "    }\n",
       "  })({\"config\": {\"view\": {\"continuousWidth\": 400, \"continuousHeight\": 300}}, \"data\": {\"name\": \"data-6fb3f79dc9116046f2f3ef19e6677fc7\"}, \"mark\": \"circle\", \"encoding\": {\"color\": {\"type\": \"nominal\", \"field\": \"incomelevel\"}, \"tooltip\": {\"type\": \"nominal\", \"field\": \"name\"}, \"x\": {\"type\": \"quantitative\", \"field\": \"longitude\"}, \"y\": {\"type\": \"quantitative\", \"field\": \"latitude\"}}, \"selection\": {\"selector003\": {\"type\": \"interval\", \"bind\": \"scales\", \"encodings\": [\"x\", \"y\"]}}, \"$schema\": \"https://vega.github.io/schema/vega-lite/v4.8.1.json\", \"datasets\": {\"data-6fb3f79dc9116046f2f3ef19e6677fc7\": [{\"id\": \"ABW\", \"iso2Code\": \"AW\", \"name\": \"Aruba\", \"capital\": \"Oranjestad\", \"longitude\": -70.0167, \"latitude\": 12.5167, \"incomelevel\": \"High income\", \"color\": \"green\"}, {\"id\": \"AFG\", \"iso2Code\": \"AF\", \"name\": \"Afghanistan\", \"capital\": \"Kabul\", \"longitude\": 69.1761, \"latitude\": 34.5228, \"incomelevel\": \"Low income\", \"color\": \"darkred\"}, {\"id\": \"AGO\", \"iso2Code\": \"AO\", \"name\": \"Angola\", \"capital\": \"Luanda\", \"longitude\": 13.242, \"latitude\": -8.81155, \"incomelevel\": \"Lower middle income\", \"color\": \"red\"}, {\"id\": \"ALB\", \"iso2Code\": \"AL\", \"name\": \"Albania\", \"capital\": \"Tirane\", \"longitude\": 19.8172, \"latitude\": 41.3317, \"incomelevel\": \"Upper middle income\", \"color\": \"orange\"}, {\"id\": \"AND\", \"iso2Code\": \"AD\", \"name\": \"Andorra\", \"capital\": \"Andorra la Vella\", \"longitude\": 1.5218, \"latitude\": 42.5075, \"incomelevel\": \"High income\", \"color\": \"green\"}, {\"id\": \"ARE\", \"iso2Code\": \"AE\", \"name\": \"United Arab Emirates\", \"capital\": \"Abu Dhabi\", \"longitude\": 54.3705, \"latitude\": 24.4764, \"incomelevel\": \"High income\", \"color\": \"green\"}, {\"id\": \"ARG\", \"iso2Code\": \"AR\", \"name\": \"Argentina\", \"capital\": \"Buenos Aires\", \"longitude\": -58.4173, \"latitude\": -34.6118, \"incomelevel\": \"Upper middle income\", \"color\": \"orange\"}, {\"id\": \"ARM\", \"iso2Code\": \"AM\", \"name\": \"Armenia\", \"capital\": \"Yerevan\", \"longitude\": 44.509, \"latitude\": 40.1596, \"incomelevel\": \"Upper middle income\", \"color\": \"orange\"}, {\"id\": \"ASM\", \"iso2Code\": \"AS\", \"name\": \"American Samoa\", \"capital\": \"Pago Pago\", \"longitude\": -170.691, \"latitude\": -14.2846, \"incomelevel\": \"Upper middle income\", \"color\": \"orange\"}, {\"id\": \"ATG\", \"iso2Code\": \"AG\", \"name\": \"Antigua and Barbuda\", \"capital\": \"Saint John's\", \"longitude\": -61.8456, \"latitude\": 17.1175, \"incomelevel\": \"High income\", \"color\": \"green\"}, {\"id\": \"AUS\", \"iso2Code\": \"AU\", \"name\": \"Australia\", \"capital\": \"Canberra\", \"longitude\": 149.129, \"latitude\": -35.282, \"incomelevel\": \"High income\", \"color\": \"green\"}, {\"id\": \"AUT\", \"iso2Code\": \"AT\", \"name\": \"Austria\", \"capital\": \"Vienna\", \"longitude\": 16.3798, \"latitude\": 48.2201, \"incomelevel\": \"High income\", \"color\": \"green\"}, {\"id\": \"AZE\", \"iso2Code\": \"AZ\", \"name\": \"Azerbaijan\", \"capital\": \"Baku\", \"longitude\": 49.8932, \"latitude\": 40.3834, \"incomelevel\": \"Upper middle income\", \"color\": \"orange\"}, {\"id\": \"BDI\", \"iso2Code\": \"BI\", \"name\": \"Burundi\", \"capital\": \"Bujumbura\", \"longitude\": 29.3639, \"latitude\": -3.3784, \"incomelevel\": \"Low income\", \"color\": \"darkred\"}, {\"id\": \"BEL\", \"iso2Code\": \"BE\", \"name\": \"Belgium\", \"capital\": \"Brussels\", \"longitude\": 4.36761, \"latitude\": 50.8371, \"incomelevel\": \"High income\", \"color\": \"green\"}, {\"id\": \"BEN\", \"iso2Code\": \"BJ\", \"name\": \"Benin\", \"capital\": \"Porto-Novo\", \"longitude\": 2.6323, \"latitude\": 6.4779, \"incomelevel\": \"Lower middle income\", \"color\": \"red\"}, {\"id\": \"BFA\", \"iso2Code\": \"BF\", \"name\": \"Burkina Faso\", \"capital\": \"Ouagadougou\", \"longitude\": -1.53395, \"latitude\": 12.3605, \"incomelevel\": \"Low income\", \"color\": \"darkred\"}, {\"id\": \"BGD\", \"iso2Code\": \"BD\", \"name\": \"Bangladesh\", \"capital\": \"Dhaka\", \"longitude\": 90.4113, \"latitude\": 23.7055, \"incomelevel\": \"Lower middle income\", \"color\": \"red\"}, {\"id\": \"BGR\", \"iso2Code\": \"BG\", \"name\": \"Bulgaria\", \"capital\": \"Sofia\", \"longitude\": 23.3238, \"latitude\": 42.7105, \"incomelevel\": \"Upper middle income\", \"color\": \"orange\"}, {\"id\": \"BHR\", \"iso2Code\": \"BH\", \"name\": \"Bahrain\", \"capital\": \"Manama\", \"longitude\": 50.5354, \"latitude\": 26.1921, \"incomelevel\": \"High income\", \"color\": \"green\"}, {\"id\": \"BHS\", \"iso2Code\": \"BS\", \"name\": \"Bahamas, The\", \"capital\": \"Nassau\", \"longitude\": -77.339, \"latitude\": 25.0661, \"incomelevel\": \"High income\", \"color\": \"green\"}, {\"id\": \"BIH\", \"iso2Code\": \"BA\", \"name\": \"Bosnia and Herzegovina\", \"capital\": \"Sarajevo\", \"longitude\": 18.4214, \"latitude\": 43.8607, \"incomelevel\": \"Upper middle income\", \"color\": \"orange\"}, {\"id\": \"BLR\", \"iso2Code\": \"BY\", \"name\": \"Belarus\", \"capital\": \"Minsk\", \"longitude\": 27.5766, \"latitude\": 53.9678, \"incomelevel\": \"Upper middle income\", \"color\": \"orange\"}, {\"id\": \"BLZ\", \"iso2Code\": \"BZ\", \"name\": \"Belize\", \"capital\": \"Belmopan\", \"longitude\": -88.7713, \"latitude\": 17.2534, \"incomelevel\": \"Upper middle income\", \"color\": \"orange\"}, {\"id\": \"BMU\", \"iso2Code\": \"BM\", \"name\": \"Bermuda\", \"capital\": \"Hamilton\", \"longitude\": -64.706, \"latitude\": 32.3293, \"incomelevel\": \"High income\", \"color\": \"green\"}, {\"id\": \"BOL\", \"iso2Code\": \"BO\", \"name\": \"Bolivia\", \"capital\": \"La Paz\", \"longitude\": -66.1936, \"latitude\": -13.9908, \"incomelevel\": \"Lower middle income\", \"color\": \"red\"}, {\"id\": \"BRA\", \"iso2Code\": \"BR\", \"name\": \"Brazil\", \"capital\": \"Brasilia\", \"longitude\": -47.9292, \"latitude\": -15.7801, \"incomelevel\": \"Upper middle income\", \"color\": \"orange\"}, {\"id\": \"BRB\", \"iso2Code\": \"BB\", \"name\": \"Barbados\", \"capital\": \"Bridgetown\", \"longitude\": -59.6105, \"latitude\": 13.0935, \"incomelevel\": \"High income\", \"color\": \"green\"}, {\"id\": \"BRN\", \"iso2Code\": \"BN\", \"name\": \"Brunei Darussalam\", \"capital\": \"Bandar Seri Begawan\", \"longitude\": 114.946, \"latitude\": 4.94199, \"incomelevel\": \"High income\", \"color\": \"green\"}, {\"id\": \"BTN\", \"iso2Code\": \"BT\", \"name\": \"Bhutan\", \"capital\": \"Thimphu\", \"longitude\": 89.6177, \"latitude\": 27.5768, \"incomelevel\": \"Lower middle income\", \"color\": \"red\"}, {\"id\": \"BWA\", \"iso2Code\": \"BW\", \"name\": \"Botswana\", \"capital\": \"Gaborone\", \"longitude\": 25.9201, \"latitude\": -24.6544, \"incomelevel\": \"Upper middle income\", \"color\": \"orange\"}, {\"id\": \"CAF\", \"iso2Code\": \"CF\", \"name\": \"Central African Republic\", \"capital\": \"Bangui\", \"longitude\": 21.6407, \"latitude\": 5.63056, \"incomelevel\": \"Low income\", \"color\": \"darkred\"}, {\"id\": \"CAN\", \"iso2Code\": \"CA\", \"name\": \"Canada\", \"capital\": \"Ottawa\", \"longitude\": -75.6919, \"latitude\": 45.4215, \"incomelevel\": \"High income\", \"color\": \"green\"}, {\"id\": \"CHE\", \"iso2Code\": \"CH\", \"name\": \"Switzerland\", \"capital\": \"Bern\", \"longitude\": 7.44821, \"latitude\": 46.948, \"incomelevel\": \"High income\", \"color\": \"green\"}, {\"id\": \"CHL\", \"iso2Code\": \"CL\", \"name\": \"Chile\", \"capital\": \"Santiago\", \"longitude\": -70.6475, \"latitude\": -33.475, \"incomelevel\": \"High income\", \"color\": \"green\"}, {\"id\": \"CHN\", \"iso2Code\": \"CN\", \"name\": \"China\", \"capital\": \"Beijing\", \"longitude\": 116.286, \"latitude\": 40.0495, \"incomelevel\": \"Upper middle income\", \"color\": \"orange\"}, {\"id\": \"CIV\", \"iso2Code\": \"CI\", \"name\": \"Cote d'Ivoire\", \"capital\": \"Yamoussoukro\", \"longitude\": -4.0305, \"latitude\": 5.332, \"incomelevel\": \"Lower middle income\", \"color\": \"red\"}, {\"id\": \"CMR\", \"iso2Code\": \"CM\", \"name\": \"Cameroon\", \"capital\": \"Yaounde\", \"longitude\": 11.5174, \"latitude\": 3.8721, \"incomelevel\": \"Lower middle income\", \"color\": \"red\"}, {\"id\": \"COD\", \"iso2Code\": \"CD\", \"name\": \"Congo, Dem. Rep.\", \"capital\": \"Kinshasa\", \"longitude\": 15.3222, \"latitude\": -4.325, \"incomelevel\": \"Low income\", \"color\": \"darkred\"}, {\"id\": \"COG\", \"iso2Code\": \"CG\", \"name\": \"Congo, Rep.\", \"capital\": \"Brazzaville\", \"longitude\": 15.2662, \"latitude\": -4.2767, \"incomelevel\": \"Lower middle income\", \"color\": \"red\"}, {\"id\": \"COL\", \"iso2Code\": \"CO\", \"name\": \"Colombia\", \"capital\": \"Bogota\", \"longitude\": -74.082, \"latitude\": 4.60987, \"incomelevel\": \"Upper middle income\", \"color\": \"orange\"}, {\"id\": \"COM\", \"iso2Code\": \"KM\", \"name\": \"Comoros\", \"capital\": \"Moroni\", \"longitude\": 43.2418, \"latitude\": -11.6986, \"incomelevel\": \"Lower middle income\", \"color\": \"red\"}, {\"id\": \"CPV\", \"iso2Code\": \"CV\", \"name\": \"Cabo Verde\", \"capital\": \"Praia\", \"longitude\": -23.5087, \"latitude\": 14.9218, \"incomelevel\": \"Lower middle income\", \"color\": \"red\"}, {\"id\": \"CRI\", \"iso2Code\": \"CR\", \"name\": \"Costa Rica\", \"capital\": \"San Jose\", \"longitude\": -84.0089, \"latitude\": 9.63701, \"incomelevel\": \"Upper middle income\", \"color\": \"orange\"}, {\"id\": \"CUB\", \"iso2Code\": \"CU\", \"name\": \"Cuba\", \"capital\": \"Havana\", \"longitude\": -82.3667, \"latitude\": 23.1333, \"incomelevel\": \"Upper middle income\", \"color\": \"orange\"}, {\"id\": \"CYM\", \"iso2Code\": \"KY\", \"name\": \"Cayman Islands\", \"capital\": \"George Town\", \"longitude\": -81.3857, \"latitude\": 19.3022, \"incomelevel\": \"High income\", \"color\": \"green\"}, {\"id\": \"CYP\", \"iso2Code\": \"CY\", \"name\": \"Cyprus\", \"capital\": \"Nicosia\", \"longitude\": 33.3736, \"latitude\": 35.1676, \"incomelevel\": \"High income\", \"color\": \"green\"}, {\"id\": \"CZE\", \"iso2Code\": \"CZ\", \"name\": \"Czech Republic\", \"capital\": \"Prague\", \"longitude\": 14.4205, \"latitude\": 50.0878, \"incomelevel\": \"High income\", \"color\": \"green\"}, {\"id\": \"DEU\", \"iso2Code\": \"DE\", \"name\": \"Germany\", \"capital\": \"Berlin\", \"longitude\": 13.4115, \"latitude\": 52.5235, \"incomelevel\": \"High income\", \"color\": \"green\"}, {\"id\": \"DJI\", \"iso2Code\": \"DJ\", \"name\": \"Djibouti\", \"capital\": \"Djibouti\", \"longitude\": 43.1425, \"latitude\": 11.5806, \"incomelevel\": \"Lower middle income\", \"color\": \"red\"}, {\"id\": \"DMA\", \"iso2Code\": \"DM\", \"name\": \"Dominica\", \"capital\": \"Roseau\", \"longitude\": -61.39, \"latitude\": 15.2976, \"incomelevel\": \"Upper middle income\", \"color\": \"orange\"}, {\"id\": \"DNK\", \"iso2Code\": \"DK\", \"name\": \"Denmark\", \"capital\": \"Copenhagen\", \"longitude\": 12.5681, \"latitude\": 55.6763, \"incomelevel\": \"High income\", \"color\": \"green\"}, {\"id\": \"DOM\", \"iso2Code\": \"DO\", \"name\": \"Dominican Republic\", \"capital\": \"Santo Domingo\", \"longitude\": -69.8908, \"latitude\": 18.479, \"incomelevel\": \"Upper middle income\", \"color\": \"orange\"}, {\"id\": \"DZA\", \"iso2Code\": \"DZ\", \"name\": \"Algeria\", \"capital\": \"Algiers\", \"longitude\": 3.05097, \"latitude\": 36.7397, \"incomelevel\": \"Lower middle income\", \"color\": \"red\"}, {\"id\": \"ECU\", \"iso2Code\": \"EC\", \"name\": \"Ecuador\", \"capital\": \"Quito\", \"longitude\": -78.5243, \"latitude\": -0.229498, \"incomelevel\": \"Upper middle income\", \"color\": \"orange\"}, {\"id\": \"EGY\", \"iso2Code\": \"EG\", \"name\": \"Egypt, Arab Rep.\", \"capital\": \"Cairo\", \"longitude\": 31.2461, \"latitude\": 30.0982, \"incomelevel\": \"Lower middle income\", \"color\": \"red\"}, {\"id\": \"ERI\", \"iso2Code\": \"ER\", \"name\": \"Eritrea\", \"capital\": \"Asmara\", \"longitude\": 38.9183, \"latitude\": 15.3315, \"incomelevel\": \"Low income\", \"color\": \"darkred\"}, {\"id\": \"ESP\", \"iso2Code\": \"ES\", \"name\": \"Spain\", \"capital\": \"Madrid\", \"longitude\": -3.70327, \"latitude\": 40.4167, \"incomelevel\": \"High income\", \"color\": \"green\"}, {\"id\": \"EST\", \"iso2Code\": \"EE\", \"name\": \"Estonia\", \"capital\": \"Tallinn\", \"longitude\": 24.7586, \"latitude\": 59.4392, \"incomelevel\": \"High income\", \"color\": \"green\"}, {\"id\": \"ETH\", \"iso2Code\": \"ET\", \"name\": \"Ethiopia\", \"capital\": \"Addis Ababa\", \"longitude\": 38.7468, \"latitude\": 9.02274, \"incomelevel\": \"Low income\", \"color\": \"darkred\"}, {\"id\": \"FIN\", \"iso2Code\": \"FI\", \"name\": \"Finland\", \"capital\": \"Helsinki\", \"longitude\": 24.9525, \"latitude\": 60.1608, \"incomelevel\": \"High income\", \"color\": \"green\"}, {\"id\": \"FJI\", \"iso2Code\": \"FJ\", \"name\": \"Fiji\", \"capital\": \"Suva\", \"longitude\": 178.399, \"latitude\": -18.1149, \"incomelevel\": \"Upper middle income\", \"color\": \"orange\"}, {\"id\": \"FRA\", \"iso2Code\": \"FR\", \"name\": \"France\", \"capital\": \"Paris\", \"longitude\": 2.35097, \"latitude\": 48.8566, \"incomelevel\": \"High income\", \"color\": \"green\"}, {\"id\": \"FRO\", \"iso2Code\": \"FO\", \"name\": \"Faroe Islands\", \"capital\": \"Torshavn\", \"longitude\": -6.91181, \"latitude\": 61.8926, \"incomelevel\": \"High income\", \"color\": \"green\"}, {\"id\": \"FSM\", \"iso2Code\": \"FM\", \"name\": \"Micronesia, Fed. Sts.\", \"capital\": \"Palikir\", \"longitude\": 158.185, \"latitude\": 6.91771, \"incomelevel\": \"Lower middle income\", \"color\": \"red\"}, {\"id\": \"GAB\", \"iso2Code\": \"GA\", \"name\": \"Gabon\", \"capital\": \"Libreville\", \"longitude\": 9.45162, \"latitude\": 0.38832, \"incomelevel\": \"Upper middle income\", \"color\": \"orange\"}, {\"id\": \"GBR\", \"iso2Code\": \"GB\", \"name\": \"United Kingdom\", \"capital\": \"London\", \"longitude\": -0.126236, \"latitude\": 51.5002, \"incomelevel\": \"High income\", \"color\": \"green\"}, {\"id\": \"GEO\", \"iso2Code\": \"GE\", \"name\": \"Georgia\", \"capital\": \"Tbilisi\", \"longitude\": 44.793, \"latitude\": 41.71, \"incomelevel\": \"Upper middle income\", \"color\": \"orange\"}, {\"id\": \"GHA\", \"iso2Code\": \"GH\", \"name\": \"Ghana\", \"capital\": \"Accra\", \"longitude\": -0.20795, \"latitude\": 5.57045, \"incomelevel\": \"Lower middle income\", \"color\": \"red\"}, {\"id\": \"GIN\", \"iso2Code\": \"GN\", \"name\": \"Guinea\", \"capital\": \"Conakry\", \"longitude\": -13.7, \"latitude\": 9.51667, \"incomelevel\": \"Low income\", \"color\": \"darkred\"}, {\"id\": \"GMB\", \"iso2Code\": \"GM\", \"name\": \"Gambia, The\", \"capital\": \"Banjul\", \"longitude\": -16.5885, \"latitude\": 13.4495, \"incomelevel\": \"Low income\", \"color\": \"darkred\"}, {\"id\": \"GNB\", \"iso2Code\": \"GW\", \"name\": \"Guinea-Bissau\", \"capital\": \"Bissau\", \"longitude\": -15.1804, \"latitude\": 11.8037, \"incomelevel\": \"Low income\", \"color\": \"darkred\"}, {\"id\": \"GNQ\", \"iso2Code\": \"GQ\", \"name\": \"Equatorial Guinea\", \"capital\": \"Malabo\", \"longitude\": 8.7741, \"latitude\": 3.7523, \"incomelevel\": \"Upper middle income\", \"color\": \"orange\"}, {\"id\": \"GRC\", \"iso2Code\": \"GR\", \"name\": \"Greece\", \"capital\": \"Athens\", \"longitude\": 23.7166, \"latitude\": 37.9792, \"incomelevel\": \"High income\", \"color\": \"green\"}, {\"id\": \"GRD\", \"iso2Code\": \"GD\", \"name\": \"Grenada\", \"capital\": \"Saint George's\", \"longitude\": -61.7449, \"latitude\": 12.0653, \"incomelevel\": \"Upper middle income\", \"color\": \"orange\"}, {\"id\": \"GRL\", \"iso2Code\": \"GL\", \"name\": \"Greenland\", \"capital\": \"Nuuk\", \"longitude\": -51.7214, \"latitude\": 64.1836, \"incomelevel\": \"High income\", \"color\": \"green\"}, {\"id\": \"GTM\", \"iso2Code\": \"GT\", \"name\": \"Guatemala\", \"capital\": \"Guatemala City\", \"longitude\": -90.5328, \"latitude\": 14.6248, \"incomelevel\": \"Upper middle income\", \"color\": \"orange\"}, {\"id\": \"GUM\", \"iso2Code\": \"GU\", \"name\": \"Guam\", \"capital\": \"Agana\", \"longitude\": 144.794, \"latitude\": 13.4443, \"incomelevel\": \"High income\", \"color\": \"green\"}, {\"id\": \"GUY\", \"iso2Code\": \"GY\", \"name\": \"Guyana\", \"capital\": \"Georgetown\", \"longitude\": -58.1548, \"latitude\": 6.80461, \"incomelevel\": \"Upper middle income\", \"color\": \"orange\"}, {\"id\": \"HND\", \"iso2Code\": \"HN\", \"name\": \"Honduras\", \"capital\": \"Tegucigalpa\", \"longitude\": -87.4667, \"latitude\": 15.1333, \"incomelevel\": \"Lower middle income\", \"color\": \"red\"}, {\"id\": \"HRV\", \"iso2Code\": \"HR\", \"name\": \"Croatia\", \"capital\": \"Zagreb\", \"longitude\": 15.9614, \"latitude\": 45.8069, \"incomelevel\": \"High income\", \"color\": \"green\"}, {\"id\": \"HTI\", \"iso2Code\": \"HT\", \"name\": \"Haiti\", \"capital\": \"Port-au-Prince\", \"longitude\": -72.3288, \"latitude\": 18.5392, \"incomelevel\": \"Low income\", \"color\": \"darkred\"}, {\"id\": \"HUN\", \"iso2Code\": \"HU\", \"name\": \"Hungary\", \"capital\": \"Budapest\", \"longitude\": 19.0408, \"latitude\": 47.4984, \"incomelevel\": \"High income\", \"color\": \"green\"}, {\"id\": \"IDN\", \"iso2Code\": \"ID\", \"name\": \"Indonesia\", \"capital\": \"Jakarta\", \"longitude\": 106.83, \"latitude\": -6.19752, \"incomelevel\": \"Upper middle income\", \"color\": \"orange\"}, {\"id\": \"IMN\", \"iso2Code\": \"IM\", \"name\": \"Isle of Man\", \"capital\": \"Douglas\", \"longitude\": -4.47928, \"latitude\": 54.1509, \"incomelevel\": \"High income\", \"color\": \"green\"}, {\"id\": \"IND\", \"iso2Code\": \"IN\", \"name\": \"India\", \"capital\": \"New Delhi\", \"longitude\": 77.225, \"latitude\": 28.6353, \"incomelevel\": \"Lower middle income\", \"color\": \"red\"}, {\"id\": \"IRL\", \"iso2Code\": \"IE\", \"name\": \"Ireland\", \"capital\": \"Dublin\", \"longitude\": -6.26749, \"latitude\": 53.3441, \"incomelevel\": \"High income\", \"color\": \"green\"}, {\"id\": \"IRN\", \"iso2Code\": \"IR\", \"name\": \"Iran, Islamic Rep.\", \"capital\": \"Tehran\", \"longitude\": 51.4447, \"latitude\": 35.6878, \"incomelevel\": \"Upper middle income\", \"color\": \"orange\"}, {\"id\": \"IRQ\", \"iso2Code\": \"IQ\", \"name\": \"Iraq\", \"capital\": \"Baghdad\", \"longitude\": 44.394, \"latitude\": 33.3302, \"incomelevel\": \"Upper middle income\", \"color\": \"orange\"}, {\"id\": \"ISL\", \"iso2Code\": \"IS\", \"name\": \"Iceland\", \"capital\": \"Reykjavik\", \"longitude\": -21.8952, \"latitude\": 64.1353, \"incomelevel\": \"High income\", \"color\": \"green\"}, {\"id\": \"ITA\", \"iso2Code\": \"IT\", \"name\": \"Italy\", \"capital\": \"Rome\", \"longitude\": 12.4823, \"latitude\": 41.8955, \"incomelevel\": \"High income\", \"color\": \"green\"}, {\"id\": \"JAM\", \"iso2Code\": \"JM\", \"name\": \"Jamaica\", \"capital\": \"Kingston\", \"longitude\": -76.792, \"latitude\": 17.9927, \"incomelevel\": \"Upper middle income\", \"color\": \"orange\"}, {\"id\": \"JOR\", \"iso2Code\": \"JO\", \"name\": \"Jordan\", \"capital\": \"Amman\", \"longitude\": 35.9263, \"latitude\": 31.9497, \"incomelevel\": \"Upper middle income\", \"color\": \"orange\"}, {\"id\": \"JPN\", \"iso2Code\": \"JP\", \"name\": \"Japan\", \"capital\": \"Tokyo\", \"longitude\": 139.77, \"latitude\": 35.67, \"incomelevel\": \"High income\", \"color\": \"green\"}, {\"id\": \"KAZ\", \"iso2Code\": \"KZ\", \"name\": \"Kazakhstan\", \"capital\": \"Astana\", \"longitude\": 71.4382, \"latitude\": 51.1879, \"incomelevel\": \"Upper middle income\", \"color\": \"orange\"}, {\"id\": \"KEN\", \"iso2Code\": \"KE\", \"name\": \"Kenya\", \"capital\": \"Nairobi\", \"longitude\": 36.8126, \"latitude\": -1.27975, \"incomelevel\": \"Lower middle income\", \"color\": \"red\"}, {\"id\": \"KGZ\", \"iso2Code\": \"KG\", \"name\": \"Kyrgyz Republic\", \"capital\": \"Bishkek\", \"longitude\": 74.6057, \"latitude\": 42.8851, \"incomelevel\": \"Lower middle income\", \"color\": \"red\"}, {\"id\": \"KHM\", \"iso2Code\": \"KH\", \"name\": \"Cambodia\", \"capital\": \"Phnom Penh\", \"longitude\": 104.874, \"latitude\": 11.5556, \"incomelevel\": \"Lower middle income\", \"color\": \"red\"}, {\"id\": \"KIR\", \"iso2Code\": \"KI\", \"name\": \"Kiribati\", \"capital\": \"Tarawa\", \"longitude\": 172.979, \"latitude\": 1.32905, \"incomelevel\": \"Lower middle income\", \"color\": \"red\"}, {\"id\": \"KNA\", \"iso2Code\": \"KN\", \"name\": \"St. Kitts and Nevis\", \"capital\": \"Basseterre\", \"longitude\": -62.7309, \"latitude\": 17.3, \"incomelevel\": \"High income\", \"color\": \"green\"}, {\"id\": \"KOR\", \"iso2Code\": \"KR\", \"name\": \"Korea, Rep.\", \"capital\": \"Seoul\", \"longitude\": 126.957, \"latitude\": 37.5323, \"incomelevel\": \"High income\", \"color\": \"green\"}, {\"id\": \"KWT\", \"iso2Code\": \"KW\", \"name\": \"Kuwait\", \"capital\": \"Kuwait City\", \"longitude\": 47.9824, \"latitude\": 29.3721, \"incomelevel\": \"High income\", \"color\": \"green\"}, {\"id\": \"LAO\", \"iso2Code\": \"LA\", \"name\": \"Lao PDR\", \"capital\": \"Vientiane\", \"longitude\": 102.177, \"latitude\": 18.5826, \"incomelevel\": \"Lower middle income\", \"color\": \"red\"}, {\"id\": \"LBN\", \"iso2Code\": \"LB\", \"name\": \"Lebanon\", \"capital\": \"Beirut\", \"longitude\": 35.5134, \"latitude\": 33.8872, \"incomelevel\": \"Upper middle income\", \"color\": \"orange\"}, {\"id\": \"LBR\", \"iso2Code\": \"LR\", \"name\": \"Liberia\", \"capital\": \"Monrovia\", \"longitude\": -10.7957, \"latitude\": 6.30039, \"incomelevel\": \"Low income\", \"color\": \"darkred\"}, {\"id\": \"LBY\", \"iso2Code\": \"LY\", \"name\": \"Libya\", \"capital\": \"Tripoli\", \"longitude\": 13.1072, \"latitude\": 32.8578, \"incomelevel\": \"Upper middle income\", \"color\": \"orange\"}, {\"id\": \"LCA\", \"iso2Code\": \"LC\", \"name\": \"St. Lucia\", \"capital\": \"Castries\", \"longitude\": -60.9832, \"latitude\": 14.0, \"incomelevel\": \"Upper middle income\", \"color\": \"orange\"}, {\"id\": \"LIE\", \"iso2Code\": \"LI\", \"name\": \"Liechtenstein\", \"capital\": \"Vaduz\", \"longitude\": 9.52148, \"latitude\": 47.1411, \"incomelevel\": \"High income\", \"color\": \"green\"}, {\"id\": \"LKA\", \"iso2Code\": \"LK\", \"name\": \"Sri Lanka\", \"capital\": \"Colombo\", \"longitude\": 79.8528, \"latitude\": 6.92148, \"incomelevel\": \"Lower middle income\", \"color\": \"red\"}, {\"id\": \"LSO\", \"iso2Code\": \"LS\", \"name\": \"Lesotho\", \"capital\": \"Maseru\", \"longitude\": 27.7167, \"latitude\": -29.5208, \"incomelevel\": \"Lower middle income\", \"color\": \"red\"}, {\"id\": \"LTU\", \"iso2Code\": \"LT\", \"name\": \"Lithuania\", \"capital\": \"Vilnius\", \"longitude\": 25.2799, \"latitude\": 54.6896, \"incomelevel\": \"High income\", \"color\": \"green\"}, {\"id\": \"LUX\", \"iso2Code\": \"LU\", \"name\": \"Luxembourg\", \"capital\": \"Luxembourg\", \"longitude\": 6.1296, \"latitude\": 49.61, \"incomelevel\": \"High income\", \"color\": \"green\"}, {\"id\": \"LVA\", \"iso2Code\": \"LV\", \"name\": \"Latvia\", \"capital\": \"Riga\", \"longitude\": 24.1048, \"latitude\": 56.9465, \"incomelevel\": \"High income\", \"color\": \"green\"}, {\"id\": \"MAR\", \"iso2Code\": \"MA\", \"name\": \"Morocco\", \"capital\": \"Rabat\", \"longitude\": -6.8704, \"latitude\": 33.9905, \"incomelevel\": \"Lower middle income\", \"color\": \"red\"}, {\"id\": \"MCO\", \"iso2Code\": \"MC\", \"name\": \"Monaco\", \"capital\": \"Monaco\", \"longitude\": 7.41891, \"latitude\": 43.7325, \"incomelevel\": \"High income\", \"color\": \"green\"}, {\"id\": \"MDA\", \"iso2Code\": \"MD\", \"name\": \"Moldova\", \"capital\": \"Chisinau\", \"longitude\": 28.8497, \"latitude\": 47.0167, \"incomelevel\": \"Lower middle income\", \"color\": \"red\"}, {\"id\": \"MDG\", \"iso2Code\": \"MG\", \"name\": \"Madagascar\", \"capital\": \"Antananarivo\", \"longitude\": 45.7167, \"latitude\": -20.4667, \"incomelevel\": \"Low income\", \"color\": \"darkred\"}, {\"id\": \"MDV\", \"iso2Code\": \"MV\", \"name\": \"Maldives\", \"capital\": \"Male\", \"longitude\": 73.5109, \"latitude\": 4.1742, \"incomelevel\": \"Upper middle income\", \"color\": \"orange\"}, {\"id\": \"MEX\", \"iso2Code\": \"MX\", \"name\": \"Mexico\", \"capital\": \"Mexico City\", \"longitude\": -99.1276, \"latitude\": 19.427, \"incomelevel\": \"Upper middle income\", \"color\": \"orange\"}, {\"id\": \"MHL\", \"iso2Code\": \"MH\", \"name\": \"Marshall Islands\", \"capital\": \"Majuro\", \"longitude\": 171.135, \"latitude\": 7.11046, \"incomelevel\": \"Upper middle income\", \"color\": \"orange\"}, {\"id\": \"MKD\", \"iso2Code\": \"MK\", \"name\": \"North Macedonia\", \"capital\": \"Skopje\", \"longitude\": 21.4361, \"latitude\": 42.0024, \"incomelevel\": \"Upper middle income\", \"color\": \"orange\"}, {\"id\": \"MLI\", \"iso2Code\": \"ML\", \"name\": \"Mali\", \"capital\": \"Bamako\", \"longitude\": -7.50034, \"latitude\": 13.5667, \"incomelevel\": \"Low income\", \"color\": \"darkred\"}, {\"id\": \"MLT\", \"iso2Code\": \"MT\", \"name\": \"Malta\", \"capital\": \"Valletta\", \"longitude\": 14.5189, \"latitude\": 35.9042, \"incomelevel\": \"High income\", \"color\": \"green\"}, {\"id\": \"MMR\", \"iso2Code\": \"MM\", \"name\": \"Myanmar\", \"capital\": \"Naypyidaw\", \"longitude\": 95.9562, \"latitude\": 21.914, \"incomelevel\": \"Lower middle income\", \"color\": \"red\"}, {\"id\": \"MNE\", \"iso2Code\": \"ME\", \"name\": \"Montenegro\", \"capital\": \"Podgorica\", \"longitude\": 19.2595, \"latitude\": 42.4602, \"incomelevel\": \"Upper middle income\", \"color\": \"orange\"}, {\"id\": \"MNG\", \"iso2Code\": \"MN\", \"name\": \"Mongolia\", \"capital\": \"Ulaanbaatar\", \"longitude\": 106.937, \"latitude\": 47.9129, \"incomelevel\": \"Lower middle income\", \"color\": \"red\"}, {\"id\": \"MNP\", \"iso2Code\": \"MP\", \"name\": \"Northern Mariana Islands\", \"capital\": \"Saipan\", \"longitude\": 145.765, \"latitude\": 15.1935, \"incomelevel\": \"High income\", \"color\": \"green\"}, {\"id\": \"MOZ\", \"iso2Code\": \"MZ\", \"name\": \"Mozambique\", \"capital\": \"Maputo\", \"longitude\": 32.5713, \"latitude\": -25.9664, \"incomelevel\": \"Low income\", \"color\": \"darkred\"}, {\"id\": \"MRT\", \"iso2Code\": \"MR\", \"name\": \"Mauritania\", \"capital\": \"Nouakchott\", \"longitude\": -15.9824, \"latitude\": 18.2367, \"incomelevel\": \"Lower middle income\", \"color\": \"red\"}, {\"id\": \"MUS\", \"iso2Code\": \"MU\", \"name\": \"Mauritius\", \"capital\": \"Port Louis\", \"longitude\": 57.4977, \"latitude\": -20.1605, \"incomelevel\": \"High income\", \"color\": \"green\"}, {\"id\": \"MWI\", \"iso2Code\": \"MW\", \"name\": \"Malawi\", \"capital\": \"Lilongwe\", \"longitude\": 33.7703, \"latitude\": -13.9899, \"incomelevel\": \"Low income\", \"color\": \"darkred\"}, {\"id\": \"MYS\", \"iso2Code\": \"MY\", \"name\": \"Malaysia\", \"capital\": \"Kuala Lumpur\", \"longitude\": 101.684, \"latitude\": 3.12433, \"incomelevel\": \"Upper middle income\", \"color\": \"orange\"}, {\"id\": \"NAM\", \"iso2Code\": \"NA\", \"name\": \"Namibia\", \"capital\": \"Windhoek\", \"longitude\": 17.0931, \"latitude\": -22.5648, \"incomelevel\": \"Upper middle income\", \"color\": \"orange\"}, {\"id\": \"NCL\", \"iso2Code\": \"NC\", \"name\": \"New Caledonia\", \"capital\": \"Noum'ea\", \"longitude\": 166.464, \"latitude\": -22.2677, \"incomelevel\": \"High income\", \"color\": \"green\"}, {\"id\": \"NER\", \"iso2Code\": \"NE\", \"name\": \"Niger\", \"capital\": \"Niamey\", \"longitude\": 2.1073, \"latitude\": 13.514, \"incomelevel\": \"Low income\", \"color\": \"darkred\"}, {\"id\": \"NGA\", \"iso2Code\": \"NG\", \"name\": \"Nigeria\", \"capital\": \"Abuja\", \"longitude\": 7.48906, \"latitude\": 9.05804, \"incomelevel\": \"Lower middle income\", \"color\": \"red\"}, {\"id\": \"NIC\", \"iso2Code\": \"NI\", \"name\": \"Nicaragua\", \"capital\": \"Managua\", \"longitude\": -86.2734, \"latitude\": 12.1475, \"incomelevel\": \"Lower middle income\", \"color\": \"red\"}, {\"id\": \"NLD\", \"iso2Code\": \"NL\", \"name\": \"Netherlands\", \"capital\": \"Amsterdam\", \"longitude\": 4.89095, \"latitude\": 52.3738, \"incomelevel\": \"High income\", \"color\": \"green\"}, {\"id\": \"NOR\", \"iso2Code\": \"NO\", \"name\": \"Norway\", \"capital\": \"Oslo\", \"longitude\": 10.7387, \"latitude\": 59.9138, \"incomelevel\": \"High income\", \"color\": \"green\"}, {\"id\": \"NPL\", \"iso2Code\": \"NP\", \"name\": \"Nepal\", \"capital\": \"Kathmandu\", \"longitude\": 85.3157, \"latitude\": 27.6939, \"incomelevel\": \"Lower middle income\", \"color\": \"red\"}, {\"id\": \"NRU\", \"iso2Code\": \"NR\", \"name\": \"Nauru\", \"capital\": \"Yaren District\", \"longitude\": 166.920867, \"latitude\": -0.5477, \"incomelevel\": \"High income\", \"color\": \"green\"}, {\"id\": \"NZL\", \"iso2Code\": \"NZ\", \"name\": \"New Zealand\", \"capital\": \"Wellington\", \"longitude\": 174.776, \"latitude\": -41.2865, \"incomelevel\": \"High income\", \"color\": \"green\"}, {\"id\": \"OMN\", \"iso2Code\": \"OM\", \"name\": \"Oman\", \"capital\": \"Muscat\", \"longitude\": 58.5874, \"latitude\": 23.6105, \"incomelevel\": \"High income\", \"color\": \"green\"}, {\"id\": \"PAK\", \"iso2Code\": \"PK\", \"name\": \"Pakistan\", \"capital\": \"Islamabad\", \"longitude\": 72.8, \"latitude\": 30.5167, \"incomelevel\": \"Lower middle income\", \"color\": \"red\"}, {\"id\": \"PAN\", \"iso2Code\": \"PA\", \"name\": \"Panama\", \"capital\": \"Panama City\", \"longitude\": -79.5188, \"latitude\": 8.99427, \"incomelevel\": \"High income\", \"color\": \"green\"}, {\"id\": \"PER\", \"iso2Code\": \"PE\", \"name\": \"Peru\", \"capital\": \"Lima\", \"longitude\": -77.0465, \"latitude\": -12.0931, \"incomelevel\": \"Upper middle income\", \"color\": \"orange\"}, {\"id\": \"PHL\", \"iso2Code\": \"PH\", \"name\": \"Philippines\", \"capital\": \"Manila\", \"longitude\": 121.035, \"latitude\": 14.5515, \"incomelevel\": \"Lower middle income\", \"color\": \"red\"}, {\"id\": \"PLW\", \"iso2Code\": \"PW\", \"name\": \"Palau\", \"capital\": \"Koror\", \"longitude\": 134.479, \"latitude\": 7.34194, \"incomelevel\": \"High income\", \"color\": \"green\"}, {\"id\": \"PNG\", \"iso2Code\": \"PG\", \"name\": \"Papua New Guinea\", \"capital\": \"Port Moresby\", \"longitude\": 147.194, \"latitude\": -9.47357, \"incomelevel\": \"Lower middle income\", \"color\": \"red\"}, {\"id\": \"POL\", \"iso2Code\": \"PL\", \"name\": \"Poland\", \"capital\": \"Warsaw\", \"longitude\": 21.02, \"latitude\": 52.26, \"incomelevel\": \"High income\", \"color\": \"green\"}, {\"id\": \"PRI\", \"iso2Code\": \"PR\", \"name\": \"Puerto Rico\", \"capital\": \"San Juan\", \"longitude\": -66.0, \"latitude\": 18.23, \"incomelevel\": \"High income\", \"color\": \"green\"}, {\"id\": \"PRK\", \"iso2Code\": \"KP\", \"name\": \"Korea, Dem. People\\u2019s Rep.\", \"capital\": \"Pyongyang\", \"longitude\": 125.754, \"latitude\": 39.0319, \"incomelevel\": \"Low income\", \"color\": \"darkred\"}, {\"id\": \"PRT\", \"iso2Code\": \"PT\", \"name\": \"Portugal\", \"capital\": \"Lisbon\", \"longitude\": -9.13552, \"latitude\": 38.7072, \"incomelevel\": \"High income\", \"color\": \"green\"}, {\"id\": \"PRY\", \"iso2Code\": \"PY\", \"name\": \"Paraguay\", \"capital\": \"Asuncion\", \"longitude\": -57.6362, \"latitude\": -25.3005, \"incomelevel\": \"Upper middle income\", \"color\": \"orange\"}, {\"id\": \"PYF\", \"iso2Code\": \"PF\", \"name\": \"French Polynesia\", \"capital\": \"Papeete\", \"longitude\": -149.57, \"latitude\": -17.535, \"incomelevel\": \"High income\", \"color\": \"green\"}, {\"id\": \"QAT\", \"iso2Code\": \"QA\", \"name\": \"Qatar\", \"capital\": \"Doha\", \"longitude\": 51.5082, \"latitude\": 25.2948, \"incomelevel\": \"High income\", \"color\": \"green\"}, {\"id\": \"ROU\", \"iso2Code\": \"RO\", \"name\": \"Romania\", \"capital\": \"Bucharest\", \"longitude\": 26.0979, \"latitude\": 44.4479, \"incomelevel\": \"High income\", \"color\": \"green\"}, {\"id\": \"RUS\", \"iso2Code\": \"RU\", \"name\": \"Russian Federation\", \"capital\": \"Moscow\", \"longitude\": 37.6176, \"latitude\": 55.7558, \"incomelevel\": \"Upper middle income\", \"color\": \"orange\"}, {\"id\": \"RWA\", \"iso2Code\": \"RW\", \"name\": \"Rwanda\", \"capital\": \"Kigali\", \"longitude\": 30.0587, \"latitude\": -1.95325, \"incomelevel\": \"Low income\", \"color\": \"darkred\"}, {\"id\": \"SAU\", \"iso2Code\": \"SA\", \"name\": \"Saudi Arabia\", \"capital\": \"Riyadh\", \"longitude\": 46.6977, \"latitude\": 24.6748, \"incomelevel\": \"High income\", \"color\": \"green\"}, {\"id\": \"SDN\", \"iso2Code\": \"SD\", \"name\": \"Sudan\", \"capital\": \"Khartoum\", \"longitude\": 32.5363, \"latitude\": 15.5932, \"incomelevel\": \"Low income\", \"color\": \"darkred\"}, {\"id\": \"SEN\", \"iso2Code\": \"SN\", \"name\": \"Senegal\", \"capital\": \"Dakar\", \"longitude\": -17.4734, \"latitude\": 14.7247, \"incomelevel\": \"Lower middle income\", \"color\": \"red\"}, {\"id\": \"SGP\", \"iso2Code\": \"SG\", \"name\": \"Singapore\", \"capital\": \"Singapore\", \"longitude\": 103.85, \"latitude\": 1.28941, \"incomelevel\": \"High income\", \"color\": \"green\"}, {\"id\": \"SLB\", \"iso2Code\": \"SB\", \"name\": \"Solomon Islands\", \"capital\": \"Honiara\", \"longitude\": 159.949, \"latitude\": -9.42676, \"incomelevel\": \"Lower middle income\", \"color\": \"red\"}, {\"id\": \"SLE\", \"iso2Code\": \"SL\", \"name\": \"Sierra Leone\", \"capital\": \"Freetown\", \"longitude\": -13.2134, \"latitude\": 8.4821, \"incomelevel\": \"Low income\", \"color\": \"darkred\"}, {\"id\": \"SLV\", \"iso2Code\": \"SV\", \"name\": \"El Salvador\", \"capital\": \"San Salvador\", \"longitude\": -89.2073, \"latitude\": 13.7034, \"incomelevel\": \"Lower middle income\", \"color\": \"red\"}, {\"id\": \"SMR\", \"iso2Code\": \"SM\", \"name\": \"San Marino\", \"capital\": \"San Marino\", \"longitude\": 12.4486, \"latitude\": 43.9322, \"incomelevel\": \"High income\", \"color\": \"green\"}, {\"id\": \"SOM\", \"iso2Code\": \"SO\", \"name\": \"Somalia\", \"capital\": \"Mogadishu\", \"longitude\": 45.3254, \"latitude\": 2.07515, \"incomelevel\": \"Low income\", \"color\": \"darkred\"}, {\"id\": \"SRB\", \"iso2Code\": \"RS\", \"name\": \"Serbia\", \"capital\": \"Belgrade\", \"longitude\": 20.4656, \"latitude\": 44.8024, \"incomelevel\": \"Upper middle income\", \"color\": \"orange\"}, {\"id\": \"SSD\", \"iso2Code\": \"SS\", \"name\": \"South Sudan\", \"capital\": \"Juba\", \"longitude\": 31.6, \"latitude\": 4.85, \"incomelevel\": \"Low income\", \"color\": \"darkred\"}, {\"id\": \"STP\", \"iso2Code\": \"ST\", \"name\": \"Sao Tome and Principe\", \"capital\": \"Sao Tome\", \"longitude\": 6.6071, \"latitude\": 0.20618, \"incomelevel\": \"Lower middle income\", \"color\": \"red\"}, {\"id\": \"SUR\", \"iso2Code\": \"SR\", \"name\": \"Suriname\", \"capital\": \"Paramaribo\", \"longitude\": -55.1679, \"latitude\": 5.8232, \"incomelevel\": \"Upper middle income\", \"color\": \"orange\"}, {\"id\": \"SVK\", \"iso2Code\": \"SK\", \"name\": \"Slovak Republic\", \"capital\": \"Bratislava\", \"longitude\": 17.1073, \"latitude\": 48.1484, \"incomelevel\": \"High income\", \"color\": \"green\"}, {\"id\": \"SVN\", \"iso2Code\": \"SI\", \"name\": \"Slovenia\", \"capital\": \"Ljubljana\", \"longitude\": 14.5044, \"latitude\": 46.0546, \"incomelevel\": \"High income\", \"color\": \"green\"}, {\"id\": \"SWE\", \"iso2Code\": \"SE\", \"name\": \"Sweden\", \"capital\": \"Stockholm\", \"longitude\": 18.0645, \"latitude\": 59.3327, \"incomelevel\": \"High income\", \"color\": \"green\"}, {\"id\": \"SWZ\", \"iso2Code\": \"SZ\", \"name\": \"Eswatini\", \"capital\": \"Mbabane\", \"longitude\": 31.4659, \"latitude\": -26.5225, \"incomelevel\": \"Lower middle income\", \"color\": \"red\"}, {\"id\": \"SYC\", \"iso2Code\": \"SC\", \"name\": \"Seychelles\", \"capital\": \"Victoria\", \"longitude\": 55.4466, \"latitude\": -4.6309, \"incomelevel\": \"High income\", \"color\": \"green\"}, {\"id\": \"SYR\", \"iso2Code\": \"SY\", \"name\": \"Syrian Arab Republic\", \"capital\": \"Damascus\", \"longitude\": 36.3119, \"latitude\": 33.5146, \"incomelevel\": \"Low income\", \"color\": \"darkred\"}, {\"id\": \"TCA\", \"iso2Code\": \"TC\", \"name\": \"Turks and Caicos Islands\", \"capital\": \"Grand Turk\", \"longitude\": -71.141389, \"latitude\": 21.4602778, \"incomelevel\": \"High income\", \"color\": \"green\"}, {\"id\": \"TCD\", \"iso2Code\": \"TD\", \"name\": \"Chad\", \"capital\": \"N'Djamena\", \"longitude\": 15.0445, \"latitude\": 12.1048, \"incomelevel\": \"Low income\", \"color\": \"darkred\"}, {\"id\": \"TGO\", \"iso2Code\": \"TG\", \"name\": \"Togo\", \"capital\": \"Lome\", \"longitude\": 1.2255, \"latitude\": 6.1228, \"incomelevel\": \"Low income\", \"color\": \"darkred\"}, {\"id\": \"THA\", \"iso2Code\": \"TH\", \"name\": \"Thailand\", \"capital\": \"Bangkok\", \"longitude\": 100.521, \"latitude\": 13.7308, \"incomelevel\": \"Upper middle income\", \"color\": \"orange\"}, {\"id\": \"TJK\", \"iso2Code\": \"TJ\", \"name\": \"Tajikistan\", \"capital\": \"Dushanbe\", \"longitude\": 68.7864, \"latitude\": 38.5878, \"incomelevel\": \"Low income\", \"color\": \"darkred\"}, {\"id\": \"TKM\", \"iso2Code\": \"TM\", \"name\": \"Turkmenistan\", \"capital\": \"Ashgabat\", \"longitude\": 58.3794, \"latitude\": 37.9509, \"incomelevel\": \"Upper middle income\", \"color\": \"orange\"}, {\"id\": \"TLS\", \"iso2Code\": \"TL\", \"name\": \"Timor-Leste\", \"capital\": \"Dili\", \"longitude\": 125.567, \"latitude\": -8.56667, \"incomelevel\": \"Lower middle income\", \"color\": \"red\"}, {\"id\": \"TON\", \"iso2Code\": \"TO\", \"name\": \"Tonga\", \"capital\": \"Nuku'alofa\", \"longitude\": -175.216, \"latitude\": -21.136, \"incomelevel\": \"Upper middle income\", \"color\": \"orange\"}, {\"id\": \"TTO\", \"iso2Code\": \"TT\", \"name\": \"Trinidad and Tobago\", \"capital\": \"Port-of-Spain\", \"longitude\": -61.4789, \"latitude\": 10.6596, \"incomelevel\": \"High income\", \"color\": \"green\"}, {\"id\": \"TUN\", \"iso2Code\": \"TN\", \"name\": \"Tunisia\", \"capital\": \"Tunis\", \"longitude\": 10.21, \"latitude\": 36.7899, \"incomelevel\": \"Lower middle income\", \"color\": \"red\"}, {\"id\": \"TUR\", \"iso2Code\": \"TR\", \"name\": \"Turkey\", \"capital\": \"Ankara\", \"longitude\": 32.3606, \"latitude\": 39.7153, \"incomelevel\": \"Upper middle income\", \"color\": \"orange\"}, {\"id\": \"TUV\", \"iso2Code\": \"TV\", \"name\": \"Tuvalu\", \"capital\": \"Funafuti\", \"longitude\": 179.089567, \"latitude\": -8.6314877, \"incomelevel\": \"Upper middle income\", \"color\": \"orange\"}, {\"id\": \"TZA\", \"iso2Code\": \"TZ\", \"name\": \"Tanzania\", \"capital\": \"Dodoma\", \"longitude\": 35.7382, \"latitude\": -6.17486, \"incomelevel\": \"Lower middle income\", \"color\": \"red\"}, {\"id\": \"UGA\", \"iso2Code\": \"UG\", \"name\": \"Uganda\", \"capital\": \"Kampala\", \"longitude\": 32.5729, \"latitude\": 0.314269, \"incomelevel\": \"Low income\", \"color\": \"darkred\"}, {\"id\": \"UKR\", \"iso2Code\": \"UA\", \"name\": \"Ukraine\", \"capital\": \"Kiev\", \"longitude\": 30.5038, \"latitude\": 50.4536, \"incomelevel\": \"Lower middle income\", \"color\": \"red\"}, {\"id\": \"URY\", \"iso2Code\": \"UY\", \"name\": \"Uruguay\", \"capital\": \"Montevideo\", \"longitude\": -56.0675, \"latitude\": -34.8941, \"incomelevel\": \"High income\", \"color\": \"green\"}, {\"id\": \"USA\", \"iso2Code\": \"US\", \"name\": \"United States\", \"capital\": \"Washington D.C.\", \"longitude\": -77.032, \"latitude\": 38.8895, \"incomelevel\": \"High income\", \"color\": \"green\"}, {\"id\": \"UZB\", \"iso2Code\": \"UZ\", \"name\": \"Uzbekistan\", \"capital\": \"Tashkent\", \"longitude\": 69.269, \"latitude\": 41.3052, \"incomelevel\": \"Lower middle income\", \"color\": \"red\"}, {\"id\": \"VCT\", \"iso2Code\": \"VC\", \"name\": \"St. Vincent and the Grenadines\", \"capital\": \"Kingstown\", \"longitude\": -61.2653, \"latitude\": 13.2035, \"incomelevel\": \"Upper middle income\", \"color\": \"orange\"}, {\"id\": \"VEN\", \"iso2Code\": \"VE\", \"name\": \"Venezuela, RB\", \"capital\": \"Caracas\", \"longitude\": -69.8371, \"latitude\": 9.08165, \"incomelevel\": \"Upper middle income\", \"color\": \"orange\"}, {\"id\": \"VGB\", \"iso2Code\": \"VG\", \"name\": \"British Virgin Islands\", \"capital\": \"Road Town\", \"longitude\": -64.623056, \"latitude\": 18.431389, \"incomelevel\": \"High income\", \"color\": \"green\"}, {\"id\": \"VIR\", \"iso2Code\": \"VI\", \"name\": \"Virgin Islands (U.S.)\", \"capital\": \"Charlotte Amalie\", \"longitude\": -64.8963, \"latitude\": 18.3358, \"incomelevel\": \"High income\", \"color\": \"green\"}, {\"id\": \"VNM\", \"iso2Code\": \"VN\", \"name\": \"Vietnam\", \"capital\": \"Hanoi\", \"longitude\": 105.825, \"latitude\": 21.0069, \"incomelevel\": \"Lower middle income\", \"color\": \"red\"}, {\"id\": \"VUT\", \"iso2Code\": \"VU\", \"name\": \"Vanuatu\", \"capital\": \"Port-Vila\", \"longitude\": 168.321, \"latitude\": -17.7404, \"incomelevel\": \"Lower middle income\", \"color\": \"red\"}, {\"id\": \"WSM\", \"iso2Code\": \"WS\", \"name\": \"Samoa\", \"capital\": \"Apia\", \"longitude\": -171.752, \"latitude\": -13.8314, \"incomelevel\": \"Upper middle income\", \"color\": \"orange\"}, {\"id\": \"XKX\", \"iso2Code\": \"XK\", \"name\": \"Kosovo\", \"capital\": \"Pristina\", \"longitude\": 20.926, \"latitude\": 42.565, \"incomelevel\": \"Upper middle income\", \"color\": \"orange\"}, {\"id\": \"YEM\", \"iso2Code\": \"YE\", \"name\": \"Yemen, Rep.\", \"capital\": \"Sana'a\", \"longitude\": 44.2075, \"latitude\": 15.352, \"incomelevel\": \"Low income\", \"color\": \"darkred\"}, {\"id\": \"ZAF\", \"iso2Code\": \"ZA\", \"name\": \"South Africa\", \"capital\": \"Pretoria\", \"longitude\": 28.1871, \"latitude\": -25.746, \"incomelevel\": \"Upper middle income\", \"color\": \"orange\"}, {\"id\": \"ZMB\", \"iso2Code\": \"ZM\", \"name\": \"Zambia\", \"capital\": \"Lusaka\", \"longitude\": 28.2937, \"latitude\": -15.3982, \"incomelevel\": \"Lower middle income\", \"color\": \"red\"}, {\"id\": \"ZWE\", \"iso2Code\": \"ZW\", \"name\": \"Zimbabwe\", \"capital\": \"Harare\", \"longitude\": 31.0672, \"latitude\": -17.8312, \"incomelevel\": \"Lower middle income\", \"color\": \"red\"}]}}, {\"mode\": \"vega-lite\"});\n",
       "</script>"
      ],
      "text/plain": [
       "alt.Chart(...)"
      ]
     },
     "execution_count": 65,
     "metadata": {},
     "output_type": "execute_result"
    }
   ],
   "source": [
    "altair.Chart(wbdata).mark_circle().encode(\n",
    "    x='longitude',\n",
    "    y='latitude',\n",
    "    color='incomelevel',\n",
    "    tooltip='name'\n",
    "    # size='population'\n",
    ").interactive()"
   ]
  },
  {
   "cell_type": "markdown",
   "metadata": {
    "slideshow": {
     "slide_type": "notes"
    }
   },
   "source": [
    "Idea: use the World Map example: https://altair-viz.github.io/gallery/world_map.html"
   ]
  },
  {
   "cell_type": "markdown",
   "metadata": {
    "slideshow": {
     "slide_type": "subslide"
    }
   },
   "source": [
    "### Real interactive maps"
   ]
  },
  {
   "cell_type": "code",
   "execution_count": 66,
   "metadata": {
    "slideshow": {
     "slide_type": "fragment"
    }
   },
   "outputs": [
    {
     "data": {
      "text/html": [
       "<div style=\"width:100%;\"><div style=\"position:relative;width:100%;height:0;padding-bottom:60%;\"><span style=\"color:#565656\">Make this Notebook Trusted to load map: File -> Trust Notebook</span><iframe src=\"about:blank\" style=\"position:absolute;width:100%;height:100%;left:0;top:0;border:none !important;\" data-html=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 onload=\"this.contentDocument.open();this.contentDocument.write(atob(this.getAttribute('data-html')));this.contentDocument.close();\" allowfullscreen webkitallowfullscreen mozallowfullscreen></iframe></div></div>"
      ],
      "text/plain": [
       "<folium.folium.Map at 0x7faabbf8b5b0>"
      ]
     },
     "execution_count": 66,
     "metadata": {},
     "output_type": "execute_result"
    }
   ],
   "source": [
    "from folium import Map, Marker, Icon\n",
    "\n",
    "mymap = Map(location=[0, 0], zoom_start=2)\n",
    "mymap"
   ]
  },
  {
   "cell_type": "markdown",
   "metadata": {
    "slideshow": {
     "slide_type": "subslide"
    }
   },
   "source": [
    "### Where are our participants from?"
   ]
  },
  {
   "cell_type": "code",
   "execution_count": 67,
   "metadata": {
    "slideshow": {
     "slide_type": "fragment"
    }
   },
   "outputs": [
    {
     "data": {
      "text/html": [
       "<div>\n",
       "<style scoped>\n",
       "    .dataframe tbody tr th:only-of-type {\n",
       "        vertical-align: middle;\n",
       "    }\n",
       "\n",
       "    .dataframe tbody tr th {\n",
       "        vertical-align: top;\n",
       "    }\n",
       "\n",
       "    .dataframe thead th {\n",
       "        text-align: right;\n",
       "    }\n",
       "</style>\n",
       "<table border=\"1\" class=\"dataframe\">\n",
       "  <thead>\n",
       "    <tr style=\"text-align: right;\">\n",
       "      <th></th>\n",
       "      <th>Country</th>\n",
       "      <th>City</th>\n",
       "      <th>Flag</th>\n",
       "      <th>Country Code</th>\n",
       "      <th>Location</th>\n",
       "      <th>Temperature</th>\n",
       "    </tr>\n",
       "  </thead>\n",
       "  <tbody>\n",
       "    <tr>\n",
       "      <th>0</th>\n",
       "      <td>Australia</td>\n",
       "      <td>Melbourne</td>\n",
       "      <td>🇦🇺</td>\n",
       "      <td>AU</td>\n",
       "      <td>Melbourne,AU</td>\n",
       "      <td>14.42</td>\n",
       "    </tr>\n",
       "    <tr>\n",
       "      <th>1</th>\n",
       "      <td>Chile</td>\n",
       "      <td>Santiago</td>\n",
       "      <td>🇨🇱</td>\n",
       "      <td>CL</td>\n",
       "      <td>Santiago,CL</td>\n",
       "      <td>15.76</td>\n",
       "    </tr>\n",
       "    <tr>\n",
       "      <th>2</th>\n",
       "      <td>China</td>\n",
       "      <td>Hong Kong</td>\n",
       "      <td>🇨🇳</td>\n",
       "      <td>CN</td>\n",
       "      <td>Hong Kong,CN</td>\n",
       "      <td>26.81</td>\n",
       "    </tr>\n",
       "  </tbody>\n",
       "</table>\n",
       "</div>"
      ],
      "text/plain": [
       "     Country       City Flag Country Code      Location  Temperature\n",
       "0  Australia  Melbourne   🇦🇺           AU  Melbourne,AU        14.42\n",
       "1      Chile   Santiago   🇨🇱           CL   Santiago,CL        15.76\n",
       "2      China  Hong Kong   🇨🇳           CN  Hong Kong,CN        26.81"
      ]
     },
     "execution_count": 67,
     "metadata": {},
     "output_type": "execute_result"
    }
   ],
   "source": [
    "places[:3]"
   ]
  },
  {
   "cell_type": "code",
   "execution_count": 68,
   "metadata": {
    "slideshow": {
     "slide_type": "fragment"
    }
   },
   "outputs": [],
   "source": [
    "places2 = places.set_index(\n",
    "    'Country Code'\n",
    ").join(\n",
    "    wbdata.set_index('iso2Code')[['longitude', 'latitude']]\n",
    ").dropna().reset_index()"
   ]
  },
  {
   "cell_type": "code",
   "execution_count": 80,
   "metadata": {
    "slideshow": {
     "slide_type": "fragment"
    }
   },
   "outputs": [
    {
     "data": {
      "text/html": [
       "<div>\n",
       "<style scoped>\n",
       "    .dataframe tbody tr th:only-of-type {\n",
       "        vertical-align: middle;\n",
       "    }\n",
       "\n",
       "    .dataframe tbody tr th {\n",
       "        vertical-align: top;\n",
       "    }\n",
       "\n",
       "    .dataframe thead th {\n",
       "        text-align: right;\n",
       "    }\n",
       "</style>\n",
       "<table border=\"1\" class=\"dataframe\">\n",
       "  <thead>\n",
       "    <tr style=\"text-align: right;\">\n",
       "      <th></th>\n",
       "      <th>index</th>\n",
       "      <th>Country</th>\n",
       "      <th>City</th>\n",
       "      <th>Flag</th>\n",
       "      <th>Location</th>\n",
       "      <th>Temperature</th>\n",
       "      <th>longitude</th>\n",
       "      <th>latitude</th>\n",
       "    </tr>\n",
       "  </thead>\n",
       "  <tbody>\n",
       "    <tr>\n",
       "      <th>0</th>\n",
       "      <td>AU</td>\n",
       "      <td>Australia</td>\n",
       "      <td>Melbourne</td>\n",
       "      <td>🇦🇺</td>\n",
       "      <td>Melbourne,AU</td>\n",
       "      <td>14.42</td>\n",
       "      <td>149.1290</td>\n",
       "      <td>-35.2820</td>\n",
       "    </tr>\n",
       "    <tr>\n",
       "      <th>1</th>\n",
       "      <td>CL</td>\n",
       "      <td>Chile</td>\n",
       "      <td>Santiago</td>\n",
       "      <td>🇨🇱</td>\n",
       "      <td>Santiago,CL</td>\n",
       "      <td>15.76</td>\n",
       "      <td>-70.6475</td>\n",
       "      <td>-33.4750</td>\n",
       "    </tr>\n",
       "    <tr>\n",
       "      <th>2</th>\n",
       "      <td>CN</td>\n",
       "      <td>China</td>\n",
       "      <td>Hong Kong</td>\n",
       "      <td>🇨🇳</td>\n",
       "      <td>Hong Kong,CN</td>\n",
       "      <td>26.81</td>\n",
       "      <td>116.2860</td>\n",
       "      <td>40.0495</td>\n",
       "    </tr>\n",
       "  </tbody>\n",
       "</table>\n",
       "</div>"
      ],
      "text/plain": [
       "  index    Country       City Flag      Location  Temperature  longitude  \\\n",
       "0    AU  Australia  Melbourne   🇦🇺  Melbourne,AU        14.42   149.1290   \n",
       "1    CL      Chile   Santiago   🇨🇱   Santiago,CL        15.76   -70.6475   \n",
       "2    CN      China  Hong Kong   🇨🇳  Hong Kong,CN        26.81   116.2860   \n",
       "\n",
       "   latitude  \n",
       "0  -35.2820  \n",
       "1  -33.4750  \n",
       "2   40.0495  "
      ]
     },
     "execution_count": 80,
     "metadata": {},
     "output_type": "execute_result"
    }
   ],
   "source": [
    "places2[:3]"
   ]
  },
  {
   "cell_type": "code",
   "execution_count": 70,
   "metadata": {
    "scrolled": true,
    "slideshow": {
     "slide_type": "subslide"
    }
   },
   "outputs": [
    {
     "data": {
      "text/html": [
       "<div style=\"width:100%;\"><div style=\"position:relative;width:100%;height:0;padding-bottom:60%;\"><span style=\"color:#565656\">Make this Notebook Trusted to load map: File -> Trust Notebook</span><iframe src=\"about:blank\" style=\"position:absolute;width:100%;height:100%;left:0;top:0;border:none !important;\" data-html=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 onload=\"this.contentDocument.open();this.contentDocument.write(atob(this.getAttribute('data-html')));this.contentDocument.close();\" allowfullscreen webkitallowfullscreen mozallowfullscreen></iframe></div></div>"
      ],
      "text/plain": [
       "<folium.folium.Map at 0x7faabbf8b5b0>"
      ]
     },
     "execution_count": 70,
     "metadata": {},
     "output_type": "execute_result"
    }
   ],
   "source": [
    "markers = [Marker([row.latitude, row.longitude], popup=row.Country, icon=Icon())\n",
    "           for row in places2.itertuples()]\n",
    "\n",
    "for marker in markers:\n",
    "    marker.add_to(mymap)\n",
    "\n",
    "mymap"
   ]
  },
  {
   "cell_type": "markdown",
   "metadata": {
    "slideshow": {
     "slide_type": "fragment"
    }
   },
   "source": [
    "Hi to our participants from all these countries! (and all the others ...)"
   ]
  },
  {
   "cell_type": "markdown",
   "metadata": {
    "slideshow": {
     "slide_type": "slide"
    }
   },
   "source": [
    "## Demo #10: Image processing"
   ]
  },
  {
   "cell_type": "code",
   "execution_count": 71,
   "metadata": {
    "slideshow": {
     "slide_type": "subslide"
    }
   },
   "outputs": [],
   "source": [
    "def get_city_photo(city):\n",
    "    page = wikipedia.page(title=city)\n",
    "    photos = [url for url in page.images if url.endswith('.jpg')]\n",
    "    return Image(photos[0])"
   ]
  },
  {
   "cell_type": "code",
   "execution_count": 72,
   "metadata": {
    "slideshow": {
     "slide_type": "skip"
    }
   },
   "outputs": [],
   "source": [
    "import toolz as tz\n",
    "\n",
    "get_city_photo = tz.memoize(get_city_photo)"
   ]
  },
  {
   "cell_type": "code",
   "execution_count": 73,
   "metadata": {
    "slideshow": {
     "slide_type": "fragment"
    }
   },
   "outputs": [],
   "source": [
    "sg_photo = get_city_photo('Singapore')"
   ]
  },
  {
   "cell_type": "code",
   "execution_count": 74,
   "metadata": {
    "slideshow": {
     "slide_type": "skip"
    }
   },
   "outputs": [],
   "source": [
    "# This code converts the downloaded JPEG file into an array so we can manipulate it further\n",
    "import matplotlib.pyplot as plt\n",
    "from io import BytesIO\n",
    "\n",
    "reference = plt.imread(BytesIO(sg_photo.data), format='jpg')"
   ]
  },
  {
   "cell_type": "code",
   "execution_count": 75,
   "metadata": {
    "slideshow": {
     "slide_type": "fragment"
    }
   },
   "outputs": [
    {
     "data": {
      "image/svg+xml": [
       "<?xml version=\"1.0\" encoding=\"utf-8\" standalone=\"no\"?>\n",
       "<!DOCTYPE svg PUBLIC \"-//W3C//DTD SVG 1.1//EN\"\n",
       "  \"http://www.w3.org/Graphics/SVG/1.1/DTD/svg11.dtd\">\n",
       "<!-- Created with matplotlib (https://matplotlib.org/) -->\n",
       "<svg height=\"223.216378pt\" version=\"1.1\" viewBox=\"0 0 381.65 223.216378\" width=\"381.65pt\" xmlns=\"http://www.w3.org/2000/svg\" xmlns:xlink=\"http://www.w3.org/1999/xlink\">\n",
       " <metadata>\n",
       "  <rdf:RDF xmlns:cc=\"http://creativecommons.org/ns#\" xmlns:dc=\"http://purl.org/dc/elements/1.1/\" xmlns:rdf=\"http://www.w3.org/1999/02/22-rdf-syntax-ns#\">\n",
       "   <cc:Work>\n",
       "    <dc:type rdf:resource=\"http://purl.org/dc/dcmitype/StillImage\"/>\n",
       "    <dc:date>2020-09-10T10:59:19.972169</dc:date>\n",
       "    <dc:format>image/svg+xml</dc:format>\n",
       "    <dc:creator>\n",
       "     <cc:Agent>\n",
       "      <dc:title>Matplotlib v3.3.1, https://matplotlib.org/</dc:title>\n",
       "     </cc:Agent>\n",
       "    </dc:creator>\n",
       "   </cc:Work>\n",
       "  </rdf:RDF>\n",
       " </metadata>\n",
       " <defs>\n",
       "  <style type=\"text/css\">*{stroke-linecap:butt;stroke-linejoin:round;}</style>\n",
       " </defs>\n",
       " <g id=\"figure_1\">\n",
       "  <g id=\"patch_1\">\n",
       "   <path d=\"M -0 223.216378 \n",
       "L 381.65 223.216378 \n",
       "L 381.65 0 \n",
       "L -0 0 \n",
       "z\n",
       "\" style=\"fill:none;\"/>\n",
       "  </g>\n",
       "  <g id=\"axes_1\">\n",
       "   <g id=\"patch_2\">\n",
       "    <path d=\"M 39.65 199.338253 \n",
       "L 374.45 199.338253 \n",
       "L 374.45 10.980506 \n",
       "L 39.65 10.980506 \n",
       "z\n",
       "\" style=\"fill:#ffffff;\"/>\n",
       "   </g>\n",
       "   <g clip-path=\"url(#p87b7a41e0b)\">\n",
       "    <image height=\"189\" id=\"imagef3f71fdf45\" transform=\"scale(1 -1)translate(0 -189)\" width=\"335\" x=\"39.65\" xlink:href=\"data:image/png;base64,\n",
       "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\" y=\"-10.338253\"/>\n",
       "   </g>\n",
       "   <g id=\"matplotlib.axis_1\">\n",
       "    <g id=\"xtick_1\">\n",
       "     <g id=\"line2d_1\">\n",
       "      <defs>\n",
       "       <path d=\"M 0 0 \n",
       "L 0 3.5 \n",
       "\" id=\"m81a4a15cca\" style=\"stroke:#000000;stroke-width:0.8;\"/>\n",
       "      </defs>\n",
       "      <g>\n",
       "       <use style=\"stroke:#000000;stroke-width:0.8;\" x=\"39.668712\" xlink:href=\"#m81a4a15cca\" y=\"199.338253\"/>\n",
       "      </g>\n",
       "     </g>\n",
       "     <g id=\"text_1\">\n",
       "      <!-- 0 -->\n",
       "      <g transform=\"translate(36.487462 213.93669)scale(0.1 -0.1)\">\n",
       "       <defs>\n",
       "        <path d=\"M 31.78125 66.40625 \n",
       "Q 24.171875 66.40625 20.328125 58.90625 \n",
       "Q 16.5 51.421875 16.5 36.375 \n",
       "Q 16.5 21.390625 20.328125 13.890625 \n",
       "Q 24.171875 6.390625 31.78125 6.390625 \n",
       "Q 39.453125 6.390625 43.28125 13.890625 \n",
       "Q 47.125 21.390625 47.125 36.375 \n",
       "Q 47.125 51.421875 43.28125 58.90625 \n",
       "Q 39.453125 66.40625 31.78125 66.40625 \n",
       "z\n",
       "M 31.78125 74.21875 \n",
       "Q 44.046875 74.21875 50.515625 64.515625 \n",
       "Q 56.984375 54.828125 56.984375 36.375 \n",
       "Q 56.984375 17.96875 50.515625 8.265625 \n",
       "Q 44.046875 -1.421875 31.78125 -1.421875 \n",
       "Q 19.53125 -1.421875 13.0625 8.265625 \n",
       "Q 6.59375 17.96875 6.59375 36.375 \n",
       "Q 6.59375 54.828125 13.0625 64.515625 \n",
       "Q 19.53125 74.21875 31.78125 74.21875 \n",
       "z\n",
       "\" id=\"DejaVuSans-48\"/>\n",
       "       </defs>\n",
       "       <use xlink:href=\"#DejaVuSans-48\"/>\n",
       "      </g>\n",
       "     </g>\n",
       "    </g>\n",
       "    <g id=\"xtick_2\">\n",
       "     <g id=\"line2d_2\">\n",
       "      <g>\n",
       "       <use style=\"stroke:#000000;stroke-width:0.8;\" x=\"77.09326\" xlink:href=\"#m81a4a15cca\" y=\"199.338253\"/>\n",
       "      </g>\n",
       "     </g>\n",
       "     <g id=\"text_2\">\n",
       "      <!-- 1000 -->\n",
       "      <g transform=\"translate(64.36826 213.93669)scale(0.1 -0.1)\">\n",
       "       <defs>\n",
       "        <path d=\"M 12.40625 8.296875 \n",
       "L 28.515625 8.296875 \n",
       "L 28.515625 63.921875 \n",
       "L 10.984375 60.40625 \n",
       "L 10.984375 69.390625 \n",
       "L 28.421875 72.90625 \n",
       "L 38.28125 72.90625 \n",
       "L 38.28125 8.296875 \n",
       "L 54.390625 8.296875 \n",
       "L 54.390625 0 \n",
       "L 12.40625 0 \n",
       "z\n",
       "\" id=\"DejaVuSans-49\"/>\n",
       "       </defs>\n",
       "       <use xlink:href=\"#DejaVuSans-49\"/>\n",
       "       <use x=\"63.623047\" xlink:href=\"#DejaVuSans-48\"/>\n",
       "       <use x=\"127.246094\" xlink:href=\"#DejaVuSans-48\"/>\n",
       "       <use x=\"190.869141\" xlink:href=\"#DejaVuSans-48\"/>\n",
       "      </g>\n",
       "     </g>\n",
       "    </g>\n",
       "    <g id=\"xtick_3\">\n",
       "     <g id=\"line2d_3\">\n",
       "      <g>\n",
       "       <use style=\"stroke:#000000;stroke-width:0.8;\" x=\"114.517807\" xlink:href=\"#m81a4a15cca\" y=\"199.338253\"/>\n",
       "      </g>\n",
       "     </g>\n",
       "     <g id=\"text_3\">\n",
       "      <!-- 2000 -->\n",
       "      <g transform=\"translate(101.792807 213.93669)scale(0.1 -0.1)\">\n",
       "       <defs>\n",
       "        <path d=\"M 19.1875 8.296875 \n",
       "L 53.609375 8.296875 \n",
       "L 53.609375 0 \n",
       "L 7.328125 0 \n",
       "L 7.328125 8.296875 \n",
       "Q 12.9375 14.109375 22.625 23.890625 \n",
       "Q 32.328125 33.6875 34.8125 36.53125 \n",
       "Q 39.546875 41.84375 41.421875 45.53125 \n",
       "Q 43.3125 49.21875 43.3125 52.78125 \n",
       "Q 43.3125 58.59375 39.234375 62.25 \n",
       "Q 35.15625 65.921875 28.609375 65.921875 \n",
       "Q 23.96875 65.921875 18.8125 64.3125 \n",
       "Q 13.671875 62.703125 7.8125 59.421875 \n",
       "L 7.8125 69.390625 \n",
       "Q 13.765625 71.78125 18.9375 73 \n",
       "Q 24.125 74.21875 28.421875 74.21875 \n",
       "Q 39.75 74.21875 46.484375 68.546875 \n",
       "Q 53.21875 62.890625 53.21875 53.421875 \n",
       "Q 53.21875 48.921875 51.53125 44.890625 \n",
       "Q 49.859375 40.875 45.40625 35.40625 \n",
       "Q 44.1875 33.984375 37.640625 27.21875 \n",
       "Q 31.109375 20.453125 19.1875 8.296875 \n",
       "z\n",
       "\" id=\"DejaVuSans-50\"/>\n",
       "       </defs>\n",
       "       <use xlink:href=\"#DejaVuSans-50\"/>\n",
       "       <use x=\"63.623047\" xlink:href=\"#DejaVuSans-48\"/>\n",
       "       <use x=\"127.246094\" xlink:href=\"#DejaVuSans-48\"/>\n",
       "       <use x=\"190.869141\" xlink:href=\"#DejaVuSans-48\"/>\n",
       "      </g>\n",
       "     </g>\n",
       "    </g>\n",
       "    <g id=\"xtick_4\">\n",
       "     <g id=\"line2d_4\">\n",
       "      <g>\n",
       "       <use style=\"stroke:#000000;stroke-width:0.8;\" x=\"151.942354\" xlink:href=\"#m81a4a15cca\" y=\"199.338253\"/>\n",
       "      </g>\n",
       "     </g>\n",
       "     <g id=\"text_4\">\n",
       "      <!-- 3000 -->\n",
       "      <g transform=\"translate(139.217354 213.93669)scale(0.1 -0.1)\">\n",
       "       <defs>\n",
       "        <path d=\"M 40.578125 39.3125 \n",
       "Q 47.65625 37.796875 51.625 33 \n",
       "Q 55.609375 28.21875 55.609375 21.1875 \n",
       "Q 55.609375 10.40625 48.1875 4.484375 \n",
       "Q 40.765625 -1.421875 27.09375 -1.421875 \n",
       "Q 22.515625 -1.421875 17.65625 -0.515625 \n",
       "Q 12.796875 0.390625 7.625 2.203125 \n",
       "L 7.625 11.71875 \n",
       "Q 11.71875 9.328125 16.59375 8.109375 \n",
       "Q 21.484375 6.890625 26.8125 6.890625 \n",
       "Q 36.078125 6.890625 40.9375 10.546875 \n",
       "Q 45.796875 14.203125 45.796875 21.1875 \n",
       "Q 45.796875 27.640625 41.28125 31.265625 \n",
       "Q 36.765625 34.90625 28.71875 34.90625 \n",
       "L 20.21875 34.90625 \n",
       "L 20.21875 43.015625 \n",
       "L 29.109375 43.015625 \n",
       "Q 36.375 43.015625 40.234375 45.921875 \n",
       "Q 44.09375 48.828125 44.09375 54.296875 \n",
       "Q 44.09375 59.90625 40.109375 62.90625 \n",
       "Q 36.140625 65.921875 28.71875 65.921875 \n",
       "Q 24.65625 65.921875 20.015625 65.03125 \n",
       "Q 15.375 64.15625 9.8125 62.3125 \n",
       "L 9.8125 71.09375 \n",
       "Q 15.4375 72.65625 20.34375 73.4375 \n",
       "Q 25.25 74.21875 29.59375 74.21875 \n",
       "Q 40.828125 74.21875 47.359375 69.109375 \n",
       "Q 53.90625 64.015625 53.90625 55.328125 \n",
       "Q 53.90625 49.265625 50.4375 45.09375 \n",
       "Q 46.96875 40.921875 40.578125 39.3125 \n",
       "z\n",
       "\" id=\"DejaVuSans-51\"/>\n",
       "       </defs>\n",
       "       <use xlink:href=\"#DejaVuSans-51\"/>\n",
       "       <use x=\"63.623047\" xlink:href=\"#DejaVuSans-48\"/>\n",
       "       <use x=\"127.246094\" xlink:href=\"#DejaVuSans-48\"/>\n",
       "       <use x=\"190.869141\" xlink:href=\"#DejaVuSans-48\"/>\n",
       "      </g>\n",
       "     </g>\n",
       "    </g>\n",
       "    <g id=\"xtick_5\">\n",
       "     <g id=\"line2d_5\">\n",
       "      <g>\n",
       "       <use style=\"stroke:#000000;stroke-width:0.8;\" x=\"189.366901\" xlink:href=\"#m81a4a15cca\" y=\"199.338253\"/>\n",
       "      </g>\n",
       "     </g>\n",
       "     <g id=\"text_5\">\n",
       "      <!-- 4000 -->\n",
       "      <g transform=\"translate(176.641901 213.93669)scale(0.1 -0.1)\">\n",
       "       <defs>\n",
       "        <path d=\"M 37.796875 64.3125 \n",
       "L 12.890625 25.390625 \n",
       "L 37.796875 25.390625 \n",
       "z\n",
       "M 35.203125 72.90625 \n",
       "L 47.609375 72.90625 \n",
       "L 47.609375 25.390625 \n",
       "L 58.015625 25.390625 \n",
       "L 58.015625 17.1875 \n",
       "L 47.609375 17.1875 \n",
       "L 47.609375 0 \n",
       "L 37.796875 0 \n",
       "L 37.796875 17.1875 \n",
       "L 4.890625 17.1875 \n",
       "L 4.890625 26.703125 \n",
       "z\n",
       "\" id=\"DejaVuSans-52\"/>\n",
       "       </defs>\n",
       "       <use xlink:href=\"#DejaVuSans-52\"/>\n",
       "       <use x=\"63.623047\" xlink:href=\"#DejaVuSans-48\"/>\n",
       "       <use x=\"127.246094\" xlink:href=\"#DejaVuSans-48\"/>\n",
       "       <use x=\"190.869141\" xlink:href=\"#DejaVuSans-48\"/>\n",
       "      </g>\n",
       "     </g>\n",
       "    </g>\n",
       "    <g id=\"xtick_6\">\n",
       "     <g id=\"line2d_6\">\n",
       "      <g>\n",
       "       <use style=\"stroke:#000000;stroke-width:0.8;\" x=\"226.791449\" xlink:href=\"#m81a4a15cca\" y=\"199.338253\"/>\n",
       "      </g>\n",
       "     </g>\n",
       "     <g id=\"text_6\">\n",
       "      <!-- 5000 -->\n",
       "      <g transform=\"translate(214.066449 213.93669)scale(0.1 -0.1)\">\n",
       "       <defs>\n",
       "        <path d=\"M 10.796875 72.90625 \n",
       "L 49.515625 72.90625 \n",
       "L 49.515625 64.59375 \n",
       "L 19.828125 64.59375 \n",
       "L 19.828125 46.734375 \n",
       "Q 21.96875 47.46875 24.109375 47.828125 \n",
       "Q 26.265625 48.1875 28.421875 48.1875 \n",
       "Q 40.625 48.1875 47.75 41.5 \n",
       "Q 54.890625 34.8125 54.890625 23.390625 \n",
       "Q 54.890625 11.625 47.5625 5.09375 \n",
       "Q 40.234375 -1.421875 26.90625 -1.421875 \n",
       "Q 22.3125 -1.421875 17.546875 -0.640625 \n",
       "Q 12.796875 0.140625 7.71875 1.703125 \n",
       "L 7.71875 11.625 \n",
       "Q 12.109375 9.234375 16.796875 8.0625 \n",
       "Q 21.484375 6.890625 26.703125 6.890625 \n",
       "Q 35.15625 6.890625 40.078125 11.328125 \n",
       "Q 45.015625 15.765625 45.015625 23.390625 \n",
       "Q 45.015625 31 40.078125 35.4375 \n",
       "Q 35.15625 39.890625 26.703125 39.890625 \n",
       "Q 22.75 39.890625 18.8125 39.015625 \n",
       "Q 14.890625 38.140625 10.796875 36.28125 \n",
       "z\n",
       "\" id=\"DejaVuSans-53\"/>\n",
       "       </defs>\n",
       "       <use xlink:href=\"#DejaVuSans-53\"/>\n",
       "       <use x=\"63.623047\" xlink:href=\"#DejaVuSans-48\"/>\n",
       "       <use x=\"127.246094\" xlink:href=\"#DejaVuSans-48\"/>\n",
       "       <use x=\"190.869141\" xlink:href=\"#DejaVuSans-48\"/>\n",
       "      </g>\n",
       "     </g>\n",
       "    </g>\n",
       "    <g id=\"xtick_7\">\n",
       "     <g id=\"line2d_7\">\n",
       "      <g>\n",
       "       <use style=\"stroke:#000000;stroke-width:0.8;\" x=\"264.215996\" xlink:href=\"#m81a4a15cca\" y=\"199.338253\"/>\n",
       "      </g>\n",
       "     </g>\n",
       "     <g id=\"text_7\">\n",
       "      <!-- 6000 -->\n",
       "      <g transform=\"translate(251.490996 213.93669)scale(0.1 -0.1)\">\n",
       "       <defs>\n",
       "        <path d=\"M 33.015625 40.375 \n",
       "Q 26.375 40.375 22.484375 35.828125 \n",
       "Q 18.609375 31.296875 18.609375 23.390625 \n",
       "Q 18.609375 15.53125 22.484375 10.953125 \n",
       "Q 26.375 6.390625 33.015625 6.390625 \n",
       "Q 39.65625 6.390625 43.53125 10.953125 \n",
       "Q 47.40625 15.53125 47.40625 23.390625 \n",
       "Q 47.40625 31.296875 43.53125 35.828125 \n",
       "Q 39.65625 40.375 33.015625 40.375 \n",
       "z\n",
       "M 52.59375 71.296875 \n",
       "L 52.59375 62.3125 \n",
       "Q 48.875 64.0625 45.09375 64.984375 \n",
       "Q 41.3125 65.921875 37.59375 65.921875 \n",
       "Q 27.828125 65.921875 22.671875 59.328125 \n",
       "Q 17.53125 52.734375 16.796875 39.40625 \n",
       "Q 19.671875 43.65625 24.015625 45.921875 \n",
       "Q 28.375 48.1875 33.59375 48.1875 \n",
       "Q 44.578125 48.1875 50.953125 41.515625 \n",
       "Q 57.328125 34.859375 57.328125 23.390625 \n",
       "Q 57.328125 12.15625 50.6875 5.359375 \n",
       "Q 44.046875 -1.421875 33.015625 -1.421875 \n",
       "Q 20.359375 -1.421875 13.671875 8.265625 \n",
       "Q 6.984375 17.96875 6.984375 36.375 \n",
       "Q 6.984375 53.65625 15.1875 63.9375 \n",
       "Q 23.390625 74.21875 37.203125 74.21875 \n",
       "Q 40.921875 74.21875 44.703125 73.484375 \n",
       "Q 48.484375 72.75 52.59375 71.296875 \n",
       "z\n",
       "\" id=\"DejaVuSans-54\"/>\n",
       "       </defs>\n",
       "       <use xlink:href=\"#DejaVuSans-54\"/>\n",
       "       <use x=\"63.623047\" xlink:href=\"#DejaVuSans-48\"/>\n",
       "       <use x=\"127.246094\" xlink:href=\"#DejaVuSans-48\"/>\n",
       "       <use x=\"190.869141\" xlink:href=\"#DejaVuSans-48\"/>\n",
       "      </g>\n",
       "     </g>\n",
       "    </g>\n",
       "    <g id=\"xtick_8\">\n",
       "     <g id=\"line2d_8\">\n",
       "      <g>\n",
       "       <use style=\"stroke:#000000;stroke-width:0.8;\" x=\"301.640543\" xlink:href=\"#m81a4a15cca\" y=\"199.338253\"/>\n",
       "      </g>\n",
       "     </g>\n",
       "     <g id=\"text_8\">\n",
       "      <!-- 7000 -->\n",
       "      <g transform=\"translate(288.915543 213.93669)scale(0.1 -0.1)\">\n",
       "       <defs>\n",
       "        <path d=\"M 8.203125 72.90625 \n",
       "L 55.078125 72.90625 \n",
       "L 55.078125 68.703125 \n",
       "L 28.609375 0 \n",
       "L 18.3125 0 \n",
       "L 43.21875 64.59375 \n",
       "L 8.203125 64.59375 \n",
       "z\n",
       "\" id=\"DejaVuSans-55\"/>\n",
       "       </defs>\n",
       "       <use xlink:href=\"#DejaVuSans-55\"/>\n",
       "       <use x=\"63.623047\" xlink:href=\"#DejaVuSans-48\"/>\n",
       "       <use x=\"127.246094\" xlink:href=\"#DejaVuSans-48\"/>\n",
       "       <use x=\"190.869141\" xlink:href=\"#DejaVuSans-48\"/>\n",
       "      </g>\n",
       "     </g>\n",
       "    </g>\n",
       "    <g id=\"xtick_9\">\n",
       "     <g id=\"line2d_9\">\n",
       "      <g>\n",
       "       <use style=\"stroke:#000000;stroke-width:0.8;\" x=\"339.065091\" xlink:href=\"#m81a4a15cca\" y=\"199.338253\"/>\n",
       "      </g>\n",
       "     </g>\n",
       "     <g id=\"text_9\">\n",
       "      <!-- 8000 -->\n",
       "      <g transform=\"translate(326.340091 213.93669)scale(0.1 -0.1)\">\n",
       "       <defs>\n",
       "        <path d=\"M 31.78125 34.625 \n",
       "Q 24.75 34.625 20.71875 30.859375 \n",
       "Q 16.703125 27.09375 16.703125 20.515625 \n",
       "Q 16.703125 13.921875 20.71875 10.15625 \n",
       "Q 24.75 6.390625 31.78125 6.390625 \n",
       "Q 38.8125 6.390625 42.859375 10.171875 \n",
       "Q 46.921875 13.96875 46.921875 20.515625 \n",
       "Q 46.921875 27.09375 42.890625 30.859375 \n",
       "Q 38.875 34.625 31.78125 34.625 \n",
       "z\n",
       "M 21.921875 38.8125 \n",
       "Q 15.578125 40.375 12.03125 44.71875 \n",
       "Q 8.5 49.078125 8.5 55.328125 \n",
       "Q 8.5 64.0625 14.71875 69.140625 \n",
       "Q 20.953125 74.21875 31.78125 74.21875 \n",
       "Q 42.671875 74.21875 48.875 69.140625 \n",
       "Q 55.078125 64.0625 55.078125 55.328125 \n",
       "Q 55.078125 49.078125 51.53125 44.71875 \n",
       "Q 48 40.375 41.703125 38.8125 \n",
       "Q 48.828125 37.15625 52.796875 32.3125 \n",
       "Q 56.78125 27.484375 56.78125 20.515625 \n",
       "Q 56.78125 9.90625 50.3125 4.234375 \n",
       "Q 43.84375 -1.421875 31.78125 -1.421875 \n",
       "Q 19.734375 -1.421875 13.25 4.234375 \n",
       "Q 6.78125 9.90625 6.78125 20.515625 \n",
       "Q 6.78125 27.484375 10.78125 32.3125 \n",
       "Q 14.796875 37.15625 21.921875 38.8125 \n",
       "z\n",
       "M 18.3125 54.390625 \n",
       "Q 18.3125 48.734375 21.84375 45.5625 \n",
       "Q 25.390625 42.390625 31.78125 42.390625 \n",
       "Q 38.140625 42.390625 41.71875 45.5625 \n",
       "Q 45.3125 48.734375 45.3125 54.390625 \n",
       "Q 45.3125 60.0625 41.71875 63.234375 \n",
       "Q 38.140625 66.40625 31.78125 66.40625 \n",
       "Q 25.390625 66.40625 21.84375 63.234375 \n",
       "Q 18.3125 60.0625 18.3125 54.390625 \n",
       "z\n",
       "\" id=\"DejaVuSans-56\"/>\n",
       "       </defs>\n",
       "       <use xlink:href=\"#DejaVuSans-56\"/>\n",
       "       <use x=\"63.623047\" xlink:href=\"#DejaVuSans-48\"/>\n",
       "       <use x=\"127.246094\" xlink:href=\"#DejaVuSans-48\"/>\n",
       "       <use x=\"190.869141\" xlink:href=\"#DejaVuSans-48\"/>\n",
       "      </g>\n",
       "     </g>\n",
       "    </g>\n",
       "   </g>\n",
       "   <g id=\"matplotlib.axis_2\">\n",
       "    <g id=\"ytick_1\">\n",
       "     <g id=\"line2d_10\">\n",
       "      <defs>\n",
       "       <path d=\"M 0 0 \n",
       "L -3.5 0 \n",
       "\" id=\"m68dc68d08f\" style=\"stroke:#000000;stroke-width:0.8;\"/>\n",
       "      </defs>\n",
       "      <g>\n",
       "       <use style=\"stroke:#000000;stroke-width:0.8;\" x=\"39.65\" xlink:href=\"#m68dc68d08f\" y=\"10.999219\"/>\n",
       "      </g>\n",
       "     </g>\n",
       "     <g id=\"text_10\">\n",
       "      <!-- 0 -->\n",
       "      <g transform=\"translate(26.2875 14.798438)scale(0.1 -0.1)\">\n",
       "       <use xlink:href=\"#DejaVuSans-48\"/>\n",
       "      </g>\n",
       "     </g>\n",
       "    </g>\n",
       "    <g id=\"ytick_2\">\n",
       "     <g id=\"line2d_11\">\n",
       "      <g>\n",
       "       <use style=\"stroke:#000000;stroke-width:0.8;\" x=\"39.65\" xlink:href=\"#m68dc68d08f\" y=\"48.423766\"/>\n",
       "      </g>\n",
       "     </g>\n",
       "     <g id=\"text_11\">\n",
       "      <!-- 1000 -->\n",
       "      <g transform=\"translate(7.2 52.222985)scale(0.1 -0.1)\">\n",
       "       <use xlink:href=\"#DejaVuSans-49\"/>\n",
       "       <use x=\"63.623047\" xlink:href=\"#DejaVuSans-48\"/>\n",
       "       <use x=\"127.246094\" xlink:href=\"#DejaVuSans-48\"/>\n",
       "       <use x=\"190.869141\" xlink:href=\"#DejaVuSans-48\"/>\n",
       "      </g>\n",
       "     </g>\n",
       "    </g>\n",
       "    <g id=\"ytick_3\">\n",
       "     <g id=\"line2d_12\">\n",
       "      <g>\n",
       "       <use style=\"stroke:#000000;stroke-width:0.8;\" x=\"39.65\" xlink:href=\"#m68dc68d08f\" y=\"85.848313\"/>\n",
       "      </g>\n",
       "     </g>\n",
       "     <g id=\"text_12\">\n",
       "      <!-- 2000 -->\n",
       "      <g transform=\"translate(7.2 89.647532)scale(0.1 -0.1)\">\n",
       "       <use xlink:href=\"#DejaVuSans-50\"/>\n",
       "       <use x=\"63.623047\" xlink:href=\"#DejaVuSans-48\"/>\n",
       "       <use x=\"127.246094\" xlink:href=\"#DejaVuSans-48\"/>\n",
       "       <use x=\"190.869141\" xlink:href=\"#DejaVuSans-48\"/>\n",
       "      </g>\n",
       "     </g>\n",
       "    </g>\n",
       "    <g id=\"ytick_4\">\n",
       "     <g id=\"line2d_13\">\n",
       "      <g>\n",
       "       <use style=\"stroke:#000000;stroke-width:0.8;\" x=\"39.65\" xlink:href=\"#m68dc68d08f\" y=\"123.272861\"/>\n",
       "      </g>\n",
       "     </g>\n",
       "     <g id=\"text_13\">\n",
       "      <!-- 3000 -->\n",
       "      <g transform=\"translate(7.2 127.072079)scale(0.1 -0.1)\">\n",
       "       <use xlink:href=\"#DejaVuSans-51\"/>\n",
       "       <use x=\"63.623047\" xlink:href=\"#DejaVuSans-48\"/>\n",
       "       <use x=\"127.246094\" xlink:href=\"#DejaVuSans-48\"/>\n",
       "       <use x=\"190.869141\" xlink:href=\"#DejaVuSans-48\"/>\n",
       "      </g>\n",
       "     </g>\n",
       "    </g>\n",
       "    <g id=\"ytick_5\">\n",
       "     <g id=\"line2d_14\">\n",
       "      <g>\n",
       "       <use style=\"stroke:#000000;stroke-width:0.8;\" x=\"39.65\" xlink:href=\"#m68dc68d08f\" y=\"160.697408\"/>\n",
       "      </g>\n",
       "     </g>\n",
       "     <g id=\"text_14\">\n",
       "      <!-- 4000 -->\n",
       "      <g transform=\"translate(7.2 164.496627)scale(0.1 -0.1)\">\n",
       "       <use xlink:href=\"#DejaVuSans-52\"/>\n",
       "       <use x=\"63.623047\" xlink:href=\"#DejaVuSans-48\"/>\n",
       "       <use x=\"127.246094\" xlink:href=\"#DejaVuSans-48\"/>\n",
       "       <use x=\"190.869141\" xlink:href=\"#DejaVuSans-48\"/>\n",
       "      </g>\n",
       "     </g>\n",
       "    </g>\n",
       "    <g id=\"ytick_6\">\n",
       "     <g id=\"line2d_15\">\n",
       "      <g>\n",
       "       <use style=\"stroke:#000000;stroke-width:0.8;\" x=\"39.65\" xlink:href=\"#m68dc68d08f\" y=\"198.121955\"/>\n",
       "      </g>\n",
       "     </g>\n",
       "     <g id=\"text_15\">\n",
       "      <!-- 5000 -->\n",
       "      <g transform=\"translate(7.2 201.921174)scale(0.1 -0.1)\">\n",
       "       <use xlink:href=\"#DejaVuSans-53\"/>\n",
       "       <use x=\"63.623047\" xlink:href=\"#DejaVuSans-48\"/>\n",
       "       <use x=\"127.246094\" xlink:href=\"#DejaVuSans-48\"/>\n",
       "       <use x=\"190.869141\" xlink:href=\"#DejaVuSans-48\"/>\n",
       "      </g>\n",
       "     </g>\n",
       "    </g>\n",
       "   </g>\n",
       "   <g id=\"patch_3\">\n",
       "    <path d=\"M 39.65 199.338253 \n",
       "L 39.65 10.980506 \n",
       "\" style=\"fill:none;stroke:#000000;stroke-linecap:square;stroke-linejoin:miter;stroke-width:0.8;\"/>\n",
       "   </g>\n",
       "   <g id=\"patch_4\">\n",
       "    <path d=\"M 374.45 199.338253 \n",
       "L 374.45 10.980506 \n",
       "\" style=\"fill:none;stroke:#000000;stroke-linecap:square;stroke-linejoin:miter;stroke-width:0.8;\"/>\n",
       "   </g>\n",
       "   <g id=\"patch_5\">\n",
       "    <path d=\"M 39.65 199.338253 \n",
       "L 374.45 199.338253 \n",
       "\" style=\"fill:none;stroke:#000000;stroke-linecap:square;stroke-linejoin:miter;stroke-width:0.8;\"/>\n",
       "   </g>\n",
       "   <g id=\"patch_6\">\n",
       "    <path d=\"M 39.65 10.980506 \n",
       "L 374.45 10.980506 \n",
       "\" style=\"fill:none;stroke:#000000;stroke-linecap:square;stroke-linejoin:miter;stroke-width:0.8;\"/>\n",
       "   </g>\n",
       "  </g>\n",
       " </g>\n",
       " <defs>\n",
       "  <clipPath id=\"p87b7a41e0b\">\n",
       "   <rect height=\"188.357746\" width=\"334.8\" x=\"39.65\" y=\"10.980506\"/>\n",
       "  </clipPath>\n",
       " </defs>\n",
       "</svg>\n"
      ],
      "text/plain": [
       "<Figure size 432x288 with 1 Axes>"
      ]
     },
     "metadata": {
      "needs_background": "light"
     },
     "output_type": "display_data"
    }
   ],
   "source": [
    "from matplotlib.pyplot import imshow\n",
    "\n",
    "imshow(reference);"
   ]
  },
  {
   "cell_type": "markdown",
   "metadata": {
    "slideshow": {
     "slide_type": "subslide"
    }
   },
   "source": [
    "### Histogram matching"
   ]
  },
  {
   "cell_type": "code",
   "execution_count": 76,
   "metadata": {
    "scrolled": true,
    "slideshow": {
     "slide_type": "subslide"
    }
   },
   "outputs": [
    {
     "data": {
      "image/svg+xml": [
       "<?xml version=\"1.0\" encoding=\"utf-8\" standalone=\"no\"?>\n",
       "<!DOCTYPE svg PUBLIC \"-//W3C//DTD SVG 1.1//EN\"\n",
       "  \"http://www.w3.org/Graphics/SVG/1.1/DTD/svg11.dtd\">\n",
       "<!-- Created with matplotlib (https://matplotlib.org/) -->\n",
       "<svg height=\"251.954944pt\" version=\"1.1\" viewBox=\"0 0 367.3723 251.954944\" width=\"367.3723pt\" xmlns=\"http://www.w3.org/2000/svg\" xmlns:xlink=\"http://www.w3.org/1999/xlink\">\n",
       " <metadata>\n",
       "  <rdf:RDF xmlns:cc=\"http://creativecommons.org/ns#\" xmlns:dc=\"http://purl.org/dc/elements/1.1/\" xmlns:rdf=\"http://www.w3.org/1999/02/22-rdf-syntax-ns#\">\n",
       "   <cc:Work>\n",
       "    <dc:type rdf:resource=\"http://purl.org/dc/dcmitype/StillImage\"/>\n",
       "    <dc:date>2020-09-10T10:59:21.116565</dc:date>\n",
       "    <dc:format>image/svg+xml</dc:format>\n",
       "    <dc:creator>\n",
       "     <cc:Agent>\n",
       "      <dc:title>Matplotlib v3.3.1, https://matplotlib.org/</dc:title>\n",
       "     </cc:Agent>\n",
       "    </dc:creator>\n",
       "   </cc:Work>\n",
       "  </rdf:RDF>\n",
       " </metadata>\n",
       " <defs>\n",
       "  <style type=\"text/css\">*{stroke-linecap:butt;stroke-linejoin:round;}</style>\n",
       " </defs>\n",
       " <g id=\"figure_1\">\n",
       "  <g id=\"patch_1\">\n",
       "   <path d=\"M 0 251.954944 \n",
       "L 367.3723 251.954944 \n",
       "L 367.3723 0 \n",
       "L 0 0 \n",
       "z\n",
       "\" style=\"fill:none;\"/>\n",
       "  </g>\n",
       "  <g id=\"axes_1\">\n",
       "   <g id=\"patch_2\">\n",
       "    <path d=\"M 33.2875 228.076819 \n",
       "L 360.1723 228.076819 \n",
       "L 360.1723 10.636819 \n",
       "L 33.2875 10.636819 \n",
       "z\n",
       "\" style=\"fill:#ffffff;\"/>\n",
       "   </g>\n",
       "   <g clip-path=\"url(#pf700cf63f2)\">\n",
       "    <image height=\"218\" id=\"image24117e54a7\" transform=\"scale(1 -1)translate(0 -218)\" width=\"327\" x=\"33.2875\" xlink:href=\"data:image/png;base64,\n",
       "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\" y=\"-10.076819\"/>\n",
       "   </g>\n",
       "   <g id=\"matplotlib.axis_1\">\n",
       "    <g id=\"xtick_1\">\n",
       "     <g id=\"line2d_1\">\n",
       "      <defs>\n",
       "       <path d=\"M 0 0 \n",
       "L 0 3.5 \n",
       "\" id=\"m1827d65d22\" style=\"stroke:#000000;stroke-width:0.8;\"/>\n",
       "      </defs>\n",
       "      <g>\n",
       "       <use style=\"stroke:#000000;stroke-width:0.8;\" x=\"33.6499\" xlink:href=\"#m1827d65d22\" y=\"228.076819\"/>\n",
       "      </g>\n",
       "     </g>\n",
       "     <g id=\"text_1\">\n",
       "      <!-- 0 -->\n",
       "      <g transform=\"translate(30.46865 242.675256)scale(0.1 -0.1)\">\n",
       "       <defs>\n",
       "        <path d=\"M 31.78125 66.40625 \n",
       "Q 24.171875 66.40625 20.328125 58.90625 \n",
       "Q 16.5 51.421875 16.5 36.375 \n",
       "Q 16.5 21.390625 20.328125 13.890625 \n",
       "Q 24.171875 6.390625 31.78125 6.390625 \n",
       "Q 39.453125 6.390625 43.28125 13.890625 \n",
       "Q 47.125 21.390625 47.125 36.375 \n",
       "Q 47.125 51.421875 43.28125 58.90625 \n",
       "Q 39.453125 66.40625 31.78125 66.40625 \n",
       "z\n",
       "M 31.78125 74.21875 \n",
       "Q 44.046875 74.21875 50.515625 64.515625 \n",
       "Q 56.984375 54.828125 56.984375 36.375 \n",
       "Q 56.984375 17.96875 50.515625 8.265625 \n",
       "Q 44.046875 -1.421875 31.78125 -1.421875 \n",
       "Q 19.53125 -1.421875 13.0625 8.265625 \n",
       "Q 6.59375 17.96875 6.59375 36.375 \n",
       "Q 6.59375 54.828125 13.0625 64.515625 \n",
       "Q 19.53125 74.21875 31.78125 74.21875 \n",
       "z\n",
       "\" id=\"DejaVuSans-48\"/>\n",
       "       </defs>\n",
       "       <use xlink:href=\"#DejaVuSans-48\"/>\n",
       "      </g>\n",
       "     </g>\n",
       "    </g>\n",
       "    <g id=\"xtick_2\">\n",
       "     <g id=\"line2d_2\">\n",
       "      <g>\n",
       "       <use style=\"stroke:#000000;stroke-width:0.8;\" x=\"106.1299\" xlink:href=\"#m1827d65d22\" y=\"228.076819\"/>\n",
       "      </g>\n",
       "     </g>\n",
       "     <g id=\"text_2\">\n",
       "      <!-- 100 -->\n",
       "      <g transform=\"translate(96.58615 242.675256)scale(0.1 -0.1)\">\n",
       "       <defs>\n",
       "        <path d=\"M 12.40625 8.296875 \n",
       "L 28.515625 8.296875 \n",
       "L 28.515625 63.921875 \n",
       "L 10.984375 60.40625 \n",
       "L 10.984375 69.390625 \n",
       "L 28.421875 72.90625 \n",
       "L 38.28125 72.90625 \n",
       "L 38.28125 8.296875 \n",
       "L 54.390625 8.296875 \n",
       "L 54.390625 0 \n",
       "L 12.40625 0 \n",
       "z\n",
       "\" id=\"DejaVuSans-49\"/>\n",
       "       </defs>\n",
       "       <use xlink:href=\"#DejaVuSans-49\"/>\n",
       "       <use x=\"63.623047\" xlink:href=\"#DejaVuSans-48\"/>\n",
       "       <use x=\"127.246094\" xlink:href=\"#DejaVuSans-48\"/>\n",
       "      </g>\n",
       "     </g>\n",
       "    </g>\n",
       "    <g id=\"xtick_3\">\n",
       "     <g id=\"line2d_3\">\n",
       "      <g>\n",
       "       <use style=\"stroke:#000000;stroke-width:0.8;\" x=\"178.6099\" xlink:href=\"#m1827d65d22\" y=\"228.076819\"/>\n",
       "      </g>\n",
       "     </g>\n",
       "     <g id=\"text_3\">\n",
       "      <!-- 200 -->\n",
       "      <g transform=\"translate(169.06615 242.675256)scale(0.1 -0.1)\">\n",
       "       <defs>\n",
       "        <path d=\"M 19.1875 8.296875 \n",
       "L 53.609375 8.296875 \n",
       "L 53.609375 0 \n",
       "L 7.328125 0 \n",
       "L 7.328125 8.296875 \n",
       "Q 12.9375 14.109375 22.625 23.890625 \n",
       "Q 32.328125 33.6875 34.8125 36.53125 \n",
       "Q 39.546875 41.84375 41.421875 45.53125 \n",
       "Q 43.3125 49.21875 43.3125 52.78125 \n",
       "Q 43.3125 58.59375 39.234375 62.25 \n",
       "Q 35.15625 65.921875 28.609375 65.921875 \n",
       "Q 23.96875 65.921875 18.8125 64.3125 \n",
       "Q 13.671875 62.703125 7.8125 59.421875 \n",
       "L 7.8125 69.390625 \n",
       "Q 13.765625 71.78125 18.9375 73 \n",
       "Q 24.125 74.21875 28.421875 74.21875 \n",
       "Q 39.75 74.21875 46.484375 68.546875 \n",
       "Q 53.21875 62.890625 53.21875 53.421875 \n",
       "Q 53.21875 48.921875 51.53125 44.890625 \n",
       "Q 49.859375 40.875 45.40625 35.40625 \n",
       "Q 44.1875 33.984375 37.640625 27.21875 \n",
       "Q 31.109375 20.453125 19.1875 8.296875 \n",
       "z\n",
       "\" id=\"DejaVuSans-50\"/>\n",
       "       </defs>\n",
       "       <use xlink:href=\"#DejaVuSans-50\"/>\n",
       "       <use x=\"63.623047\" xlink:href=\"#DejaVuSans-48\"/>\n",
       "       <use x=\"127.246094\" xlink:href=\"#DejaVuSans-48\"/>\n",
       "      </g>\n",
       "     </g>\n",
       "    </g>\n",
       "    <g id=\"xtick_4\">\n",
       "     <g id=\"line2d_4\">\n",
       "      <g>\n",
       "       <use style=\"stroke:#000000;stroke-width:0.8;\" x=\"251.0899\" xlink:href=\"#m1827d65d22\" y=\"228.076819\"/>\n",
       "      </g>\n",
       "     </g>\n",
       "     <g id=\"text_4\">\n",
       "      <!-- 300 -->\n",
       "      <g transform=\"translate(241.54615 242.675256)scale(0.1 -0.1)\">\n",
       "       <defs>\n",
       "        <path d=\"M 40.578125 39.3125 \n",
       "Q 47.65625 37.796875 51.625 33 \n",
       "Q 55.609375 28.21875 55.609375 21.1875 \n",
       "Q 55.609375 10.40625 48.1875 4.484375 \n",
       "Q 40.765625 -1.421875 27.09375 -1.421875 \n",
       "Q 22.515625 -1.421875 17.65625 -0.515625 \n",
       "Q 12.796875 0.390625 7.625 2.203125 \n",
       "L 7.625 11.71875 \n",
       "Q 11.71875 9.328125 16.59375 8.109375 \n",
       "Q 21.484375 6.890625 26.8125 6.890625 \n",
       "Q 36.078125 6.890625 40.9375 10.546875 \n",
       "Q 45.796875 14.203125 45.796875 21.1875 \n",
       "Q 45.796875 27.640625 41.28125 31.265625 \n",
       "Q 36.765625 34.90625 28.71875 34.90625 \n",
       "L 20.21875 34.90625 \n",
       "L 20.21875 43.015625 \n",
       "L 29.109375 43.015625 \n",
       "Q 36.375 43.015625 40.234375 45.921875 \n",
       "Q 44.09375 48.828125 44.09375 54.296875 \n",
       "Q 44.09375 59.90625 40.109375 62.90625 \n",
       "Q 36.140625 65.921875 28.71875 65.921875 \n",
       "Q 24.65625 65.921875 20.015625 65.03125 \n",
       "Q 15.375 64.15625 9.8125 62.3125 \n",
       "L 9.8125 71.09375 \n",
       "Q 15.4375 72.65625 20.34375 73.4375 \n",
       "Q 25.25 74.21875 29.59375 74.21875 \n",
       "Q 40.828125 74.21875 47.359375 69.109375 \n",
       "Q 53.90625 64.015625 53.90625 55.328125 \n",
       "Q 53.90625 49.265625 50.4375 45.09375 \n",
       "Q 46.96875 40.921875 40.578125 39.3125 \n",
       "z\n",
       "\" id=\"DejaVuSans-51\"/>\n",
       "       </defs>\n",
       "       <use xlink:href=\"#DejaVuSans-51\"/>\n",
       "       <use x=\"63.623047\" xlink:href=\"#DejaVuSans-48\"/>\n",
       "       <use x=\"127.246094\" xlink:href=\"#DejaVuSans-48\"/>\n",
       "      </g>\n",
       "     </g>\n",
       "    </g>\n",
       "    <g id=\"xtick_5\">\n",
       "     <g id=\"line2d_5\">\n",
       "      <g>\n",
       "       <use style=\"stroke:#000000;stroke-width:0.8;\" x=\"323.5699\" xlink:href=\"#m1827d65d22\" y=\"228.076819\"/>\n",
       "      </g>\n",
       "     </g>\n",
       "     <g id=\"text_5\">\n",
       "      <!-- 400 -->\n",
       "      <g transform=\"translate(314.02615 242.675256)scale(0.1 -0.1)\">\n",
       "       <defs>\n",
       "        <path d=\"M 37.796875 64.3125 \n",
       "L 12.890625 25.390625 \n",
       "L 37.796875 25.390625 \n",
       "z\n",
       "M 35.203125 72.90625 \n",
       "L 47.609375 72.90625 \n",
       "L 47.609375 25.390625 \n",
       "L 58.015625 25.390625 \n",
       "L 58.015625 17.1875 \n",
       "L 47.609375 17.1875 \n",
       "L 47.609375 0 \n",
       "L 37.796875 0 \n",
       "L 37.796875 17.1875 \n",
       "L 4.890625 17.1875 \n",
       "L 4.890625 26.703125 \n",
       "z\n",
       "\" id=\"DejaVuSans-52\"/>\n",
       "       </defs>\n",
       "       <use xlink:href=\"#DejaVuSans-52\"/>\n",
       "       <use x=\"63.623047\" xlink:href=\"#DejaVuSans-48\"/>\n",
       "       <use x=\"127.246094\" xlink:href=\"#DejaVuSans-48\"/>\n",
       "      </g>\n",
       "     </g>\n",
       "    </g>\n",
       "   </g>\n",
       "   <g id=\"matplotlib.axis_2\">\n",
       "    <g id=\"ytick_1\">\n",
       "     <g id=\"line2d_6\">\n",
       "      <defs>\n",
       "       <path d=\"M 0 0 \n",
       "L -3.5 0 \n",
       "\" id=\"m52ceff595a\" style=\"stroke:#000000;stroke-width:0.8;\"/>\n",
       "      </defs>\n",
       "      <g>\n",
       "       <use style=\"stroke:#000000;stroke-width:0.8;\" x=\"33.2875\" xlink:href=\"#m52ceff595a\" y=\"10.999219\"/>\n",
       "      </g>\n",
       "     </g>\n",
       "     <g id=\"text_6\">\n",
       "      <!-- 0 -->\n",
       "      <g transform=\"translate(19.925 14.798437)scale(0.1 -0.1)\">\n",
       "       <use xlink:href=\"#DejaVuSans-48\"/>\n",
       "      </g>\n",
       "     </g>\n",
       "    </g>\n",
       "    <g id=\"ytick_2\">\n",
       "     <g id=\"line2d_7\">\n",
       "      <g>\n",
       "       <use style=\"stroke:#000000;stroke-width:0.8;\" x=\"33.2875\" xlink:href=\"#m52ceff595a\" y=\"47.239219\"/>\n",
       "      </g>\n",
       "     </g>\n",
       "     <g id=\"text_7\">\n",
       "      <!-- 50 -->\n",
       "      <g transform=\"translate(13.5625 51.038437)scale(0.1 -0.1)\">\n",
       "       <defs>\n",
       "        <path d=\"M 10.796875 72.90625 \n",
       "L 49.515625 72.90625 \n",
       "L 49.515625 64.59375 \n",
       "L 19.828125 64.59375 \n",
       "L 19.828125 46.734375 \n",
       "Q 21.96875 47.46875 24.109375 47.828125 \n",
       "Q 26.265625 48.1875 28.421875 48.1875 \n",
       "Q 40.625 48.1875 47.75 41.5 \n",
       "Q 54.890625 34.8125 54.890625 23.390625 \n",
       "Q 54.890625 11.625 47.5625 5.09375 \n",
       "Q 40.234375 -1.421875 26.90625 -1.421875 \n",
       "Q 22.3125 -1.421875 17.546875 -0.640625 \n",
       "Q 12.796875 0.140625 7.71875 1.703125 \n",
       "L 7.71875 11.625 \n",
       "Q 12.109375 9.234375 16.796875 8.0625 \n",
       "Q 21.484375 6.890625 26.703125 6.890625 \n",
       "Q 35.15625 6.890625 40.078125 11.328125 \n",
       "Q 45.015625 15.765625 45.015625 23.390625 \n",
       "Q 45.015625 31 40.078125 35.4375 \n",
       "Q 35.15625 39.890625 26.703125 39.890625 \n",
       "Q 22.75 39.890625 18.8125 39.015625 \n",
       "Q 14.890625 38.140625 10.796875 36.28125 \n",
       "z\n",
       "\" id=\"DejaVuSans-53\"/>\n",
       "       </defs>\n",
       "       <use xlink:href=\"#DejaVuSans-53\"/>\n",
       "       <use x=\"63.623047\" xlink:href=\"#DejaVuSans-48\"/>\n",
       "      </g>\n",
       "     </g>\n",
       "    </g>\n",
       "    <g id=\"ytick_3\">\n",
       "     <g id=\"line2d_8\">\n",
       "      <g>\n",
       "       <use style=\"stroke:#000000;stroke-width:0.8;\" x=\"33.2875\" xlink:href=\"#m52ceff595a\" y=\"83.479219\"/>\n",
       "      </g>\n",
       "     </g>\n",
       "     <g id=\"text_8\">\n",
       "      <!-- 100 -->\n",
       "      <g transform=\"translate(7.2 87.278437)scale(0.1 -0.1)\">\n",
       "       <use xlink:href=\"#DejaVuSans-49\"/>\n",
       "       <use x=\"63.623047\" xlink:href=\"#DejaVuSans-48\"/>\n",
       "       <use x=\"127.246094\" xlink:href=\"#DejaVuSans-48\"/>\n",
       "      </g>\n",
       "     </g>\n",
       "    </g>\n",
       "    <g id=\"ytick_4\">\n",
       "     <g id=\"line2d_9\">\n",
       "      <g>\n",
       "       <use style=\"stroke:#000000;stroke-width:0.8;\" x=\"33.2875\" xlink:href=\"#m52ceff595a\" y=\"119.719219\"/>\n",
       "      </g>\n",
       "     </g>\n",
       "     <g id=\"text_9\">\n",
       "      <!-- 150 -->\n",
       "      <g transform=\"translate(7.2 123.518437)scale(0.1 -0.1)\">\n",
       "       <use xlink:href=\"#DejaVuSans-49\"/>\n",
       "       <use x=\"63.623047\" xlink:href=\"#DejaVuSans-53\"/>\n",
       "       <use x=\"127.246094\" xlink:href=\"#DejaVuSans-48\"/>\n",
       "      </g>\n",
       "     </g>\n",
       "    </g>\n",
       "    <g id=\"ytick_5\">\n",
       "     <g id=\"line2d_10\">\n",
       "      <g>\n",
       "       <use style=\"stroke:#000000;stroke-width:0.8;\" x=\"33.2875\" xlink:href=\"#m52ceff595a\" y=\"155.959219\"/>\n",
       "      </g>\n",
       "     </g>\n",
       "     <g id=\"text_10\">\n",
       "      <!-- 200 -->\n",
       "      <g transform=\"translate(7.2 159.758437)scale(0.1 -0.1)\">\n",
       "       <use xlink:href=\"#DejaVuSans-50\"/>\n",
       "       <use x=\"63.623047\" xlink:href=\"#DejaVuSans-48\"/>\n",
       "       <use x=\"127.246094\" xlink:href=\"#DejaVuSans-48\"/>\n",
       "      </g>\n",
       "     </g>\n",
       "    </g>\n",
       "    <g id=\"ytick_6\">\n",
       "     <g id=\"line2d_11\">\n",
       "      <g>\n",
       "       <use style=\"stroke:#000000;stroke-width:0.8;\" x=\"33.2875\" xlink:href=\"#m52ceff595a\" y=\"192.199219\"/>\n",
       "      </g>\n",
       "     </g>\n",
       "     <g id=\"text_11\">\n",
       "      <!-- 250 -->\n",
       "      <g transform=\"translate(7.2 195.998437)scale(0.1 -0.1)\">\n",
       "       <use xlink:href=\"#DejaVuSans-50\"/>\n",
       "       <use x=\"63.623047\" xlink:href=\"#DejaVuSans-53\"/>\n",
       "       <use x=\"127.246094\" xlink:href=\"#DejaVuSans-48\"/>\n",
       "      </g>\n",
       "     </g>\n",
       "    </g>\n",
       "   </g>\n",
       "   <g id=\"patch_3\">\n",
       "    <path d=\"M 33.2875 228.076819 \n",
       "L 33.2875 10.636819 \n",
       "\" style=\"fill:none;stroke:#000000;stroke-linecap:square;stroke-linejoin:miter;stroke-width:0.8;\"/>\n",
       "   </g>\n",
       "   <g id=\"patch_4\">\n",
       "    <path d=\"M 360.1723 228.076819 \n",
       "L 360.1723 10.636819 \n",
       "\" style=\"fill:none;stroke:#000000;stroke-linecap:square;stroke-linejoin:miter;stroke-width:0.8;\"/>\n",
       "   </g>\n",
       "   <g id=\"patch_5\">\n",
       "    <path d=\"M 33.2875 228.076819 \n",
       "L 360.1723 228.076819 \n",
       "\" style=\"fill:none;stroke:#000000;stroke-linecap:square;stroke-linejoin:miter;stroke-width:0.8;\"/>\n",
       "   </g>\n",
       "   <g id=\"patch_6\">\n",
       "    <path d=\"M 33.2875 10.636819 \n",
       "L 360.1723 10.636819 \n",
       "\" style=\"fill:none;stroke:#000000;stroke-linecap:square;stroke-linejoin:miter;stroke-width:0.8;\"/>\n",
       "   </g>\n",
       "  </g>\n",
       " </g>\n",
       " <defs>\n",
       "  <clipPath id=\"pf700cf63f2\">\n",
       "   <rect height=\"217.44\" width=\"326.8848\" x=\"33.2875\" y=\"10.636819\"/>\n",
       "  </clipPath>\n",
       " </defs>\n",
       "</svg>\n"
      ],
      "text/plain": [
       "<Figure size 432x288 with 1 Axes>"
      ]
     },
     "metadata": {
      "needs_background": "light"
     },
     "output_type": "display_data"
    }
   ],
   "source": [
    "from skimage.data import chelsea\n",
    "\n",
    "image = chelsea()\n",
    "imshow(image);"
   ]
  },
  {
   "cell_type": "markdown",
   "metadata": {
    "slideshow": {
     "slide_type": "subslide"
    }
   },
   "source": [
    "### Histogram matching: Singapore skyline cat\n",
    "\n",
    "This code will now color Chelsea the cat like the Singapore skyline:"
   ]
  },
  {
   "cell_type": "code",
   "execution_count": 77,
   "metadata": {
    "slideshow": {
     "slide_type": "fragment"
    }
   },
   "outputs": [],
   "source": [
    "from skimage.exposure import match_histograms\n",
    "\n",
    "matched = match_histograms(image, reference, multichannel=True)"
   ]
  },
  {
   "cell_type": "code",
   "execution_count": 78,
   "metadata": {
    "slideshow": {
     "slide_type": "fragment"
    }
   },
   "outputs": [
    {
     "data": {
      "image/svg+xml": [
       "<?xml version=\"1.0\" encoding=\"utf-8\" standalone=\"no\"?>\n",
       "<!DOCTYPE svg PUBLIC \"-//W3C//DTD SVG 1.1//EN\"\n",
       "  \"http://www.w3.org/Graphics/SVG/1.1/DTD/svg11.dtd\">\n",
       "<!-- Created with matplotlib (https://matplotlib.org/) -->\n",
       "<svg height=\"251.954944pt\" version=\"1.1\" viewBox=\"0 0 367.3723 251.954944\" width=\"367.3723pt\" xmlns=\"http://www.w3.org/2000/svg\" xmlns:xlink=\"http://www.w3.org/1999/xlink\">\n",
       " <metadata>\n",
       "  <rdf:RDF xmlns:cc=\"http://creativecommons.org/ns#\" xmlns:dc=\"http://purl.org/dc/elements/1.1/\" xmlns:rdf=\"http://www.w3.org/1999/02/22-rdf-syntax-ns#\">\n",
       "   <cc:Work>\n",
       "    <dc:type rdf:resource=\"http://purl.org/dc/dcmitype/StillImage\"/>\n",
       "    <dc:date>2020-09-10T10:59:23.915373</dc:date>\n",
       "    <dc:format>image/svg+xml</dc:format>\n",
       "    <dc:creator>\n",
       "     <cc:Agent>\n",
       "      <dc:title>Matplotlib v3.3.1, https://matplotlib.org/</dc:title>\n",
       "     </cc:Agent>\n",
       "    </dc:creator>\n",
       "   </cc:Work>\n",
       "  </rdf:RDF>\n",
       " </metadata>\n",
       " <defs>\n",
       "  <style type=\"text/css\">*{stroke-linecap:butt;stroke-linejoin:round;}</style>\n",
       " </defs>\n",
       " <g id=\"figure_1\">\n",
       "  <g id=\"patch_1\">\n",
       "   <path d=\"M 0 251.954944 \n",
       "L 367.3723 251.954944 \n",
       "L 367.3723 0 \n",
       "L 0 0 \n",
       "z\n",
       "\" style=\"fill:none;\"/>\n",
       "  </g>\n",
       "  <g id=\"axes_1\">\n",
       "   <g id=\"patch_2\">\n",
       "    <path d=\"M 33.2875 228.076819 \n",
       "L 360.1723 228.076819 \n",
       "L 360.1723 10.636819 \n",
       "L 33.2875 10.636819 \n",
       "z\n",
       "\" style=\"fill:#ffffff;\"/>\n",
       "   </g>\n",
       "   <g clip-path=\"url(#p796550b416)\">\n",
       "    <image height=\"218\" id=\"image09ace91f82\" transform=\"scale(1 -1)translate(0 -218)\" width=\"327\" x=\"33.2875\" xlink:href=\"data:image/png;base64,\n",
       "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\" y=\"-10.076819\"/>\n",
       "   </g>\n",
       "   <g id=\"matplotlib.axis_1\">\n",
       "    <g id=\"xtick_1\">\n",
       "     <g id=\"line2d_1\">\n",
       "      <defs>\n",
       "       <path d=\"M 0 0 \n",
       "L 0 3.5 \n",
       "\" id=\"mb9609eba8c\" style=\"stroke:#000000;stroke-width:0.8;\"/>\n",
       "      </defs>\n",
       "      <g>\n",
       "       <use style=\"stroke:#000000;stroke-width:0.8;\" x=\"33.6499\" xlink:href=\"#mb9609eba8c\" y=\"228.076819\"/>\n",
       "      </g>\n",
       "     </g>\n",
       "     <g id=\"text_1\">\n",
       "      <!-- 0 -->\n",
       "      <g transform=\"translate(30.46865 242.675256)scale(0.1 -0.1)\">\n",
       "       <defs>\n",
       "        <path d=\"M 31.78125 66.40625 \n",
       "Q 24.171875 66.40625 20.328125 58.90625 \n",
       "Q 16.5 51.421875 16.5 36.375 \n",
       "Q 16.5 21.390625 20.328125 13.890625 \n",
       "Q 24.171875 6.390625 31.78125 6.390625 \n",
       "Q 39.453125 6.390625 43.28125 13.890625 \n",
       "Q 47.125 21.390625 47.125 36.375 \n",
       "Q 47.125 51.421875 43.28125 58.90625 \n",
       "Q 39.453125 66.40625 31.78125 66.40625 \n",
       "z\n",
       "M 31.78125 74.21875 \n",
       "Q 44.046875 74.21875 50.515625 64.515625 \n",
       "Q 56.984375 54.828125 56.984375 36.375 \n",
       "Q 56.984375 17.96875 50.515625 8.265625 \n",
       "Q 44.046875 -1.421875 31.78125 -1.421875 \n",
       "Q 19.53125 -1.421875 13.0625 8.265625 \n",
       "Q 6.59375 17.96875 6.59375 36.375 \n",
       "Q 6.59375 54.828125 13.0625 64.515625 \n",
       "Q 19.53125 74.21875 31.78125 74.21875 \n",
       "z\n",
       "\" id=\"DejaVuSans-48\"/>\n",
       "       </defs>\n",
       "       <use xlink:href=\"#DejaVuSans-48\"/>\n",
       "      </g>\n",
       "     </g>\n",
       "    </g>\n",
       "    <g id=\"xtick_2\">\n",
       "     <g id=\"line2d_2\">\n",
       "      <g>\n",
       "       <use style=\"stroke:#000000;stroke-width:0.8;\" x=\"106.1299\" xlink:href=\"#mb9609eba8c\" y=\"228.076819\"/>\n",
       "      </g>\n",
       "     </g>\n",
       "     <g id=\"text_2\">\n",
       "      <!-- 100 -->\n",
       "      <g transform=\"translate(96.58615 242.675256)scale(0.1 -0.1)\">\n",
       "       <defs>\n",
       "        <path d=\"M 12.40625 8.296875 \n",
       "L 28.515625 8.296875 \n",
       "L 28.515625 63.921875 \n",
       "L 10.984375 60.40625 \n",
       "L 10.984375 69.390625 \n",
       "L 28.421875 72.90625 \n",
       "L 38.28125 72.90625 \n",
       "L 38.28125 8.296875 \n",
       "L 54.390625 8.296875 \n",
       "L 54.390625 0 \n",
       "L 12.40625 0 \n",
       "z\n",
       "\" id=\"DejaVuSans-49\"/>\n",
       "       </defs>\n",
       "       <use xlink:href=\"#DejaVuSans-49\"/>\n",
       "       <use x=\"63.623047\" xlink:href=\"#DejaVuSans-48\"/>\n",
       "       <use x=\"127.246094\" xlink:href=\"#DejaVuSans-48\"/>\n",
       "      </g>\n",
       "     </g>\n",
       "    </g>\n",
       "    <g id=\"xtick_3\">\n",
       "     <g id=\"line2d_3\">\n",
       "      <g>\n",
       "       <use style=\"stroke:#000000;stroke-width:0.8;\" x=\"178.6099\" xlink:href=\"#mb9609eba8c\" y=\"228.076819\"/>\n",
       "      </g>\n",
       "     </g>\n",
       "     <g id=\"text_3\">\n",
       "      <!-- 200 -->\n",
       "      <g transform=\"translate(169.06615 242.675256)scale(0.1 -0.1)\">\n",
       "       <defs>\n",
       "        <path d=\"M 19.1875 8.296875 \n",
       "L 53.609375 8.296875 \n",
       "L 53.609375 0 \n",
       "L 7.328125 0 \n",
       "L 7.328125 8.296875 \n",
       "Q 12.9375 14.109375 22.625 23.890625 \n",
       "Q 32.328125 33.6875 34.8125 36.53125 \n",
       "Q 39.546875 41.84375 41.421875 45.53125 \n",
       "Q 43.3125 49.21875 43.3125 52.78125 \n",
       "Q 43.3125 58.59375 39.234375 62.25 \n",
       "Q 35.15625 65.921875 28.609375 65.921875 \n",
       "Q 23.96875 65.921875 18.8125 64.3125 \n",
       "Q 13.671875 62.703125 7.8125 59.421875 \n",
       "L 7.8125 69.390625 \n",
       "Q 13.765625 71.78125 18.9375 73 \n",
       "Q 24.125 74.21875 28.421875 74.21875 \n",
       "Q 39.75 74.21875 46.484375 68.546875 \n",
       "Q 53.21875 62.890625 53.21875 53.421875 \n",
       "Q 53.21875 48.921875 51.53125 44.890625 \n",
       "Q 49.859375 40.875 45.40625 35.40625 \n",
       "Q 44.1875 33.984375 37.640625 27.21875 \n",
       "Q 31.109375 20.453125 19.1875 8.296875 \n",
       "z\n",
       "\" id=\"DejaVuSans-50\"/>\n",
       "       </defs>\n",
       "       <use xlink:href=\"#DejaVuSans-50\"/>\n",
       "       <use x=\"63.623047\" xlink:href=\"#DejaVuSans-48\"/>\n",
       "       <use x=\"127.246094\" xlink:href=\"#DejaVuSans-48\"/>\n",
       "      </g>\n",
       "     </g>\n",
       "    </g>\n",
       "    <g id=\"xtick_4\">\n",
       "     <g id=\"line2d_4\">\n",
       "      <g>\n",
       "       <use style=\"stroke:#000000;stroke-width:0.8;\" x=\"251.0899\" xlink:href=\"#mb9609eba8c\" y=\"228.076819\"/>\n",
       "      </g>\n",
       "     </g>\n",
       "     <g id=\"text_4\">\n",
       "      <!-- 300 -->\n",
       "      <g transform=\"translate(241.54615 242.675256)scale(0.1 -0.1)\">\n",
       "       <defs>\n",
       "        <path d=\"M 40.578125 39.3125 \n",
       "Q 47.65625 37.796875 51.625 33 \n",
       "Q 55.609375 28.21875 55.609375 21.1875 \n",
       "Q 55.609375 10.40625 48.1875 4.484375 \n",
       "Q 40.765625 -1.421875 27.09375 -1.421875 \n",
       "Q 22.515625 -1.421875 17.65625 -0.515625 \n",
       "Q 12.796875 0.390625 7.625 2.203125 \n",
       "L 7.625 11.71875 \n",
       "Q 11.71875 9.328125 16.59375 8.109375 \n",
       "Q 21.484375 6.890625 26.8125 6.890625 \n",
       "Q 36.078125 6.890625 40.9375 10.546875 \n",
       "Q 45.796875 14.203125 45.796875 21.1875 \n",
       "Q 45.796875 27.640625 41.28125 31.265625 \n",
       "Q 36.765625 34.90625 28.71875 34.90625 \n",
       "L 20.21875 34.90625 \n",
       "L 20.21875 43.015625 \n",
       "L 29.109375 43.015625 \n",
       "Q 36.375 43.015625 40.234375 45.921875 \n",
       "Q 44.09375 48.828125 44.09375 54.296875 \n",
       "Q 44.09375 59.90625 40.109375 62.90625 \n",
       "Q 36.140625 65.921875 28.71875 65.921875 \n",
       "Q 24.65625 65.921875 20.015625 65.03125 \n",
       "Q 15.375 64.15625 9.8125 62.3125 \n",
       "L 9.8125 71.09375 \n",
       "Q 15.4375 72.65625 20.34375 73.4375 \n",
       "Q 25.25 74.21875 29.59375 74.21875 \n",
       "Q 40.828125 74.21875 47.359375 69.109375 \n",
       "Q 53.90625 64.015625 53.90625 55.328125 \n",
       "Q 53.90625 49.265625 50.4375 45.09375 \n",
       "Q 46.96875 40.921875 40.578125 39.3125 \n",
       "z\n",
       "\" id=\"DejaVuSans-51\"/>\n",
       "       </defs>\n",
       "       <use xlink:href=\"#DejaVuSans-51\"/>\n",
       "       <use x=\"63.623047\" xlink:href=\"#DejaVuSans-48\"/>\n",
       "       <use x=\"127.246094\" xlink:href=\"#DejaVuSans-48\"/>\n",
       "      </g>\n",
       "     </g>\n",
       "    </g>\n",
       "    <g id=\"xtick_5\">\n",
       "     <g id=\"line2d_5\">\n",
       "      <g>\n",
       "       <use style=\"stroke:#000000;stroke-width:0.8;\" x=\"323.5699\" xlink:href=\"#mb9609eba8c\" y=\"228.076819\"/>\n",
       "      </g>\n",
       "     </g>\n",
       "     <g id=\"text_5\">\n",
       "      <!-- 400 -->\n",
       "      <g transform=\"translate(314.02615 242.675256)scale(0.1 -0.1)\">\n",
       "       <defs>\n",
       "        <path d=\"M 37.796875 64.3125 \n",
       "L 12.890625 25.390625 \n",
       "L 37.796875 25.390625 \n",
       "z\n",
       "M 35.203125 72.90625 \n",
       "L 47.609375 72.90625 \n",
       "L 47.609375 25.390625 \n",
       "L 58.015625 25.390625 \n",
       "L 58.015625 17.1875 \n",
       "L 47.609375 17.1875 \n",
       "L 47.609375 0 \n",
       "L 37.796875 0 \n",
       "L 37.796875 17.1875 \n",
       "L 4.890625 17.1875 \n",
       "L 4.890625 26.703125 \n",
       "z\n",
       "\" id=\"DejaVuSans-52\"/>\n",
       "       </defs>\n",
       "       <use xlink:href=\"#DejaVuSans-52\"/>\n",
       "       <use x=\"63.623047\" xlink:href=\"#DejaVuSans-48\"/>\n",
       "       <use x=\"127.246094\" xlink:href=\"#DejaVuSans-48\"/>\n",
       "      </g>\n",
       "     </g>\n",
       "    </g>\n",
       "   </g>\n",
       "   <g id=\"matplotlib.axis_2\">\n",
       "    <g id=\"ytick_1\">\n",
       "     <g id=\"line2d_6\">\n",
       "      <defs>\n",
       "       <path d=\"M 0 0 \n",
       "L -3.5 0 \n",
       "\" id=\"m44a80b7960\" style=\"stroke:#000000;stroke-width:0.8;\"/>\n",
       "      </defs>\n",
       "      <g>\n",
       "       <use style=\"stroke:#000000;stroke-width:0.8;\" x=\"33.2875\" xlink:href=\"#m44a80b7960\" y=\"10.999219\"/>\n",
       "      </g>\n",
       "     </g>\n",
       "     <g id=\"text_6\">\n",
       "      <!-- 0 -->\n",
       "      <g transform=\"translate(19.925 14.798437)scale(0.1 -0.1)\">\n",
       "       <use xlink:href=\"#DejaVuSans-48\"/>\n",
       "      </g>\n",
       "     </g>\n",
       "    </g>\n",
       "    <g id=\"ytick_2\">\n",
       "     <g id=\"line2d_7\">\n",
       "      <g>\n",
       "       <use style=\"stroke:#000000;stroke-width:0.8;\" x=\"33.2875\" xlink:href=\"#m44a80b7960\" y=\"47.239219\"/>\n",
       "      </g>\n",
       "     </g>\n",
       "     <g id=\"text_7\">\n",
       "      <!-- 50 -->\n",
       "      <g transform=\"translate(13.5625 51.038437)scale(0.1 -0.1)\">\n",
       "       <defs>\n",
       "        <path d=\"M 10.796875 72.90625 \n",
       "L 49.515625 72.90625 \n",
       "L 49.515625 64.59375 \n",
       "L 19.828125 64.59375 \n",
       "L 19.828125 46.734375 \n",
       "Q 21.96875 47.46875 24.109375 47.828125 \n",
       "Q 26.265625 48.1875 28.421875 48.1875 \n",
       "Q 40.625 48.1875 47.75 41.5 \n",
       "Q 54.890625 34.8125 54.890625 23.390625 \n",
       "Q 54.890625 11.625 47.5625 5.09375 \n",
       "Q 40.234375 -1.421875 26.90625 -1.421875 \n",
       "Q 22.3125 -1.421875 17.546875 -0.640625 \n",
       "Q 12.796875 0.140625 7.71875 1.703125 \n",
       "L 7.71875 11.625 \n",
       "Q 12.109375 9.234375 16.796875 8.0625 \n",
       "Q 21.484375 6.890625 26.703125 6.890625 \n",
       "Q 35.15625 6.890625 40.078125 11.328125 \n",
       "Q 45.015625 15.765625 45.015625 23.390625 \n",
       "Q 45.015625 31 40.078125 35.4375 \n",
       "Q 35.15625 39.890625 26.703125 39.890625 \n",
       "Q 22.75 39.890625 18.8125 39.015625 \n",
       "Q 14.890625 38.140625 10.796875 36.28125 \n",
       "z\n",
       "\" id=\"DejaVuSans-53\"/>\n",
       "       </defs>\n",
       "       <use xlink:href=\"#DejaVuSans-53\"/>\n",
       "       <use x=\"63.623047\" xlink:href=\"#DejaVuSans-48\"/>\n",
       "      </g>\n",
       "     </g>\n",
       "    </g>\n",
       "    <g id=\"ytick_3\">\n",
       "     <g id=\"line2d_8\">\n",
       "      <g>\n",
       "       <use style=\"stroke:#000000;stroke-width:0.8;\" x=\"33.2875\" xlink:href=\"#m44a80b7960\" y=\"83.479219\"/>\n",
       "      </g>\n",
       "     </g>\n",
       "     <g id=\"text_8\">\n",
       "      <!-- 100 -->\n",
       "      <g transform=\"translate(7.2 87.278437)scale(0.1 -0.1)\">\n",
       "       <use xlink:href=\"#DejaVuSans-49\"/>\n",
       "       <use x=\"63.623047\" xlink:href=\"#DejaVuSans-48\"/>\n",
       "       <use x=\"127.246094\" xlink:href=\"#DejaVuSans-48\"/>\n",
       "      </g>\n",
       "     </g>\n",
       "    </g>\n",
       "    <g id=\"ytick_4\">\n",
       "     <g id=\"line2d_9\">\n",
       "      <g>\n",
       "       <use style=\"stroke:#000000;stroke-width:0.8;\" x=\"33.2875\" xlink:href=\"#m44a80b7960\" y=\"119.719219\"/>\n",
       "      </g>\n",
       "     </g>\n",
       "     <g id=\"text_9\">\n",
       "      <!-- 150 -->\n",
       "      <g transform=\"translate(7.2 123.518437)scale(0.1 -0.1)\">\n",
       "       <use xlink:href=\"#DejaVuSans-49\"/>\n",
       "       <use x=\"63.623047\" xlink:href=\"#DejaVuSans-53\"/>\n",
       "       <use x=\"127.246094\" xlink:href=\"#DejaVuSans-48\"/>\n",
       "      </g>\n",
       "     </g>\n",
       "    </g>\n",
       "    <g id=\"ytick_5\">\n",
       "     <g id=\"line2d_10\">\n",
       "      <g>\n",
       "       <use style=\"stroke:#000000;stroke-width:0.8;\" x=\"33.2875\" xlink:href=\"#m44a80b7960\" y=\"155.959219\"/>\n",
       "      </g>\n",
       "     </g>\n",
       "     <g id=\"text_10\">\n",
       "      <!-- 200 -->\n",
       "      <g transform=\"translate(7.2 159.758437)scale(0.1 -0.1)\">\n",
       "       <use xlink:href=\"#DejaVuSans-50\"/>\n",
       "       <use x=\"63.623047\" xlink:href=\"#DejaVuSans-48\"/>\n",
       "       <use x=\"127.246094\" xlink:href=\"#DejaVuSans-48\"/>\n",
       "      </g>\n",
       "     </g>\n",
       "    </g>\n",
       "    <g id=\"ytick_6\">\n",
       "     <g id=\"line2d_11\">\n",
       "      <g>\n",
       "       <use style=\"stroke:#000000;stroke-width:0.8;\" x=\"33.2875\" xlink:href=\"#m44a80b7960\" y=\"192.199219\"/>\n",
       "      </g>\n",
       "     </g>\n",
       "     <g id=\"text_11\">\n",
       "      <!-- 250 -->\n",
       "      <g transform=\"translate(7.2 195.998437)scale(0.1 -0.1)\">\n",
       "       <use xlink:href=\"#DejaVuSans-50\"/>\n",
       "       <use x=\"63.623047\" xlink:href=\"#DejaVuSans-53\"/>\n",
       "       <use x=\"127.246094\" xlink:href=\"#DejaVuSans-48\"/>\n",
       "      </g>\n",
       "     </g>\n",
       "    </g>\n",
       "   </g>\n",
       "   <g id=\"patch_3\">\n",
       "    <path d=\"M 33.2875 228.076819 \n",
       "L 33.2875 10.636819 \n",
       "\" style=\"fill:none;stroke:#000000;stroke-linecap:square;stroke-linejoin:miter;stroke-width:0.8;\"/>\n",
       "   </g>\n",
       "   <g id=\"patch_4\">\n",
       "    <path d=\"M 360.1723 228.076819 \n",
       "L 360.1723 10.636819 \n",
       "\" style=\"fill:none;stroke:#000000;stroke-linecap:square;stroke-linejoin:miter;stroke-width:0.8;\"/>\n",
       "   </g>\n",
       "   <g id=\"patch_5\">\n",
       "    <path d=\"M 33.2875 228.076819 \n",
       "L 360.1723 228.076819 \n",
       "\" style=\"fill:none;stroke:#000000;stroke-linecap:square;stroke-linejoin:miter;stroke-width:0.8;\"/>\n",
       "   </g>\n",
       "   <g id=\"patch_6\">\n",
       "    <path d=\"M 33.2875 10.636819 \n",
       "L 360.1723 10.636819 \n",
       "\" style=\"fill:none;stroke:#000000;stroke-linecap:square;stroke-linejoin:miter;stroke-width:0.8;\"/>\n",
       "   </g>\n",
       "  </g>\n",
       " </g>\n",
       " <defs>\n",
       "  <clipPath id=\"p796550b416\">\n",
       "   <rect height=\"217.44\" width=\"326.8848\" x=\"33.2875\" y=\"10.636819\"/>\n",
       "  </clipPath>\n",
       " </defs>\n",
       "</svg>\n"
      ],
      "text/plain": [
       "<Figure size 432x288 with 1 Axes>"
      ]
     },
     "metadata": {
      "needs_background": "light"
     },
     "output_type": "display_data"
    }
   ],
   "source": [
    "imshow(matched);"
   ]
  },
  {
   "cell_type": "markdown",
   "metadata": {
    "slideshow": {
     "slide_type": "slide"
    }
   },
   "source": [
    "## One more thing: PyWeek\n",
    "\n",
    "Teams of children and teenagers compete each year in PyWeek to create a game using Python: https://pyweek.org\n",
    "\n",
    "<img src=\"pyweek_screenshot.png\" width=600>\n",
    "\n",
    "Many amazing games they've created are freely available for you to study, modify, and use for inspiration to create your own."
   ]
  },
  {
   "cell_type": "markdown",
   "metadata": {
    "slideshow": {
     "slide_type": "slide"
    }
   },
   "source": [
    "<img src=\"python_charmers_logo.svg\" width=300 style=\"float: right;\">\n",
    "\n",
    "## Thanks!\n",
    "\n",
    "Get in touch!\n",
    "\n",
    "- Ed Schofield\n",
    "- www.linkedin.com/in/edschofield0\n",
    "- ed@pythoncharmers.com\n",
    "- https://pythoncharmers.com"
   ]
  },
  {
   "cell_type": "markdown",
   "metadata": {
    "slideshow": {
     "slide_type": "fragment"
    }
   },
   "source": [
    "## Slides available at:\n",
    "- https://github.com/PythonCharmers/GirlsInTechConference2020"
   ]
  },
  {
   "cell_type": "markdown",
   "metadata": {
    "slideshow": {
     "slide_type": "notes"
    }
   },
   "source": [
    "\n",
    "Happy to send you the notebook & code for these demos."
   ]
  }
 ],
 "metadata": {
  "celltoolbar": "Slideshow",
  "kernelspec": {
   "display_name": "Python 3",
   "language": "python",
   "name": "python3"
  },
  "language_info": {
   "codemirror_mode": {
    "name": "ipython",
    "version": 3
   },
   "file_extension": ".py",
   "mimetype": "text/x-python",
   "name": "python",
   "nbconvert_exporter": "python",
   "pygments_lexer": "ipython3",
   "version": "3.8.5"
  },
  "rise": {
   "footer": "Girls in Tech Conference -- the Joy of Tech",
   "theme": "white"
  }
 },
 "nbformat": 4,
 "nbformat_minor": 4
}
